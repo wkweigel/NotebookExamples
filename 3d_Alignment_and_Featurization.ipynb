{
  "nbformat": 4,
  "nbformat_minor": 0,
  "metadata": {
    "colab": {
      "provenance": [],
      "authorship_tag": "ABX9TyO9jI8IBpo62s0MWWxSoNIw",
      "include_colab_link": true
    },
    "kernelspec": {
      "name": "python3",
      "display_name": "Python 3"
    },
    "language_info": {
      "name": "python"
    },
    "widgets": {
      "application/vnd.jupyter.widget-state+json": {
        "8fbf0476562f4d689252a506c5d24ac1": {
          "model_module": "@jupyter-widgets/controls",
          "model_name": "HBoxModel",
          "model_module_version": "1.5.0",
          "state": {
            "_dom_classes": [],
            "_model_module": "@jupyter-widgets/controls",
            "_model_module_version": "1.5.0",
            "_model_name": "HBoxModel",
            "_view_count": null,
            "_view_module": "@jupyter-widgets/controls",
            "_view_module_version": "1.5.0",
            "_view_name": "HBoxView",
            "box_style": "",
            "children": [
              "IPY_MODEL_1734d2a185a948ca90152dc2382547e6",
              "IPY_MODEL_e2cb0034a1464454926c6a9778c95628",
              "IPY_MODEL_2b70c5aa01fd4eecb1a97160eff3c0f8"
            ],
            "layout": "IPY_MODEL_57f59bf8423b4a518d84af32db318bda"
          }
        },
        "1734d2a185a948ca90152dc2382547e6": {
          "model_module": "@jupyter-widgets/controls",
          "model_name": "HTMLModel",
          "model_module_version": "1.5.0",
          "state": {
            "_dom_classes": [],
            "_model_module": "@jupyter-widgets/controls",
            "_model_module_version": "1.5.0",
            "_model_name": "HTMLModel",
            "_view_count": null,
            "_view_module": "@jupyter-widgets/controls",
            "_view_module_version": "1.5.0",
            "_view_name": "HTMLView",
            "description": "",
            "description_tooltip": null,
            "layout": "IPY_MODEL_8995a9cf73764a91b12a746286cee8c7",
            "placeholder": "​",
            "style": "IPY_MODEL_7af7396c50f8404fb25beb22b67cd7d4",
            "value": "Embedding 3d Conformers: 100%"
          }
        },
        "e2cb0034a1464454926c6a9778c95628": {
          "model_module": "@jupyter-widgets/controls",
          "model_name": "FloatProgressModel",
          "model_module_version": "1.5.0",
          "state": {
            "_dom_classes": [],
            "_model_module": "@jupyter-widgets/controls",
            "_model_module_version": "1.5.0",
            "_model_name": "FloatProgressModel",
            "_view_count": null,
            "_view_module": "@jupyter-widgets/controls",
            "_view_module_version": "1.5.0",
            "_view_name": "ProgressView",
            "bar_style": "success",
            "description": "",
            "description_tooltip": null,
            "layout": "IPY_MODEL_e36e6083047b4236ab83a22efe11eb1f",
            "max": 6,
            "min": 0,
            "orientation": "horizontal",
            "style": "IPY_MODEL_aba85f221a3743f985c6d5411c755203",
            "value": 6
          }
        },
        "2b70c5aa01fd4eecb1a97160eff3c0f8": {
          "model_module": "@jupyter-widgets/controls",
          "model_name": "HTMLModel",
          "model_module_version": "1.5.0",
          "state": {
            "_dom_classes": [],
            "_model_module": "@jupyter-widgets/controls",
            "_model_module_version": "1.5.0",
            "_model_name": "HTMLModel",
            "_view_count": null,
            "_view_module": "@jupyter-widgets/controls",
            "_view_module_version": "1.5.0",
            "_view_name": "HTMLView",
            "description": "",
            "description_tooltip": null,
            "layout": "IPY_MODEL_98edac940c664ccb9fb9bf1b4af3e318",
            "placeholder": "​",
            "style": "IPY_MODEL_6eacc509c00c4eb9be24d679079b4f63",
            "value": " 6/6 [00:39&lt;00:00,  5.94s/it]"
          }
        },
        "57f59bf8423b4a518d84af32db318bda": {
          "model_module": "@jupyter-widgets/base",
          "model_name": "LayoutModel",
          "model_module_version": "1.2.0",
          "state": {
            "_model_module": "@jupyter-widgets/base",
            "_model_module_version": "1.2.0",
            "_model_name": "LayoutModel",
            "_view_count": null,
            "_view_module": "@jupyter-widgets/base",
            "_view_module_version": "1.2.0",
            "_view_name": "LayoutView",
            "align_content": null,
            "align_items": null,
            "align_self": null,
            "border": null,
            "bottom": null,
            "display": null,
            "flex": null,
            "flex_flow": null,
            "grid_area": null,
            "grid_auto_columns": null,
            "grid_auto_flow": null,
            "grid_auto_rows": null,
            "grid_column": null,
            "grid_gap": null,
            "grid_row": null,
            "grid_template_areas": null,
            "grid_template_columns": null,
            "grid_template_rows": null,
            "height": null,
            "justify_content": null,
            "justify_items": null,
            "left": null,
            "margin": null,
            "max_height": null,
            "max_width": null,
            "min_height": null,
            "min_width": null,
            "object_fit": null,
            "object_position": null,
            "order": null,
            "overflow": null,
            "overflow_x": null,
            "overflow_y": null,
            "padding": null,
            "right": null,
            "top": null,
            "visibility": null,
            "width": null
          }
        },
        "8995a9cf73764a91b12a746286cee8c7": {
          "model_module": "@jupyter-widgets/base",
          "model_name": "LayoutModel",
          "model_module_version": "1.2.0",
          "state": {
            "_model_module": "@jupyter-widgets/base",
            "_model_module_version": "1.2.0",
            "_model_name": "LayoutModel",
            "_view_count": null,
            "_view_module": "@jupyter-widgets/base",
            "_view_module_version": "1.2.0",
            "_view_name": "LayoutView",
            "align_content": null,
            "align_items": null,
            "align_self": null,
            "border": null,
            "bottom": null,
            "display": null,
            "flex": null,
            "flex_flow": null,
            "grid_area": null,
            "grid_auto_columns": null,
            "grid_auto_flow": null,
            "grid_auto_rows": null,
            "grid_column": null,
            "grid_gap": null,
            "grid_row": null,
            "grid_template_areas": null,
            "grid_template_columns": null,
            "grid_template_rows": null,
            "height": null,
            "justify_content": null,
            "justify_items": null,
            "left": null,
            "margin": null,
            "max_height": null,
            "max_width": null,
            "min_height": null,
            "min_width": null,
            "object_fit": null,
            "object_position": null,
            "order": null,
            "overflow": null,
            "overflow_x": null,
            "overflow_y": null,
            "padding": null,
            "right": null,
            "top": null,
            "visibility": null,
            "width": null
          }
        },
        "7af7396c50f8404fb25beb22b67cd7d4": {
          "model_module": "@jupyter-widgets/controls",
          "model_name": "DescriptionStyleModel",
          "model_module_version": "1.5.0",
          "state": {
            "_model_module": "@jupyter-widgets/controls",
            "_model_module_version": "1.5.0",
            "_model_name": "DescriptionStyleModel",
            "_view_count": null,
            "_view_module": "@jupyter-widgets/base",
            "_view_module_version": "1.2.0",
            "_view_name": "StyleView",
            "description_width": ""
          }
        },
        "e36e6083047b4236ab83a22efe11eb1f": {
          "model_module": "@jupyter-widgets/base",
          "model_name": "LayoutModel",
          "model_module_version": "1.2.0",
          "state": {
            "_model_module": "@jupyter-widgets/base",
            "_model_module_version": "1.2.0",
            "_model_name": "LayoutModel",
            "_view_count": null,
            "_view_module": "@jupyter-widgets/base",
            "_view_module_version": "1.2.0",
            "_view_name": "LayoutView",
            "align_content": null,
            "align_items": null,
            "align_self": null,
            "border": null,
            "bottom": null,
            "display": null,
            "flex": null,
            "flex_flow": null,
            "grid_area": null,
            "grid_auto_columns": null,
            "grid_auto_flow": null,
            "grid_auto_rows": null,
            "grid_column": null,
            "grid_gap": null,
            "grid_row": null,
            "grid_template_areas": null,
            "grid_template_columns": null,
            "grid_template_rows": null,
            "height": null,
            "justify_content": null,
            "justify_items": null,
            "left": null,
            "margin": null,
            "max_height": null,
            "max_width": null,
            "min_height": null,
            "min_width": null,
            "object_fit": null,
            "object_position": null,
            "order": null,
            "overflow": null,
            "overflow_x": null,
            "overflow_y": null,
            "padding": null,
            "right": null,
            "top": null,
            "visibility": null,
            "width": null
          }
        },
        "aba85f221a3743f985c6d5411c755203": {
          "model_module": "@jupyter-widgets/controls",
          "model_name": "ProgressStyleModel",
          "model_module_version": "1.5.0",
          "state": {
            "_model_module": "@jupyter-widgets/controls",
            "_model_module_version": "1.5.0",
            "_model_name": "ProgressStyleModel",
            "_view_count": null,
            "_view_module": "@jupyter-widgets/base",
            "_view_module_version": "1.2.0",
            "_view_name": "StyleView",
            "bar_color": null,
            "description_width": ""
          }
        },
        "98edac940c664ccb9fb9bf1b4af3e318": {
          "model_module": "@jupyter-widgets/base",
          "model_name": "LayoutModel",
          "model_module_version": "1.2.0",
          "state": {
            "_model_module": "@jupyter-widgets/base",
            "_model_module_version": "1.2.0",
            "_model_name": "LayoutModel",
            "_view_count": null,
            "_view_module": "@jupyter-widgets/base",
            "_view_module_version": "1.2.0",
            "_view_name": "LayoutView",
            "align_content": null,
            "align_items": null,
            "align_self": null,
            "border": null,
            "bottom": null,
            "display": null,
            "flex": null,
            "flex_flow": null,
            "grid_area": null,
            "grid_auto_columns": null,
            "grid_auto_flow": null,
            "grid_auto_rows": null,
            "grid_column": null,
            "grid_gap": null,
            "grid_row": null,
            "grid_template_areas": null,
            "grid_template_columns": null,
            "grid_template_rows": null,
            "height": null,
            "justify_content": null,
            "justify_items": null,
            "left": null,
            "margin": null,
            "max_height": null,
            "max_width": null,
            "min_height": null,
            "min_width": null,
            "object_fit": null,
            "object_position": null,
            "order": null,
            "overflow": null,
            "overflow_x": null,
            "overflow_y": null,
            "padding": null,
            "right": null,
            "top": null,
            "visibility": null,
            "width": null
          }
        },
        "6eacc509c00c4eb9be24d679079b4f63": {
          "model_module": "@jupyter-widgets/controls",
          "model_name": "DescriptionStyleModel",
          "model_module_version": "1.5.0",
          "state": {
            "_model_module": "@jupyter-widgets/controls",
            "_model_module_version": "1.5.0",
            "_model_name": "DescriptionStyleModel",
            "_view_count": null,
            "_view_module": "@jupyter-widgets/base",
            "_view_module_version": "1.2.0",
            "_view_name": "StyleView",
            "description_width": ""
          }
        },
        "72f2a27bbf5d4c98af77656a0abd327b": {
          "model_module": "@jupyter-widgets/controls",
          "model_name": "HBoxModel",
          "model_module_version": "1.5.0",
          "state": {
            "_dom_classes": [],
            "_model_module": "@jupyter-widgets/controls",
            "_model_module_version": "1.5.0",
            "_model_name": "HBoxModel",
            "_view_count": null,
            "_view_module": "@jupyter-widgets/controls",
            "_view_module_version": "1.5.0",
            "_view_name": "HBoxView",
            "box_style": "",
            "children": [
              "IPY_MODEL_69f5e8675e804fd3a52d4b13893ff179",
              "IPY_MODEL_62738a09652c485b96c672fdd1562738",
              "IPY_MODEL_3c99c0d124114351937a7accbe0f2717"
            ],
            "layout": "IPY_MODEL_3e4dfbb8e66343dcb35bb0b014119a30"
          }
        },
        "69f5e8675e804fd3a52d4b13893ff179": {
          "model_module": "@jupyter-widgets/controls",
          "model_name": "HTMLModel",
          "model_module_version": "1.5.0",
          "state": {
            "_dom_classes": [],
            "_model_module": "@jupyter-widgets/controls",
            "_model_module_version": "1.5.0",
            "_model_name": "HTMLModel",
            "_view_count": null,
            "_view_module": "@jupyter-widgets/controls",
            "_view_module_version": "1.5.0",
            "_view_name": "HTMLView",
            "description": "",
            "description_tooltip": null,
            "layout": "IPY_MODEL_c403e38fec4849db85f8be9f5007279f",
            "placeholder": "​",
            "style": "IPY_MODEL_ebb25eed5e004f6b97af742765f83087",
            "value": "Appliying Forcefields: 100%"
          }
        },
        "62738a09652c485b96c672fdd1562738": {
          "model_module": "@jupyter-widgets/controls",
          "model_name": "FloatProgressModel",
          "model_module_version": "1.5.0",
          "state": {
            "_dom_classes": [],
            "_model_module": "@jupyter-widgets/controls",
            "_model_module_version": "1.5.0",
            "_model_name": "FloatProgressModel",
            "_view_count": null,
            "_view_module": "@jupyter-widgets/controls",
            "_view_module_version": "1.5.0",
            "_view_name": "ProgressView",
            "bar_style": "success",
            "description": "",
            "description_tooltip": null,
            "layout": "IPY_MODEL_f7af2f43aba54b2380f35eaf9cee01ad",
            "max": 6,
            "min": 0,
            "orientation": "horizontal",
            "style": "IPY_MODEL_26ec2b310d814d4fab656119c1d6337b",
            "value": 6
          }
        },
        "3c99c0d124114351937a7accbe0f2717": {
          "model_module": "@jupyter-widgets/controls",
          "model_name": "HTMLModel",
          "model_module_version": "1.5.0",
          "state": {
            "_dom_classes": [],
            "_model_module": "@jupyter-widgets/controls",
            "_model_module_version": "1.5.0",
            "_model_name": "HTMLModel",
            "_view_count": null,
            "_view_module": "@jupyter-widgets/controls",
            "_view_module_version": "1.5.0",
            "_view_name": "HTMLView",
            "description": "",
            "description_tooltip": null,
            "layout": "IPY_MODEL_bc8b1a324c9f4ea1a8b8a03973583252",
            "placeholder": "​",
            "style": "IPY_MODEL_3d0985f9f62246a7b9d9a58e8ea5a158",
            "value": " 6/6 [00:00&lt;00:00, 237.24it/s]"
          }
        },
        "3e4dfbb8e66343dcb35bb0b014119a30": {
          "model_module": "@jupyter-widgets/base",
          "model_name": "LayoutModel",
          "model_module_version": "1.2.0",
          "state": {
            "_model_module": "@jupyter-widgets/base",
            "_model_module_version": "1.2.0",
            "_model_name": "LayoutModel",
            "_view_count": null,
            "_view_module": "@jupyter-widgets/base",
            "_view_module_version": "1.2.0",
            "_view_name": "LayoutView",
            "align_content": null,
            "align_items": null,
            "align_self": null,
            "border": null,
            "bottom": null,
            "display": null,
            "flex": null,
            "flex_flow": null,
            "grid_area": null,
            "grid_auto_columns": null,
            "grid_auto_flow": null,
            "grid_auto_rows": null,
            "grid_column": null,
            "grid_gap": null,
            "grid_row": null,
            "grid_template_areas": null,
            "grid_template_columns": null,
            "grid_template_rows": null,
            "height": null,
            "justify_content": null,
            "justify_items": null,
            "left": null,
            "margin": null,
            "max_height": null,
            "max_width": null,
            "min_height": null,
            "min_width": null,
            "object_fit": null,
            "object_position": null,
            "order": null,
            "overflow": null,
            "overflow_x": null,
            "overflow_y": null,
            "padding": null,
            "right": null,
            "top": null,
            "visibility": null,
            "width": null
          }
        },
        "c403e38fec4849db85f8be9f5007279f": {
          "model_module": "@jupyter-widgets/base",
          "model_name": "LayoutModel",
          "model_module_version": "1.2.0",
          "state": {
            "_model_module": "@jupyter-widgets/base",
            "_model_module_version": "1.2.0",
            "_model_name": "LayoutModel",
            "_view_count": null,
            "_view_module": "@jupyter-widgets/base",
            "_view_module_version": "1.2.0",
            "_view_name": "LayoutView",
            "align_content": null,
            "align_items": null,
            "align_self": null,
            "border": null,
            "bottom": null,
            "display": null,
            "flex": null,
            "flex_flow": null,
            "grid_area": null,
            "grid_auto_columns": null,
            "grid_auto_flow": null,
            "grid_auto_rows": null,
            "grid_column": null,
            "grid_gap": null,
            "grid_row": null,
            "grid_template_areas": null,
            "grid_template_columns": null,
            "grid_template_rows": null,
            "height": null,
            "justify_content": null,
            "justify_items": null,
            "left": null,
            "margin": null,
            "max_height": null,
            "max_width": null,
            "min_height": null,
            "min_width": null,
            "object_fit": null,
            "object_position": null,
            "order": null,
            "overflow": null,
            "overflow_x": null,
            "overflow_y": null,
            "padding": null,
            "right": null,
            "top": null,
            "visibility": null,
            "width": null
          }
        },
        "ebb25eed5e004f6b97af742765f83087": {
          "model_module": "@jupyter-widgets/controls",
          "model_name": "DescriptionStyleModel",
          "model_module_version": "1.5.0",
          "state": {
            "_model_module": "@jupyter-widgets/controls",
            "_model_module_version": "1.5.0",
            "_model_name": "DescriptionStyleModel",
            "_view_count": null,
            "_view_module": "@jupyter-widgets/base",
            "_view_module_version": "1.2.0",
            "_view_name": "StyleView",
            "description_width": ""
          }
        },
        "f7af2f43aba54b2380f35eaf9cee01ad": {
          "model_module": "@jupyter-widgets/base",
          "model_name": "LayoutModel",
          "model_module_version": "1.2.0",
          "state": {
            "_model_module": "@jupyter-widgets/base",
            "_model_module_version": "1.2.0",
            "_model_name": "LayoutModel",
            "_view_count": null,
            "_view_module": "@jupyter-widgets/base",
            "_view_module_version": "1.2.0",
            "_view_name": "LayoutView",
            "align_content": null,
            "align_items": null,
            "align_self": null,
            "border": null,
            "bottom": null,
            "display": null,
            "flex": null,
            "flex_flow": null,
            "grid_area": null,
            "grid_auto_columns": null,
            "grid_auto_flow": null,
            "grid_auto_rows": null,
            "grid_column": null,
            "grid_gap": null,
            "grid_row": null,
            "grid_template_areas": null,
            "grid_template_columns": null,
            "grid_template_rows": null,
            "height": null,
            "justify_content": null,
            "justify_items": null,
            "left": null,
            "margin": null,
            "max_height": null,
            "max_width": null,
            "min_height": null,
            "min_width": null,
            "object_fit": null,
            "object_position": null,
            "order": null,
            "overflow": null,
            "overflow_x": null,
            "overflow_y": null,
            "padding": null,
            "right": null,
            "top": null,
            "visibility": null,
            "width": null
          }
        },
        "26ec2b310d814d4fab656119c1d6337b": {
          "model_module": "@jupyter-widgets/controls",
          "model_name": "ProgressStyleModel",
          "model_module_version": "1.5.0",
          "state": {
            "_model_module": "@jupyter-widgets/controls",
            "_model_module_version": "1.5.0",
            "_model_name": "ProgressStyleModel",
            "_view_count": null,
            "_view_module": "@jupyter-widgets/base",
            "_view_module_version": "1.2.0",
            "_view_name": "StyleView",
            "bar_color": null,
            "description_width": ""
          }
        },
        "bc8b1a324c9f4ea1a8b8a03973583252": {
          "model_module": "@jupyter-widgets/base",
          "model_name": "LayoutModel",
          "model_module_version": "1.2.0",
          "state": {
            "_model_module": "@jupyter-widgets/base",
            "_model_module_version": "1.2.0",
            "_model_name": "LayoutModel",
            "_view_count": null,
            "_view_module": "@jupyter-widgets/base",
            "_view_module_version": "1.2.0",
            "_view_name": "LayoutView",
            "align_content": null,
            "align_items": null,
            "align_self": null,
            "border": null,
            "bottom": null,
            "display": null,
            "flex": null,
            "flex_flow": null,
            "grid_area": null,
            "grid_auto_columns": null,
            "grid_auto_flow": null,
            "grid_auto_rows": null,
            "grid_column": null,
            "grid_gap": null,
            "grid_row": null,
            "grid_template_areas": null,
            "grid_template_columns": null,
            "grid_template_rows": null,
            "height": null,
            "justify_content": null,
            "justify_items": null,
            "left": null,
            "margin": null,
            "max_height": null,
            "max_width": null,
            "min_height": null,
            "min_width": null,
            "object_fit": null,
            "object_position": null,
            "order": null,
            "overflow": null,
            "overflow_x": null,
            "overflow_y": null,
            "padding": null,
            "right": null,
            "top": null,
            "visibility": null,
            "width": null
          }
        },
        "3d0985f9f62246a7b9d9a58e8ea5a158": {
          "model_module": "@jupyter-widgets/controls",
          "model_name": "DescriptionStyleModel",
          "model_module_version": "1.5.0",
          "state": {
            "_model_module": "@jupyter-widgets/controls",
            "_model_module_version": "1.5.0",
            "_model_name": "DescriptionStyleModel",
            "_view_count": null,
            "_view_module": "@jupyter-widgets/base",
            "_view_module_version": "1.2.0",
            "_view_name": "StyleView",
            "description_width": ""
          }
        }
      }
    }
  },
  "cells": [
    {
      "cell_type": "markdown",
      "metadata": {
        "id": "view-in-github",
        "colab_type": "text"
      },
      "source": [
        "<a href=\"https://colab.research.google.com/github/wkweigel/NotebookExamples/blob/main/3d_Alignment_and_Featurization.ipynb\" target=\"_parent\"><img src=\"https://colab.research.google.com/assets/colab-badge.svg\" alt=\"Open In Colab\"/></a>"
      ]
    },
    {
      "cell_type": "code",
      "execution_count": 1,
      "metadata": {
        "colab": {
          "base_uri": "https://localhost:8080/"
        },
        "id": "bTp5jmuXDyX-",
        "outputId": "a91be33d-e83b-46f3-8601-b50e53b64248"
      },
      "outputs": [
        {
          "output_type": "stream",
          "name": "stdout",
          "text": [
            "Collecting rdkit\n",
            "  Downloading rdkit-2023.9.2-cp310-cp310-manylinux_2_17_x86_64.manylinux2014_x86_64.whl (30.5 MB)\n",
            "\u001b[2K     \u001b[90m━━━━━━━━━━━━━━━━━━━━━━━━━━━━━━━━━━━━━━━━\u001b[0m \u001b[32m30.5/30.5 MB\u001b[0m \u001b[31m42.3 MB/s\u001b[0m eta \u001b[36m0:00:00\u001b[0m\n",
            "\u001b[?25hCollecting py3Dmol\n",
            "  Downloading py3Dmol-2.0.4-py2.py3-none-any.whl (12 kB)\n",
            "Requirement already satisfied: tqdm in /usr/local/lib/python3.10/dist-packages (4.66.1)\n",
            "Requirement already satisfied: numpy in /usr/local/lib/python3.10/dist-packages (from rdkit) (1.23.5)\n",
            "Requirement already satisfied: Pillow in /usr/local/lib/python3.10/dist-packages (from rdkit) (9.4.0)\n",
            "Installing collected packages: py3Dmol, rdkit\n",
            "Successfully installed py3Dmol-2.0.4 rdkit-2023.9.2\n"
          ]
        }
      ],
      "source": [
        "!pip install rdkit py3Dmol tqdm"
      ]
    },
    {
      "cell_type": "code",
      "source": [
        "from rdkit.Chem import AllChem, Draw, rdMolAlign, PandasTools, rdFMCS, rdMolDescriptors\n",
        "from rdkit import Chem\n",
        "from rdkit.Chem.Draw import IPythonConsole\n",
        "IPythonConsole.ipython_3d = True\n",
        "from rdkit import RDConfig\n",
        "from rdkit.Chem.FeatMaps import FeatMaps\n",
        "import numpy as np\n",
        "import pandas as pd\n",
        "import py3Dmol\n",
        "import time\n",
        "import os\n",
        "from tqdm.notebook import tqdm_notebook\n",
        "\n",
        "\n",
        "#Define a function to align a list of mols to a reference mol and visualize them\n",
        "def align_mols_to_ref(mols, ref_mol, mmff, mmff_ref):\n",
        "        # create a py3Dmol object to visualize the alignment\n",
        "        O3A_alignment = py3Dmol.view(width=800, height=600)\n",
        "        colors=('cyanCarbon',\n",
        "                'redCarbon',\n",
        "                'blueCarbon',\n",
        "                'aliceblueCarbon',\n",
        "                'greenCarbon',\n",
        "                'yellowCarbon',\n",
        "                'orangeCarbon',\n",
        "                'magentaCarbon',\n",
        "                'purpleCarbon',\n",
        "                'deeppinkCarbon')\n",
        "\n",
        "        # Iterate over the mols and check the alignment score for each conformation\n",
        "        for idx, mol in (enumerate(mols)):\n",
        "            tempscore = []\n",
        "            for conf_id in range(n_confs):\n",
        "                O3A = rdMolAlign.GetO3A(mol, ref_mol, mmff[idx], mmff_ref, conf_id, 0)\n",
        "                O3A.Align()\n",
        "                tempscore.append(O3A.Score())\n",
        "            bestscore = np.argmax(tempscore)\n",
        "\n",
        "            # Add the best scoring conformation to the viewer\n",
        "            IPythonConsole.addMolToView(mol,O3A_alignment,confId=int(bestscore))\n",
        "        # Iterate over the mols and set thier styles in the viewer\n",
        "        for idx, mol in enumerate(mols):\n",
        "            O3A_alignment.setStyle({'model':idx,}, {'stick':{'colorscheme':colors[idx%len(colors)]}})\n",
        "        O3A_alignment.zoomTo()\n",
        "        return O3A_alignment.show()\n",
        "\n",
        ""
      ],
      "metadata": {
        "id": "LeJEil_tECRP"
      },
      "execution_count": 2,
      "outputs": []
    },
    {
      "cell_type": "code",
      "source": [
        "# Import some example smiles\n",
        "smiles_file='https://raw.githubusercontent.com/wkweigel/NotebookExamples/main/Datasets/TestOlaparibLigands.csv'\n",
        "smiles_df = pd.read_csv(smiles_file)\n",
        "PandasTools.AddMoleculeColumnToFrame(smiles_df, \"Smiles\", \"Structure\")\n",
        "\n",
        "# Preview the compounds\n",
        "PandasTools.FrameToGridImage(smiles_df.head(8), column='Structure', legendsCol=\"ID\", molsPerRow=4)"
      ],
      "metadata": {
        "colab": {
          "base_uri": "https://localhost:8080/",
          "height": 417
        },
        "id": "9Yc3NY2MEMji",
        "outputId": "899afa1a-aa9b-4ab8-88ba-45d2477e201b"
      },
      "execution_count": 3,
      "outputs": [
        {
          "output_type": "execute_result",
          "data": {
            "image/png": "[encoded data removed]",
            "text/plain": [
              "<IPython.core.display.Image object>"
            ]
          },
          "metadata": {},
          "execution_count": 3
        }
      ]
    },
    {
      "cell_type": "code",
      "source": [],
      "metadata": {
        "id": "zvCf2iUgZfLD"
      },
      "execution_count": null,
      "outputs": []
    },
    {
      "cell_type": "code",
      "source": [
        "# make a new dataframe from the first 4 compounds that will be used for 3D featurization\n",
        "data_df=smiles_df.iloc[:6].copy()\n",
        "\n",
        "# specify the number of confirmations to use for the 3D alignment search\n",
        "n_confs=50\n",
        "\n",
        "# specify the conformer generator using a specific seed\n",
        "p = AllChem.ETKDGv3()\n",
        "p.randomSeed = 0xf00d\n",
        "\n",
        "# Convert the smiles to mols and add them to the data_df\n",
        "data_df[\"mols\"] = [Chem.MolFromSmiles(x) for x in data_df.Smiles]\n",
        "\n",
        "# Add H's to the mols for 3D embedding\n",
        "data_df[\"mols\"]=data_df[\"mols\"].apply(lambda mol:Chem.AddHs(mol))\n",
        "\n",
        "# Embed the mols using n conformations\n",
        "tqdm_notebook.pandas(desc=\"Embedding 3d Conformers\")\n",
        "data_df[\"mols\"].progress_apply(lambda mol:AllChem.EmbedMultipleConfs(mol, n_confs, p))\n",
        "\n",
        "# Add mmff to the data_df\n",
        "tqdm_notebook.pandas(desc=\"Appliying Forcefields\")\n",
        "data_df[\"mmff\"]=data_df[\"mols\"].progress_apply(lambda mol:AllChem.MMFFGetMoleculeProperties(mol))"
      ],
      "metadata": {
        "colab": {
          "base_uri": "https://localhost:8080/",
          "height": 81,
          "referenced_widgets": [
            "8fbf0476562f4d689252a506c5d24ac1",
            "1734d2a185a948ca90152dc2382547e6",
            "e2cb0034a1464454926c6a9778c95628",
            "2b70c5aa01fd4eecb1a97160eff3c0f8",
            "57f59bf8423b4a518d84af32db318bda",
            "8995a9cf73764a91b12a746286cee8c7",
            "7af7396c50f8404fb25beb22b67cd7d4",
            "e36e6083047b4236ab83a22efe11eb1f",
            "aba85f221a3743f985c6d5411c755203",
            "98edac940c664ccb9fb9bf1b4af3e318",
            "6eacc509c00c4eb9be24d679079b4f63",
            "72f2a27bbf5d4c98af77656a0abd327b",
            "69f5e8675e804fd3a52d4b13893ff179",
            "62738a09652c485b96c672fdd1562738",
            "3c99c0d124114351937a7accbe0f2717",
            "3e4dfbb8e66343dcb35bb0b014119a30",
            "c403e38fec4849db85f8be9f5007279f",
            "ebb25eed5e004f6b97af742765f83087",
            "f7af2f43aba54b2380f35eaf9cee01ad",
            "26ec2b310d814d4fab656119c1d6337b",
            "bc8b1a324c9f4ea1a8b8a03973583252",
            "3d0985f9f62246a7b9d9a58e8ea5a158"
          ]
        },
        "id": "HUJFG2kLEsLQ",
        "outputId": "7c6faa7f-b349-427f-98f2-646c01a07156"
      },
      "execution_count": 6,
      "outputs": [
        {
          "output_type": "display_data",
          "data": {
            "text/plain": [
              "Embedding 3d Conformers:   0%|          | 0/6 [00:00<?, ?it/s]"
            ],
            "application/vnd.jupyter.widget-view+json": {
              "version_major": 2,
              "version_minor": 0,
              "model_id": "8fbf0476562f4d689252a506c5d24ac1"
            }
          },
          "metadata": {}
        },
        {
          "output_type": "display_data",
          "data": {
            "text/plain": [
              "Appliying Forcefields:   0%|          | 0/6 [00:00<?, ?it/s]"
            ],
            "application/vnd.jupyter.widget-view+json": {
              "version_major": 2,
              "version_minor": 0,
              "model_id": "72f2a27bbf5d4c98af77656a0abd327b"
            }
          },
          "metadata": {}
        }
      ]
    },
    {
      "cell_type": "code",
      "source": [
        "# Define a prepare a reference molecule to use for alignment\n",
        "olaparib_smiles='O=C1NN=C(CC2=CC(C(N3CCN(C(C4CC4)=O)CC3)=O)=C(F)C=C2)C5=C1C=CC=C5'\n",
        "ref_mol= Chem.MolFromSmiles(olaparib_smiles)\n",
        "ref_mol=Chem.AddHs(ref_mol)\n",
        "AllChem.EmbedMultipleConfs(ref_mol, n_confs, p)\n",
        "mmff_ref = AllChem.MMFFGetMoleculeProperties(ref_mol)"
      ],
      "metadata": {
        "id": "Ft03u3czRaIY"
      },
      "execution_count": 7,
      "outputs": []
    },
    {
      "cell_type": "code",
      "source": [
        "# Align the mols in the data_df to olaparib and visualize the result\n",
        "align_mols_to_ref(data_df[\"mols\"], ref_mol, data_df[\"mmff\"], mmff_ref )"
      ],
      "metadata": {
        "colab": {
          "base_uri": "https://localhost:8080/",
          "height": 617
        },
        "id": "B6-1_ftuE4L0",
        "outputId": "00f76e35-2972-4633-fba4-e5c7c75b1a01"
      },
      "execution_count": 8,
      "outputs": [
        {
          "output_type": "display_data",
          "data": {
            "application/3dmoljs_load.v0": "<div id=\"3dmolviewer_17014564664875085\"  style=\"position: relative; width: 800px; height: 600px;\">\n        <p id=\"3dmolwarning_17014564664875085\" style=\"background-color:#ffcccc;color:black\">You appear to be running in JupyterLab (or JavaScript failed to load for some other reason).  You need to install the 3dmol extension: <br>\n        <tt>jupyter labextension install jupyterlab_3dmol</tt></p>\n        </div>\n<script>\n\nvar loadScriptAsync = function(uri){\n  return new Promise((resolve, reject) => {\n    //this is to ignore the existence of requirejs amd\n    var savedexports, savedmodule;\n    if (typeof exports !== 'undefined') savedexports = exports;\n    else exports = {}\n    if (typeof module !== 'undefined') savedmodule = module;\n    else module = {}\n\n    var tag = document.createElement('script');\n    tag.src = uri;\n    tag.async = true;\n    tag.onload = () => {\n        exports = savedexports;\n        module = savedmodule;\n        resolve();\n    };\n  var firstScriptTag = document.getElementsByTagName('script')[0];\n  firstScriptTag.parentNode.insertBefore(tag, firstScriptTag);\n});\n};\n\nif(typeof $3Dmolpromise === 'undefined') {\n$3Dmolpromise = null;\n  $3Dmolpromise = loadScriptAsync('https://cdnjs.cloudflare.com/ajax/libs/3Dmol/2.0.4/3Dmol-min.js');\n}\n\nvar viewer_17014564664875085 = null;\nvar warn = document.getElementById(\"3dmolwarning_17014564664875085\");\nif(warn) {\n    warn.parentNode.removeChild(warn);\n}\n$3Dmolpromise.then(function() {\nviewer_17014564664875085 = $3Dmol.createViewer(document.getElementById(\"3dmolviewer_17014564664875085\"),{backgroundColor:\"white\"});\nviewer_17014564664875085.zoomTo();\n\tviewer_17014564664875085.addModel(\"\\n     RDKit          3D\\n\\n 58 62  0  0  0  0  0  0  0  0999 V2000\\n   -8.0686   -0.4004    0.3950 O   0  0  0  0  0  0  0  0  0  0  0  0\\n   -6.8654   -0.1631    0.7192 C   0  0  0  0  0  0  0  0  0  0  0  0\\n   -6.5274    1.0287    1.2223 N   0  0  0  0  0  0  0  0  0  0  0  0\\n   -5.2699    1.2500    1.5512 N   0  0  0  0  0  0  0  0  0  0  0  0\\n   -4.2960    0.3166    1.4004 C   0  0  0  0  0  0  0  0  0  0  0  0\\n   -2.9092    0.6831    1.7508 C   0  0  0  0  0  0  0  0  0  0  0  0\\n   -2.2006    1.0748    0.5213 C   0  0  0  0  0  0  0  0  0  0  0  0\\n   -2.6040    2.2679   -0.0985 C   0  0  0  0  0  0  0  0  0  0  0  0\\n   -1.9991    2.7374   -1.2515 C   0  0  0  0  0  0  0  0  0  0  0  0\\n   -0.9651    2.0298   -1.8287 C   0  0  0  0  0  0  0  0  0  0  0  0\\n   -0.3539    2.4521   -2.9436 F   0  0  0  0  0  0  0  0  0  0  0  0\\n   -0.5390    0.8459   -1.2433 C   0  0  0  0  0  0  0  0  0  0  0  0\\n    0.5420    0.0772   -1.8441 C   0  0  0  0  0  0  0  0  0  0  0  0\\n    1.9083    0.2648   -1.5691 N   0  0  0  0  0  0  0  0  0  0  0  0\\n    2.3420    1.2696   -0.6373 C   0  0  0  0  0  0  0  0  0  0  0  0\\n    3.6662    0.7887   -0.0314 C   0  0  0  0  0  0  0  0  0  0  0  0\\n    4.6396    0.7175   -1.0886 N   0  0  0  0  0  0  0  0  0  0  0  0\\n    5.9850    1.0287   -0.9208 C   0  0  0  0  0  0  0  0  0  0  0  0\\n    6.5775    1.4553    0.3292 C   0  0  0  0  0  0  0  0  0  0  0  0\\n    6.0483    1.5798    1.5551 N   0  0  0  0  0  0  0  0  0  0  0  0\\n    6.9389    2.0071    2.4338 N   0  0  0  0  0  0  0  0  0  0  0  0\\n    8.1148    2.1844    1.8130 C   0  0  0  0  0  0  0  0  0  0  0  0\\n    9.4047    2.6602    2.4477 C   0  0  0  0  0  0  0  0  0  0  0  0\\n    7.9161    1.8493    0.5080 C   0  0  0  0  0  0  0  0  0  0  0  0\\n    6.7601    0.9323   -1.9387 O   0  0  0  0  0  0  0  0  0  0  0  0\\n    4.1704    0.2744   -2.4054 C   0  0  0  0  0  0  0  0  0  0  0  0\\n    2.9108   -0.5559   -2.2369 C   0  0  0  0  0  0  0  0  0  0  0  0\\n    0.2029   -0.8119   -2.6669 O   0  0  0  0  0  0  0  0  0  0  0  0\\n   -1.1782    0.4077   -0.0783 C   0  0  0  0  0  0  0  0  0  0  0  0\\n   -4.6321   -0.8990    0.8901 C   0  0  0  0  0  0  0  0  0  0  0  0\\n   -3.7029   -1.9097    0.7168 C   0  0  0  0  0  0  0  0  0  0  0  0\\n   -4.0360   -3.1538    0.2056 C   0  0  0  0  0  0  0  0  0  0  0  0\\n   -5.3488   -3.4224   -0.1547 C   0  0  0  0  0  0  0  0  0  0  0  0\\n   -6.2681   -2.4071    0.0242 C   0  0  0  0  0  0  0  0  0  0  0  0\\n   -5.9389   -1.1736    0.5317 C   0  0  0  0  0  0  0  0  0  0  0  0\\n   -7.2627    1.7535    1.3451 H   0  0  0  0  0  0  0  0  0  0  0  0\\n   -2.4017   -0.1389    2.2977 H   0  0  0  0  0  0  0  0  0  0  0  0\\n   -2.9232    1.5681    2.4375 H   0  0  0  0  0  0  0  0  0  0  0  0\\n   -3.4203    2.8523    0.3325 H   0  0  0  0  0  0  0  0  0  0  0  0\\n   -2.3511    3.6583   -1.6817 H   0  0  0  0  0  0  0  0  0  0  0  0\\n    2.5830    2.1863   -1.2126 H   0  0  0  0  0  0  0  0  0  0  0  0\\n    1.5948    1.4706    0.1584 H   0  0  0  0  0  0  0  0  0  0  0  0\\n    3.9382    1.3977    0.8322 H   0  0  0  0  0  0  0  0  0  0  0  0\\n    3.4759   -0.2896    0.2584 H   0  0  0  0  0  0  0  0  0  0  0  0\\n    6.7455    2.1761    3.4360 H   0  0  0  0  0  0  0  0  0  0  0  0\\n    9.8525    1.7967    2.9884 H   0  0  0  0  0  0  0  0  0  0  0  0\\n    9.2164    3.5347    3.0836 H   0  0  0  0  0  0  0  0  0  0  0  0\\n   10.1341    2.9270    1.6469 H   0  0  0  0  0  0  0  0  0  0  0  0\\n    8.6529    1.8713   -0.2852 H   0  0  0  0  0  0  0  0  0  0  0  0\\n    4.9682   -0.3948   -2.7776 H   0  0  0  0  0  0  0  0  0  0  0  0\\n    3.9399    1.1191   -3.0737 H   0  0  0  0  0  0  0  0  0  0  0  0\\n    2.5690   -0.9586   -3.1881 H   0  0  0  0  0  0  0  0  0  0  0  0\\n    3.1812   -1.3795   -1.5383 H   0  0  0  0  0  0  0  0  0  0  0  0\\n   -0.8214   -0.5135    0.3649 H   0  0  0  0  0  0  0  0  0  0  0  0\\n   -2.6867   -1.7449    0.9997 H   0  0  0  0  0  0  0  0  0  0  0  0\\n   -3.2564   -3.8888    0.1008 H   0  0  0  0  0  0  0  0  0  0  0  0\\n   -5.6444   -4.3756   -0.5541 H   0  0  0  0  0  0  0  0  0  0  0  0\\n   -7.3098   -2.6104   -0.2593 H   0  0  0  0  0  0  0  0  0  0  0  0\\n  1  2  2  0\\n  2  3  1  0\\n  3  4  1  0\\n  4  5  2  0\\n  5  6  1  0\\n  6  7  1  0\\n  7  8  2  0\\n  8  9  1  0\\n  9 10  2  0\\n 10 11  1  0\\n 10 12  1  0\\n 12 13  1  0\\n 13 14  1  0\\n 14 15  1  0\\n 15 16  1  0\\n 16 17  1  0\\n 17 18  1  0\\n 18 19  1  0\\n 19 20  2  0\\n 20 21  1  0\\n 21 22  1  0\\n 22 23  1  0\\n 22 24  2  0\\n 18 25  2  0\\n 17 26  1  0\\n 26 27  1  0\\n 13 28  2  0\\n 12 29  2  0\\n  5 30  1  0\\n 30 31  2  0\\n 31 32  1  0\\n 32 33  2  0\\n 33 34  1  0\\n 34 35  2  0\\n 35  2  1  0\\n 29  7  1  0\\n 27 14  1  0\\n 24 19  1  0\\n 35 30  1  0\\n  3 36  1  0\\n  6 37  1  0\\n  6 38  1  0\\n  8 39  1  0\\n  9 40  1  0\\n 15 41  1  0\\n 15 42  1  0\\n 16 43  1  0\\n 16 44  1  0\\n 21 45  1  0\\n 23 46  1  0\\n 23 47  1  0\\n 23 48  1  0\\n 24 49  1  0\\n 26 50  1  0\\n 26 51  1  0\\n 27 52  1  0\\n 27 53  1  0\\n 29 54  1  0\\n 31 55  1  0\\n 32 56  1  0\\n 33 57  1  0\\n 34 58  1  0\\nM  END\\n\",\"sdf\");\n\tviewer_17014564664875085.setStyle({\"stick\": {}});\n\tviewer_17014564664875085.addModel(\"\\n     RDKit          3D\\n\\n 68 73  0  0  0  0  0  0  0  0999 V2000\\n   -8.0954   -0.5869    0.3282 O   0  0  0  0  0  0  0  0  0  0  0  0\\n   -6.9144   -0.3056    0.6414 C   0  0  0  0  0  0  0  0  0  0  0  0\\n   -6.6071    0.9218    1.0656 N   0  0  0  0  0  0  0  0  0  0  0  0\\n   -5.3714    1.2508    1.4021 N   0  0  0  0  0  0  0  0  0  0  0  0\\n   -4.3374    0.3587    1.3362 C   0  0  0  0  0  0  0  0  0  0  0  0\\n   -2.9637    0.7874    1.6587 C   0  0  0  0  0  0  0  0  0  0  0  0\\n   -2.1956    1.2068    0.4688 C   0  0  0  0  0  0  0  0  0  0  0  0\\n   -2.5024    2.4669   -0.0529 C   0  0  0  0  0  0  0  0  0  0  0  0\\n   -1.8183    2.9273   -1.1495 C   0  0  0  0  0  0  0  0  0  0  0  0\\n   -0.8299    2.1747   -1.7546 C   0  0  0  0  0  0  0  0  0  0  0  0\\n   -0.1388    2.6102   -2.8404 F   0  0  0  0  0  0  0  0  0  0  0  0\\n   -0.5406    0.9380   -1.2285 C   0  0  0  0  0  0  0  0  0  0  0  0\\n    0.5006    0.1410   -1.8751 C   0  0  0  0  0  0  0  0  0  0  0  0\\n    1.8516    0.2220   -1.5160 N   0  0  0  0  0  0  0  0  0  0  0  0\\n    2.3546    1.0998   -0.4753 C   0  0  0  0  0  0  0  0  0  0  0  0\\n    3.8023    0.8272   -0.1374 C   0  0  0  0  0  0  0  0  0  0  0  0\\n    4.6352    0.7293   -1.3149 N   0  0  0  0  0  0  0  0  0  0  0  0\\n    5.9666    1.2194   -1.2555 C   0  0  0  0  0  0  0  0  0  0  0  0\\n    6.5441    1.8273   -0.0445 C   0  0  0  0  0  0  0  0  0  0  0  0\\n    7.9937    2.2376   -0.2697 C   0  0  0  0  0  0  0  0  0  0  0  0\\n    8.1022    3.2487   -1.3941 C   0  0  0  0  0  0  0  0  0  0  0  0\\n    8.9051    4.3517   -0.7433 C   0  0  0  0  0  0  0  0  0  0  0  0\\n   10.2409    3.7869   -0.3670 C   0  0  0  0  0  0  0  0  0  0  0  0\\n   10.0219    2.9322    0.8827 C   0  0  0  0  0  0  0  0  0  0  0  0\\n    8.5292    2.9149    0.9727 C   0  0  0  0  0  0  0  0  0  0  0  0\\n    8.2138    4.3828    0.6323 C   0  0  0  0  0  0  0  0  0  0  0  0\\n    6.6784    1.1263   -2.2876 O   0  0  0  0  0  0  0  0  0  0  0  0\\n    4.0850    0.1323   -2.5205 C   0  0  0  0  0  0  0  0  0  0  0  0\\n    2.8228   -0.6032   -2.2027 C   0  0  0  0  0  0  0  0  0  0  0  0\\n    0.1513   -0.6451   -2.7901 O   0  0  0  0  0  0  0  0  0  0  0  0\\n   -1.2207    0.4603   -0.1235 C   0  0  0  0  0  0  0  0  0  0  0  0\\n   -4.6307   -0.8925    0.9097 C   0  0  0  0  0  0  0  0  0  0  0  0\\n   -3.6961   -1.8960    0.8179 C   0  0  0  0  0  0  0  0  0  0  0  0\\n   -4.0137   -3.1683    0.3988 C   0  0  0  0  0  0  0  0  0  0  0  0\\n   -5.2933   -3.4986    0.0497 C   0  0  0  0  0  0  0  0  0  0  0  0\\n   -6.2495   -2.5319    0.1287 C   0  0  0  0  0  0  0  0  0  0  0  0\\n   -5.9317   -1.2694    0.5458 C   0  0  0  0  0  0  0  0  0  0  0  0\\n   -7.3593    1.6423    1.1351 H   0  0  0  0  0  0  0  0  0  0  0  0\\n   -2.3737   -0.0195    2.1764 H   0  0  0  0  0  0  0  0  0  0  0  0\\n   -3.0327    1.6854    2.3229 H   0  0  0  0  0  0  0  0  0  0  0  0\\n   -3.2863    3.0873    0.4101 H   0  0  0  0  0  0  0  0  0  0  0  0\\n   -2.0580    3.9042   -1.5528 H   0  0  0  0  0  0  0  0  0  0  0  0\\n    1.7426    0.9510    0.4274 H   0  0  0  0  0  0  0  0  0  0  0  0\\n    2.3027    2.1797   -0.7933 H   0  0  0  0  0  0  0  0  0  0  0  0\\n    4.1738    1.7003    0.4587 H   0  0  0  0  0  0  0  0  0  0  0  0\\n    3.9119   -0.0662    0.5131 H   0  0  0  0  0  0  0  0  0  0  0  0\\n    5.9530    2.6756    0.3320 H   0  0  0  0  0  0  0  0  0  0  0  0\\n    6.5851    1.0863    0.8087 H   0  0  0  0  0  0  0  0  0  0  0  0\\n    8.5731    1.3417   -0.5377 H   0  0  0  0  0  0  0  0  0  0  0  0\\n    7.1113    3.6041   -1.7199 H   0  0  0  0  0  0  0  0  0  0  0  0\\n    8.6162    2.8418   -2.2894 H   0  0  0  0  0  0  0  0  0  0  0  0\\n    8.8979    5.2983   -1.2444 H   0  0  0  0  0  0  0  0  0  0  0  0\\n   11.0250    4.5455   -0.1939 H   0  0  0  0  0  0  0  0  0  0  0  0\\n   10.5417    3.0586   -1.1745 H   0  0  0  0  0  0  0  0  0  0  0  0\\n   10.4959    1.9522    0.7995 H   0  0  0  0  0  0  0  0  0  0  0  0\\n   10.4219    3.5338    1.7450 H   0  0  0  0  0  0  0  0  0  0  0  0\\n    8.1120    2.5817    1.9020 H   0  0  0  0  0  0  0  0  0  0  0  0\\n    7.1398    4.5472    0.5299 H   0  0  0  0  0  0  0  0  0  0  0  0\\n    8.7407    5.0420    1.3210 H   0  0  0  0  0  0  0  0  0  0  0  0\\n    3.9360    0.8918   -3.3271 H   0  0  0  0  0  0  0  0  0  0  0  0\\n    4.8268   -0.5999   -2.9031 H   0  0  0  0  0  0  0  0  0  0  0  0\\n    2.3945   -0.9798   -3.1621 H   0  0  0  0  0  0  0  0  0  0  0  0\\n    3.0654   -1.4641   -1.5638 H   0  0  0  0  0  0  0  0  0  0  0  0\\n   -0.9261   -0.5166    0.2394 H   0  0  0  0  0  0  0  0  0  0  0  0\\n   -2.6780   -1.6872    1.1019 H   0  0  0  0  0  0  0  0  0  0  0  0\\n   -3.2099   -3.9072    0.3557 H   0  0  0  0  0  0  0  0  0  0  0  0\\n   -5.4974   -4.5242   -0.2788 H   0  0  0  0  0  0  0  0  0  0  0  0\\n   -7.2636   -2.7585   -0.1376 H   0  0  0  0  0  0  0  0  0  0  0  0\\n  1  2  2  0\\n  2  3  1  0\\n  3  4  1  0\\n  4  5  2  0\\n  5  6  1  0\\n  6  7  1  0\\n  7  8  2  0\\n  8  9  1  0\\n  9 10  2  0\\n 10 11  1  0\\n 10 12  1  0\\n 12 13  1  0\\n 13 14  1  0\\n 14 15  1  0\\n 15 16  1  0\\n 16 17  1  0\\n 17 18  1  0\\n 18 19  1  0\\n 19 20  1  0\\n 20 21  1  0\\n 21 22  1  0\\n 22 23  1  0\\n 23 24  1  0\\n 24 25  1  0\\n 25 26  1  0\\n 18 27  2  0\\n 17 28  1  0\\n 28 29  1  0\\n 13 30  2  0\\n 12 31  2  0\\n  5 32  1  0\\n 32 33  2  0\\n 33 34  1  0\\n 34 35  2  0\\n 35 36  1  0\\n 36 37  2  0\\n 37  2  1  0\\n 31  7  1  0\\n 29 14  1  0\\n 25 20  1  0\\n 26 22  1  0\\n 37 32  1  0\\n  3 38  1  0\\n  6 39  1  0\\n  6 40  1  0\\n  8 41  1  0\\n  9 42  1  0\\n 15 43  1  0\\n 15 44  1  0\\n 16 45  1  0\\n 16 46  1  0\\n 19 47  1  0\\n 19 48  1  0\\n 20 49  1  0\\n 21 50  1  0\\n 21 51  1  0\\n 22 52  1  0\\n 23 53  1  0\\n 23 54  1  0\\n 24 55  1  0\\n 24 56  1  0\\n 25 57  1  0\\n 26 58  1  0\\n 26 59  1  0\\n 28 60  1  0\\n 28 61  1  0\\n 29 62  1  0\\n 29 63  1  0\\n 31 64  1  0\\n 33 65  1  0\\n 34 66  1  0\\n 35 67  1  0\\n 36 68  1  0\\nM  END\\n\",\"sdf\");\n\tviewer_17014564664875085.setStyle({\"stick\": {}});\n\tviewer_17014564664875085.addModel(\"\\n     RDKit          3D\\n\\n 73 78  0  0  0  0  0  0  0  0999 V2000\\n   -8.0471   -0.6236    0.7312 O   0  0  0  0  0  0  0  0  0  0  0  0\\n   -6.8282   -0.3348    0.9183 C   0  0  0  0  0  0  0  0  0  0  0  0\\n   -6.4695    0.8821    1.3512 N   0  0  0  0  0  0  0  0  0  0  0  0\\n   -5.2173    1.1618    1.5368 N   0  0  0  0  0  0  0  0  0  0  0  0\\n   -4.1767    0.3021    1.3260 C   0  0  0  0  0  0  0  0  0  0  0  0\\n   -2.8009    0.7980    1.5311 C   0  0  0  0  0  0  0  0  0  0  0  0\\n   -2.1456    1.2801    0.2916 C   0  0  0  0  0  0  0  0  0  0  0  0\\n   -2.5529    2.5032   -0.2584 C   0  0  0  0  0  0  0  0  0  0  0  0\\n   -1.9268    2.9465   -1.3868 C   0  0  0  0  0  0  0  0  0  0  0  0\\n   -0.9131    2.2357   -2.0004 C   0  0  0  0  0  0  0  0  0  0  0  0\\n   -0.3274    2.7312   -3.1238 F   0  0  0  0  0  0  0  0  0  0  0  0\\n   -0.5169    1.0480   -1.4670 C   0  0  0  0  0  0  0  0  0  0  0  0\\n    0.5507    0.2981   -2.1150 C   0  0  0  0  0  0  0  0  0  0  0  0\\n    1.9069    0.4481   -1.7872 N   0  0  0  0  0  0  0  0  0  0  0  0\\n    2.9406   -0.3093   -2.4480 C   0  0  0  0  0  0  0  0  0  0  0  0\\n    3.5608   -1.1814   -1.3603 C   0  0  0  0  0  0  0  0  0  0  0  0\\n    4.0317   -0.3104   -0.3137 N   0  0  0  0  0  0  0  0  0  0  0  0\\n    5.3727   -0.3966    0.1333 C   0  0  0  0  0  0  0  0  0  0  0  0\\n    6.2786   -1.3721   -0.4699 C   0  0  0  0  0  0  0  0  0  0  0  0\\n    7.6488   -1.3593    0.0956 C   0  0  0  0  0  0  0  0  0  0  0  0\\n    8.3571   -0.0414   -0.0877 C   0  0  0  0  0  0  0  0  0  0  0  0\\n    8.4742    0.2635   -1.5524 C   0  0  0  0  0  0  0  0  0  0  0  0\\n    7.5312    0.9975   -2.2401 C   0  0  0  0  0  0  0  0  0  0  0  0\\n    7.6818    1.2520   -3.6024 C   0  0  0  0  0  0  0  0  0  0  0  0\\n    8.7663    0.7871   -4.3135 C   0  0  0  0  0  0  0  0  0  0  0  0\\n    8.9349    1.0300   -5.6699 O   0  0  0  0  0  0  0  0  0  0  0  0\\n    9.9043    0.2953   -6.3952 C   0  0  0  0  0  0  0  0  0  0  0  0\\n   11.1682    0.2715   -5.5395 C   0  0  0  0  0  0  0  0  0  0  0  0\\n   10.8186   -0.4272   -4.3364 O   0  0  0  0  0  0  0  0  0  0  0  0\\n    9.7138    0.0519   -3.6325 C   0  0  0  0  0  0  0  0  0  0  0  0\\n    9.5574   -0.1976   -2.2758 C   0  0  0  0  0  0  0  0  0  0  0  0\\n    5.7639    0.3628    1.0391 O   0  0  0  0  0  0  0  0  0  0  0  0\\n    3.1493    0.6526    0.3008 C   0  0  0  0  0  0  0  0  0  0  0  0\\n    2.3164    1.3641   -0.7558 C   0  0  0  0  0  0  0  0  0  0  0  0\\n    0.1546   -0.5200   -3.0182 O   0  0  0  0  0  0  0  0  0  0  0  0\\n   -1.1455    0.5863   -0.3191 C   0  0  0  0  0  0  0  0  0  0  0  0\\n   -4.5144   -0.9519    0.8840 C   0  0  0  0  0  0  0  0  0  0  0  0\\n   -3.5314   -1.8887    0.6617 C   0  0  0  0  0  0  0  0  0  0  0  0\\n   -3.8723   -3.1490    0.2306 C   0  0  0  0  0  0  0  0  0  0  0  0\\n   -5.2044   -3.4831    0.0185 C   0  0  0  0  0  0  0  0  0  0  0  0\\n   -6.1968   -2.5562    0.2385 C   0  0  0  0  0  0  0  0  0  0  0  0\\n   -5.8603   -1.2821    0.6741 C   0  0  0  0  0  0  0  0  0  0  0  0\\n   -7.2592    1.5673    1.5225 H   0  0  0  0  0  0  0  0  0  0  0  0\\n   -2.1616    0.0346    2.0496 H   0  0  0  0  0  0  0  0  0  0  0  0\\n   -2.8456    1.6598    2.2323 H   0  0  0  0  0  0  0  0  0  0  0  0\\n   -3.3494    3.0256    0.2549 H   0  0  0  0  0  0  0  0  0  0  0  0\\n   -2.2485    3.9033   -1.8140 H   0  0  0  0  0  0  0  0  0  0  0  0\\n    2.5734   -0.9133   -3.2925 H   0  0  0  0  0  0  0  0  0  0  0  0\\n    3.6954    0.4316   -2.8103 H   0  0  0  0  0  0  0  0  0  0  0  0\\n    2.7002   -1.7806   -0.9501 H   0  0  0  0  0  0  0  0  0  0  0  0\\n    4.3272   -1.8649   -1.7378 H   0  0  0  0  0  0  0  0  0  0  0  0\\n    6.3863   -1.2241   -1.5842 H   0  0  0  0  0  0  0  0  0  0  0  0\\n    5.8209   -2.3840   -0.3788 H   0  0  0  0  0  0  0  0  0  0  0  0\\n    7.7062   -1.7229    1.1433 H   0  0  0  0  0  0  0  0  0  0  0  0\\n    8.2412   -2.1302   -0.4845 H   0  0  0  0  0  0  0  0  0  0  0  0\\n    9.4214   -0.2341    0.2475 H   0  0  0  0  0  0  0  0  0  0  0  0\\n    7.9408    0.7938    0.4723 H   0  0  0  0  0  0  0  0  0  0  0  0\\n    6.6681    1.3844   -1.7326 H   0  0  0  0  0  0  0  0  0  0  0  0\\n    6.9519    1.8273   -4.1613 H   0  0  0  0  0  0  0  0  0  0  0  0\\n    9.5955   -0.7783   -6.4893 H   0  0  0  0  0  0  0  0  0  0  0  0\\n   10.0905    0.7145   -7.3889 H   0  0  0  0  0  0  0  0  0  0  0  0\\n   12.0145   -0.2339   -6.0443 H   0  0  0  0  0  0  0  0  0  0  0  0\\n   11.3730    1.3172   -5.2499 H   0  0  0  0  0  0  0  0  0  0  0  0\\n   10.3184   -0.7778   -1.7699 H   0  0  0  0  0  0  0  0  0  0  0  0\\n    3.7489    1.3950    0.8343 H   0  0  0  0  0  0  0  0  0  0  0  0\\n    2.4016    0.1478    0.9654 H   0  0  0  0  0  0  0  0  0  0  0  0\\n    1.4135    1.7573   -0.2509 H   0  0  0  0  0  0  0  0  0  0  0  0\\n    2.9705    2.1641   -1.1647 H   0  0  0  0  0  0  0  0  0  0  0  0\\n   -0.7808   -0.3579    0.0706 H   0  0  0  0  0  0  0  0  0  0  0  0\\n   -2.5083   -1.6413    0.8410 H   0  0  0  0  0  0  0  0  0  0  0  0\\n   -3.1571   -3.9360    0.0346 H   0  0  0  0  0  0  0  0  0  0  0  0\\n   -5.4749   -4.4630   -0.3175 H   0  0  0  0  0  0  0  0  0  0  0  0\\n   -7.2307   -2.8187    0.0731 H   0  0  0  0  0  0  0  0  0  0  0  0\\n  1  2  2  0\\n  2  3  1  0\\n  3  4  1  0\\n  4  5  2  0\\n  5  6  1  0\\n  6  7  1  0\\n  7  8  2  0\\n  8  9  1  0\\n  9 10  2  0\\n 10 11  1  0\\n 10 12  1  0\\n 12 13  1  0\\n 13 14  1  0\\n 14 15  1  0\\n 15 16  1  0\\n 16 17  1  0\\n 17 18  1  0\\n 18 19  1  0\\n 19 20  1  0\\n 20 21  1  0\\n 21 22  1  0\\n 22 23  2  0\\n 23 24  1  0\\n 24 25  2  0\\n 25 26  1  0\\n 26 27  1  0\\n 27 28  1  0\\n 28 29  1  0\\n 25 30  1  0\\n 30 31  2  0\\n 18 32  2  0\\n 17 33  1  0\\n 33 34  1  0\\n 13 35  2  0\\n 12 36  2  0\\n  5 37  1  0\\n 37 38  2  0\\n 38 39  1  0\\n 39 40  2  0\\n 40 41  1  0\\n 41 42  2  0\\n 42  2  1  0\\n 36  7  1  0\\n 34 14  1  0\\n 31 22  1  0\\n 30 29  1  0\\n 42 37  1  0\\n  3 43  1  0\\n  6 44  1  0\\n  6 45  1  0\\n  8 46  1  0\\n  9 47  1  0\\n 15 48  1  0\\n 15 49  1  0\\n 16 50  1  0\\n 16 51  1  0\\n 19 52  1  0\\n 19 53  1  0\\n 20 54  1  0\\n 20 55  1  0\\n 21 56  1  0\\n 21 57  1  0\\n 23 58  1  0\\n 24 59  1  0\\n 27 60  1  0\\n 27 61  1  0\\n 28 62  1  0\\n 28 63  1  0\\n 31 64  1  0\\n 33 65  1  0\\n 33 66  1  0\\n 34 67  1  0\\n 34 68  1  0\\n 36 69  1  0\\n 38 70  1  0\\n 39 71  1  0\\n 40 72  1  0\\n 41 73  1  0\\nM  END\\n\",\"sdf\");\n\tviewer_17014564664875085.setStyle({\"stick\": {}});\n\tviewer_17014564664875085.addModel(\"\\n     RDKit          3D\\n\\n 70 75  0  0  0  0  0  0  0  0999 V2000\\n   -8.2261   -0.5263    0.5540 O   0  0  0  0  0  0  0  0  0  0  0  0\\n   -7.0192   -0.2639    0.7899 C   0  0  0  0  0  0  0  0  0  0  0  0\\n   -6.6505    0.9485    1.2299 N   0  0  0  0  0  0  0  0  0  0  0  0\\n   -5.3960    1.2595    1.4868 N   0  0  0  0  0  0  0  0  0  0  0  0\\n   -4.3709    0.3664    1.3233 C   0  0  0  0  0  0  0  0  0  0  0  0\\n   -2.9954    0.7818    1.5820 C   0  0  0  0  0  0  0  0  0  0  0  0\\n   -2.2253    1.1911    0.3806 C   0  0  0  0  0  0  0  0  0  0  0  0\\n   -2.5498    2.4181   -0.1720 C   0  0  0  0  0  0  0  0  0  0  0  0\\n   -1.8725    2.8831   -1.2749 C   0  0  0  0  0  0  0  0  0  0  0  0\\n   -0.8466    2.1341   -1.8621 C   0  0  0  0  0  0  0  0  0  0  0  0\\n   -0.2436    2.6811   -2.9437 F   0  0  0  0  0  0  0  0  0  0  0  0\\n   -0.5237    0.9203   -1.3172 C   0  0  0  0  0  0  0  0  0  0  0  0\\n    0.5485    0.1487   -1.9373 C   0  0  0  0  0  0  0  0  0  0  0  0\\n    1.8937    0.2466   -1.5733 N   0  0  0  0  0  0  0  0  0  0  0  0\\n    2.3442    1.1424   -0.5255 C   0  0  0  0  0  0  0  0  0  0  0  0\\n    3.5759    0.6044    0.1723 C   0  0  0  0  0  0  0  0  0  0  0  0\\n    4.5868    0.1789   -0.7396 N   0  0  0  0  0  0  0  0  0  0  0  0\\n    5.9022   -0.0980   -0.2341 C   0  0  0  0  0  0  0  0  0  0  0  0\\n    6.9908   -0.5396   -1.1178 C   0  0  0  0  0  0  0  0  0  0  0  0\\n    8.2881   -0.7594   -0.4533 C   0  0  0  0  0  0  0  0  0  0  0  0\\n    8.9212    0.3657    0.2235 C   0  0  0  0  0  0  0  0  0  0  0  0\\n    8.8936    0.6600    1.5562 C   0  0  0  0  0  0  0  0  0  0  0  0\\n    9.5294    1.7943    2.0726 C   0  0  0  0  0  0  0  0  0  0  0  0\\n   10.2095    2.6599    1.2615 C   0  0  0  0  0  0  0  0  0  0  0  0\\n   10.2526    2.3802   -0.1026 C   0  0  0  0  0  0  0  0  0  0  0  0\\n   10.9579    3.2965   -0.8658 O   0  0  0  0  0  0  0  0  0  0  0  0\\n   11.9185    4.1850   -0.3833 C   0  0  0  0  0  0  0  0  0  0  0  0\\n   12.0169    4.2915    1.1012 C   0  0  0  0  0  0  0  0  0  0  0  0\\n   10.8535    3.7969    1.7389 O   0  0  0  0  0  0  0  0  0  0  0  0\\n    9.6237    1.2649   -0.5914 C   0  0  0  0  0  0  0  0  0  0  0  0\\n    6.1047    0.0452    0.9857 O   0  0  0  0  0  0  0  0  0  0  0  0\\n    4.2577    0.0390   -2.1403 C   0  0  0  0  0  0  0  0  0  0  0  0\\n    2.8857   -0.5598   -2.2478 C   0  0  0  0  0  0  0  0  0  0  0  0\\n    0.2256   -0.6594   -2.8649 O   0  0  0  0  0  0  0  0  0  0  0  0\\n   -1.2162    0.4706   -0.2082 C   0  0  0  0  0  0  0  0  0  0  0  0\\n   -4.7317   -0.8699    0.8780 C   0  0  0  0  0  0  0  0  0  0  0  0\\n   -3.8101   -1.8485    0.6896 C   0  0  0  0  0  0  0  0  0  0  0  0\\n   -4.1271   -3.1280    0.2468 C   0  0  0  0  0  0  0  0  0  0  0  0\\n   -5.4270   -3.4566   -0.0235 C   0  0  0  0  0  0  0  0  0  0  0  0\\n   -6.3759   -2.4873    0.1598 C   0  0  0  0  0  0  0  0  0  0  0  0\\n   -6.0587   -1.2105    0.6022 C   0  0  0  0  0  0  0  0  0  0  0  0\\n   -7.3968    1.6593    1.3683 H   0  0  0  0  0  0  0  0  0  0  0  0\\n   -3.0395    1.7109    2.2273 H   0  0  0  0  0  0  0  0  0  0  0  0\\n   -2.4235    0.0663    2.2136 H   0  0  0  0  0  0  0  0  0  0  0  0\\n   -3.3358    3.0085    0.2656 H   0  0  0  0  0  0  0  0  0  0  0  0\\n   -2.1388    3.8404   -1.6914 H   0  0  0  0  0  0  0  0  0  0  0  0\\n    2.5121    2.1610   -0.8881 H   0  0  0  0  0  0  0  0  0  0  0  0\\n    1.5401    1.1845    0.2403 H   0  0  0  0  0  0  0  0  0  0  0  0\\n    3.2848   -0.1537    0.9237 H   0  0  0  0  0  0  0  0  0  0  0  0\\n    3.9978    1.4711    0.7596 H   0  0  0  0  0  0  0  0  0  0  0  0\\n    7.0583    0.0814   -2.0449 H   0  0  0  0  0  0  0  0  0  0  0  0\\n    6.6535   -1.5483   -1.5240 H   0  0  0  0  0  0  0  0  0  0  0  0\\n    9.0611   -1.1543   -1.1862 H   0  0  0  0  0  0  0  0  0  0  0  0\\n    8.1721   -1.5687    0.3287 H   0  0  0  0  0  0  0  0  0  0  0  0\\n    8.4034    0.0251    2.2476 H   0  0  0  0  0  0  0  0  0  0  0  0\\n    9.4927    2.0057    3.1301 H   0  0  0  0  0  0  0  0  0  0  0  0\\n   11.6677    5.1919   -0.8221 H   0  0  0  0  0  0  0  0  0  0  0  0\\n   12.9510    3.9459   -0.7723 H   0  0  0  0  0  0  0  0  0  0  0  0\\n   12.1340    5.3713    1.3736 H   0  0  0  0  0  0  0  0  0  0  0  0\\n   12.8680    3.6870    1.4647 H   0  0  0  0  0  0  0  0  0  0  0  0\\n    9.6798    1.0828   -1.6544 H   0  0  0  0  0  0  0  0  0  0  0  0\\n    4.2492    1.0161   -2.6606 H   0  0  0  0  0  0  0  0  0  0  0  0\\n    4.9565   -0.6195   -2.6879 H   0  0  0  0  0  0  0  0  0  0  0  0\\n    2.8535   -1.6204   -1.9411 H   0  0  0  0  0  0  0  0  0  0  0  0\\n    2.5932   -0.5577   -3.3375 H   0  0  0  0  0  0  0  0  0  0  0  0\\n   -0.9278   -0.4855    0.2030 H   0  0  0  0  0  0  0  0  0  0  0  0\\n   -2.7933   -1.6489    0.8992 H   0  0  0  0  0  0  0  0  0  0  0  0\\n   -3.3779   -3.8937    0.1025 H   0  0  0  0  0  0  0  0  0  0  0  0\\n   -5.7271   -4.4270   -0.3679 H   0  0  0  0  0  0  0  0  0  0  0  0\\n   -7.4352   -2.6937   -0.0409 H   0  0  0  0  0  0  0  0  0  0  0  0\\n  1  2  2  0\\n  2  3  1  0\\n  3  4  1  0\\n  4  5  2  0\\n  5  6  1  0\\n  6  7  1  0\\n  7  8  2  0\\n  8  9  1  0\\n  9 10  2  0\\n 10 11  1  0\\n 10 12  1  0\\n 12 13  1  0\\n 13 14  1  0\\n 14 15  1  0\\n 15 16  1  0\\n 16 17  1  0\\n 17 18  1  0\\n 18 19  1  0\\n 19 20  1  0\\n 20 21  1  0\\n 21 22  2  0\\n 22 23  1  0\\n 23 24  2  0\\n 24 25  1  0\\n 25 26  1  0\\n 26 27  1  0\\n 27 28  1  0\\n 28 29  1  0\\n 25 30  2  0\\n 18 31  2  0\\n 17 32  1  0\\n 32 33  1  0\\n 13 34  2  0\\n 12 35  2  0\\n  5 36  1  0\\n 36 37  2  0\\n 37 38  1  0\\n 38 39  2  0\\n 39 40  1  0\\n 40 41  2  0\\n 41  2  1  0\\n 35  7  1  0\\n 33 14  1  0\\n 30 21  1  0\\n 29 24  1  0\\n 41 36  1  0\\n  3 42  1  0\\n  6 43  1  0\\n  6 44  1  0\\n  8 45  1  0\\n  9 46  1  0\\n 15 47  1  0\\n 15 48  1  0\\n 16 49  1  0\\n 16 50  1  0\\n 19 51  1  0\\n 19 52  1  0\\n 20 53  1  0\\n 20 54  1  0\\n 22 55  1  0\\n 23 56  1  0\\n 27 57  1  0\\n 27 58  1  0\\n 28 59  1  0\\n 28 60  1  0\\n 30 61  1  0\\n 32 62  1  0\\n 32 63  1  0\\n 33 64  1  0\\n 33 65  1  0\\n 35 66  1  0\\n 37 67  1  0\\n 38 68  1  0\\n 39 69  1  0\\n 40 70  1  0\\nM  END\\n\",\"sdf\");\n\tviewer_17014564664875085.setStyle({\"stick\": {}});\n\tviewer_17014564664875085.addModel(\"\\n     RDKit          3D\\n\\n 67 72  0  0  0  0  0  0  0  0999 V2000\\n   -8.0814   -0.5011    0.6158 O   0  0  0  0  0  0  0  0  0  0  0  0\\n   -6.8731   -0.2408    0.8420 C   0  0  0  0  0  0  0  0  0  0  0  0\\n   -6.4490    0.9567    1.2790 N   0  0  0  0  0  0  0  0  0  0  0  0\\n   -5.2040    1.2426    1.5170 N   0  0  0  0  0  0  0  0  0  0  0  0\\n   -4.1883    0.3347    1.3416 C   0  0  0  0  0  0  0  0  0  0  0  0\\n   -2.7913    0.7600    1.5899 C   0  0  0  0  0  0  0  0  0  0  0  0\\n   -2.1117    1.1686    0.3456 C   0  0  0  0  0  0  0  0  0  0  0  0\\n   -2.4937    2.4131   -0.1850 C   0  0  0  0  0  0  0  0  0  0  0  0\\n   -1.8894    2.8643   -1.3248 C   0  0  0  0  0  0  0  0  0  0  0  0\\n   -0.9093    2.1375   -1.9808 C   0  0  0  0  0  0  0  0  0  0  0  0\\n   -0.3627    2.6648   -3.1097 F   0  0  0  0  0  0  0  0  0  0  0  0\\n   -0.5275    0.9251   -1.4759 C   0  0  0  0  0  0  0  0  0  0  0  0\\n    0.4901    0.1334   -2.1200 C   0  0  0  0  0  0  0  0  0  0  0  0\\n    1.8597    0.3018   -1.7437 N   0  0  0  0  0  0  0  0  0  0  0  0\\n    2.2058    1.2583   -0.7262 C   0  0  0  0  0  0  0  0  0  0  0  0\\n    3.3280    0.7620    0.1724 C   0  0  0  0  0  0  0  0  0  0  0  0\\n    4.4031    0.2039   -0.6423 N   0  0  0  0  0  0  0  0  0  0  0  0\\n    5.5880   -0.2196   -0.0052 C   0  0  0  0  0  0  0  0  0  0  0  0\\n    5.7306   -0.0987    1.4604 C   0  0  0  0  0  0  0  0  0  0  0  0\\n    7.0482   -0.5916    1.9264 C   0  0  0  0  0  0  0  0  0  0  0  0\\n    7.2042   -1.9141    2.2764 C   0  0  0  0  0  0  0  0  0  0  0  0\\n    8.4194   -2.4002    2.7149 C   0  0  0  0  0  0  0  0  0  0  0  0\\n    9.5119   -1.5688    2.8133 C   0  0  0  0  0  0  0  0  0  0  0  0\\n   10.7569   -2.0273    3.2533 O   0  0  0  0  0  0  0  0  0  0  0  0\\n   11.9226   -1.2357    3.1800 C   0  0  0  0  0  0  0  0  0  0  0  0\\n   11.5364    0.1947    3.4885 C   0  0  0  0  0  0  0  0  0  0  0  0\\n   10.5035    0.5634    2.5814 O   0  0  0  0  0  0  0  0  0  0  0  0\\n    9.3793   -0.2388    2.4676 C   0  0  0  0  0  0  0  0  0  0  0  0\\n    8.1530    0.2260    2.0312 C   0  0  0  0  0  0  0  0  0  0  0  0\\n    6.5196   -0.7044   -0.7331 O   0  0  0  0  0  0  0  0  0  0  0  0\\n    4.2334    0.0962   -2.0880 C   0  0  0  0  0  0  0  0  0  0  0  0\\n    2.8869   -0.4803   -2.3749 C   0  0  0  0  0  0  0  0  0  0  0  0\\n    0.2171   -0.7041   -3.0050 O   0  0  0  0  0  0  0  0  0  0  0  0\\n   -1.1431    0.4739   -0.3213 C   0  0  0  0  0  0  0  0  0  0  0  0\\n   -4.5838   -0.8936    0.8994 C   0  0  0  0  0  0  0  0  0  0  0  0\\n   -3.6448   -1.8829    0.7066 C   0  0  0  0  0  0  0  0  0  0  0  0\\n   -3.9929   -3.1485    0.2706 C   0  0  0  0  0  0  0  0  0  0  0  0\\n   -5.3010   -3.4333    0.0231 C   0  0  0  0  0  0  0  0  0  0  0  0\\n   -6.2560   -2.4629    0.2096 C   0  0  0  0  0  0  0  0  0  0  0  0\\n   -5.9101   -1.2161    0.6398 C   0  0  0  0  0  0  0  0  0  0  0  0\\n   -7.1919    1.7020    1.4334 H   0  0  0  0  0  0  0  0  0  0  0  0\\n   -2.8256    1.6389    2.2709 H   0  0  0  0  0  0  0  0  0  0  0  0\\n   -2.2258   -0.0321    2.1357 H   0  0  0  0  0  0  0  0  0  0  0  0\\n   -3.2544    2.9931    0.3114 H   0  0  0  0  0  0  0  0  0  0  0  0\\n   -2.1993    3.8240   -1.7147 H   0  0  0  0  0  0  0  0  0  0  0  0\\n    1.3389    1.4626   -0.0858 H   0  0  0  0  0  0  0  0  0  0  0  0\\n    2.5097    2.1949   -1.2336 H   0  0  0  0  0  0  0  0  0  0  0  0\\n    3.6860    1.6284    0.7651 H   0  0  0  0  0  0  0  0  0  0  0  0\\n    2.9800   -0.0137    0.8602 H   0  0  0  0  0  0  0  0  0  0  0  0\\n    5.5749    0.9828    1.7103 H   0  0  0  0  0  0  0  0  0  0  0  0\\n    4.8918   -0.6341    1.9934 H   0  0  0  0  0  0  0  0  0  0  0  0\\n    6.3768   -2.6072    2.2167 H   0  0  0  0  0  0  0  0  0  0  0  0\\n    8.5427   -3.4294    2.9875 H   0  0  0  0  0  0  0  0  0  0  0  0\\n   12.3902   -1.3197    2.1999 H   0  0  0  0  0  0  0  0  0  0  0  0\\n   12.6208   -1.5609    3.9735 H   0  0  0  0  0  0  0  0  0  0  0  0\\n   12.4407    0.8183    3.3242 H   0  0  0  0  0  0  0  0  0  0  0  0\\n   11.2087    0.3277    4.5188 H   0  0  0  0  0  0  0  0  0  0  0  0\\n    8.0618    1.2574    1.7661 H   0  0  0  0  0  0  0  0  0  0  0  0\\n    4.2992    1.1140   -2.5291 H   0  0  0  0  0  0  0  0  0  0  0  0\\n    5.0516   -0.5119   -2.5346 H   0  0  0  0  0  0  0  0  0  0  0  0\\n    2.8575   -1.5422   -2.0322 H   0  0  0  0  0  0  0  0  0  0  0  0\\n    2.7187   -0.4003   -3.4699 H   0  0  0  0  0  0  0  0  0  0  0  0\\n   -0.8218   -0.4768    0.0670 H   0  0  0  0  0  0  0  0  0  0  0  0\\n   -2.6204   -1.6386    0.9253 H   0  0  0  0  0  0  0  0  0  0  0  0\\n   -3.1900   -3.8853    0.1392 H   0  0  0  0  0  0  0  0  0  0  0  0\\n   -5.5623   -4.4318   -0.3199 H   0  0  0  0  0  0  0  0  0  0  0  0\\n   -7.2779   -2.6934    0.0142 H   0  0  0  0  0  0  0  0  0  0  0  0\\n  1  2  2  0\\n  2  3  1  0\\n  3  4  1  0\\n  4  5  2  0\\n  5  6  1  0\\n  6  7  1  0\\n  7  8  2  0\\n  8  9  1  0\\n  9 10  2  0\\n 10 11  1  0\\n 10 12  1  0\\n 12 13  1  0\\n 13 14  1  0\\n 14 15  1  0\\n 15 16  1  0\\n 16 17  1  0\\n 17 18  1  0\\n 18 19  1  0\\n 19 20  1  0\\n 20 21  2  0\\n 21 22  1  0\\n 22 23  2  0\\n 23 24  1  0\\n 24 25  1  0\\n 25 26  1  0\\n 26 27  1  0\\n 23 28  1  0\\n 28 29  2  0\\n 18 30  2  0\\n 17 31  1  0\\n 31 32  1  0\\n 13 33  2  0\\n 12 34  2  0\\n  5 35  1  0\\n 35 36  2  0\\n 36 37  1  0\\n 37 38  2  0\\n 38 39  1  0\\n 39 40  2  0\\n 40  2  1  0\\n 34  7  1  0\\n 32 14  1  0\\n 29 20  1  0\\n 28 27  1  0\\n 40 35  1  0\\n  3 41  1  0\\n  6 42  1  0\\n  6 43  1  0\\n  8 44  1  0\\n  9 45  1  0\\n 15 46  1  0\\n 15 47  1  0\\n 16 48  1  0\\n 16 49  1  0\\n 19 50  1  0\\n 19 51  1  0\\n 21 52  1  0\\n 22 53  1  0\\n 25 54  1  0\\n 25 55  1  0\\n 26 56  1  0\\n 26 57  1  0\\n 29 58  1  0\\n 31 59  1  0\\n 31 60  1  0\\n 32 61  1  0\\n 32 62  1  0\\n 34 63  1  0\\n 36 64  1  0\\n 37 65  1  0\\n 38 66  1  0\\n 39 67  1  0\\nM  END\\n\",\"sdf\");\n\tviewer_17014564664875085.setStyle({\"stick\": {}});\n\tviewer_17014564664875085.addModel(\"\\n     RDKit          3D\\n\\n 64 67  0  0  0  0  0  0  0  0999 V2000\\n   -8.2200   -0.5006    0.9458 N   0  0  0  0  0  0  0  0  0  0  0  0\\n   -6.8302   -0.2519    1.0310 C   0  0  0  0  0  0  0  0  0  0  0  0\\n   -5.8854   -1.2658    0.6258 C   0  0  0  0  0  0  0  0  0  0  0  0\\n   -6.3066   -2.4703    0.1581 C   0  0  0  0  0  0  0  0  0  0  0  0\\n   -5.4098   -3.4564   -0.2355 C   0  0  0  0  0  0  0  0  0  0  0  0\\n   -4.0655   -3.1853   -0.1411 C   0  0  0  0  0  0  0  0  0  0  0  0\\n   -3.5943   -1.9722    0.3297 C   0  0  0  0  0  0  0  0  0  0  0  0\\n   -4.5004   -1.0094    0.7140 C   0  0  0  0  0  0  0  0  0  0  0  0\\n   -4.1662    0.2016    1.1862 O   0  0  0  0  0  0  0  0  0  0  0  0\\n   -3.0992    0.9635    1.4676 C   0  0  0  0  0  0  0  0  0  0  0  0\\n   -2.2463    1.2812    0.3132 C   0  0  0  0  0  0  0  0  0  0  0  0\\n   -2.6258    2.3515   -0.5013 C   0  0  0  0  0  0  0  0  0  0  0  0\\n   -1.8526    2.7083   -1.5731 C   0  0  0  0  0  0  0  0  0  0  0  0\\n   -0.6926    1.9812   -1.8223 C   0  0  0  0  0  0  0  0  0  0  0  0\\n   -0.3102    0.9342   -1.0353 C   0  0  0  0  0  0  0  0  0  0  0  0\\n    0.8991    0.1856   -1.3061 C   0  0  0  0  0  0  0  0  0  0  0  0\\n    1.7910    0.4405   -2.3768 N   0  0  0  0  0  0  0  0  0  0  0  0\\n    3.0028   -0.3030   -2.6474 C   0  0  0  0  0  0  0  0  0  0  0  0\\n    3.9491   -0.1928   -1.5074 C   0  0  0  0  0  0  0  0  0  0  0  0\\n    5.1881   -0.9196   -1.7437 N   0  0  0  0  0  0  0  0  0  0  0  0\\n    6.1724   -0.8881   -0.7266 C   0  0  0  0  0  0  0  0  0  0  0  0\\n    7.4795   -1.6165   -0.9015 C   0  0  0  0  0  0  0  0  0  0  0  0\\n    8.3103   -1.4014    0.3198 C   0  0  0  0  0  0  0  0  0  0  0  0\\n    7.6513   -1.9145    1.5868 C   0  0  0  0  0  0  0  0  0  0  0  0\\n    8.8446   -2.5512    2.2906 C   0  0  0  0  0  0  0  0  0  0  0  0\\n    9.8785   -1.4960    2.5414 C   0  0  0  0  0  0  0  0  0  0  0  0\\n   10.5652   -1.2233    1.1982 C   0  0  0  0  0  0  0  0  0  0  0  0\\n    9.6727   -1.9980    0.2522 C   0  0  0  0  0  0  0  0  0  0  0  0\\n    9.4691   -3.2775    1.0857 C   0  0  0  0  0  0  0  0  0  0  0  0\\n    5.9285   -0.2397    0.3213 O   0  0  0  0  0  0  0  0  0  0  0  0\\n    1.2289   -0.7974   -0.5392 O   0  0  0  0  0  0  0  0  0  0  0  0\\n   -1.1001    0.5853    0.0433 C   0  0  0  0  0  0  0  0  0  0  0  0\\n   -6.4457    0.8612    1.4635 O   0  0  0  0  0  0  0  0  0  0  0  0\\n   -8.6753   -1.1979    1.5481 H   0  0  0  0  0  0  0  0  0  0  0  0\\n   -8.7770    0.0406    0.2557 H   0  0  0  0  0  0  0  0  0  0  0  0\\n   -7.3885   -2.6657    0.0910 H   0  0  0  0  0  0  0  0  0  0  0  0\\n   -5.8256   -4.3712   -0.5901 H   0  0  0  0  0  0  0  0  0  0  0  0\\n   -3.3822   -3.9827   -0.4591 H   0  0  0  0  0  0  0  0  0  0  0  0\\n   -2.5354   -1.8121    0.3918 H   0  0  0  0  0  0  0  0  0  0  0  0\\n   -3.3847    1.9545    1.9187 H   0  0  0  0  0  0  0  0  0  0  0  0\\n   -2.4809    0.4824    2.2783 H   0  0  0  0  0  0  0  0  0  0  0  0\\n   -3.5270    2.8769   -0.2654 H   0  0  0  0  0  0  0  0  0  0  0  0\\n   -2.1675    3.5397   -2.1877 H   0  0  0  0  0  0  0  0  0  0  0  0\\n   -0.1165    2.3005   -2.6789 H   0  0  0  0  0  0  0  0  0  0  0  0\\n    1.5092    1.2533   -3.0097 H   0  0  0  0  0  0  0  0  0  0  0  0\\n    3.4897    0.1404   -3.5394 H   0  0  0  0  0  0  0  0  0  0  0  0\\n    2.7287   -1.3488   -2.9024 H   0  0  0  0  0  0  0  0  0  0  0  0\\n    3.4971   -0.6409   -0.6042 H   0  0  0  0  0  0  0  0  0  0  0  0\\n    4.1451    0.8873   -1.3294 H   0  0  0  0  0  0  0  0  0  0  0  0\\n    5.3359   -1.4377   -2.6259 H   0  0  0  0  0  0  0  0  0  0  0  0\\n    7.3266   -2.6573   -1.1821 H   0  0  0  0  0  0  0  0  0  0  0  0\\n    7.9902   -1.1126   -1.7474 H   0  0  0  0  0  0  0  0  0  0  0  0\\n    8.4230   -0.2977    0.4578 H   0  0  0  0  0  0  0  0  0  0  0  0\\n    7.2051   -1.1076    2.1750 H   0  0  0  0  0  0  0  0  0  0  0  0\\n    6.9456   -2.7567    1.3795 H   0  0  0  0  0  0  0  0  0  0  0  0\\n    8.5997   -3.1982    3.1055 H   0  0  0  0  0  0  0  0  0  0  0  0\\n    9.3432   -0.5590    2.8016 H   0  0  0  0  0  0  0  0  0  0  0  0\\n   10.6256   -1.7889    3.3078 H   0  0  0  0  0  0  0  0  0  0  0  0\\n   10.5908   -0.1424    0.9672 H   0  0  0  0  0  0  0  0  0  0  0  0\\n   11.5843   -1.6678    1.2048 H   0  0  0  0  0  0  0  0  0  0  0  0\\n   10.0815   -2.1853   -0.7199 H   0  0  0  0  0  0  0  0  0  0  0  0\\n    8.7319   -3.9428    0.6416 H   0  0  0  0  0  0  0  0  0  0  0  0\\n   10.4329   -3.7333    1.3431 H   0  0  0  0  0  0  0  0  0  0  0  0\\n   -0.8041   -0.2368    0.6780 H   0  0  0  0  0  0  0  0  0  0  0  0\\n  1  2  1  0\\n  2  3  1  0\\n  3  4  2  0\\n  4  5  1  0\\n  5  6  2  0\\n  6  7  1  0\\n  7  8  2  0\\n  8  9  1  0\\n  9 10  1  0\\n 10 11  1  0\\n 11 12  2  0\\n 12 13  1  0\\n 13 14  2  0\\n 14 15  1  0\\n 15 16  1  0\\n 16 17  1  0\\n 17 18  1  0\\n 18 19  1  0\\n 19 20  1  0\\n 20 21  1  0\\n 21 22  1  0\\n 22 23  1  0\\n 23 24  1  0\\n 24 25  1  0\\n 25 26  1  0\\n 26 27  1  0\\n 27 28  1  0\\n 28 29  1  0\\n 21 30  2  0\\n 16 31  2  0\\n 15 32  2  0\\n  2 33  2  0\\n  8  3  1  0\\n 32 11  1  0\\n 28 23  1  0\\n 29 25  1  0\\n  1 34  1  0\\n  1 35  1  0\\n  4 36  1  0\\n  5 37  1  0\\n  6 38  1  0\\n  7 39  1  0\\n 10 40  1  0\\n 10 41  1  0\\n 12 42  1  0\\n 13 43  1  0\\n 14 44  1  0\\n 17 45  1  0\\n 18 46  1  0\\n 18 47  1  0\\n 19 48  1  0\\n 19 49  1  0\\n 20 50  1  0\\n 22 51  1  0\\n 22 52  1  0\\n 23 53  1  0\\n 24 54  1  0\\n 24 55  1  0\\n 25 56  1  0\\n 26 57  1  0\\n 26 58  1  0\\n 27 59  1  0\\n 27 60  1  0\\n 28 61  1  0\\n 29 62  1  0\\n 29 63  1  0\\n 32 64  1  0\\nM  END\\n\",\"sdf\");\n\tviewer_17014564664875085.setStyle({\"stick\": {}});\n\tviewer_17014564664875085.setStyle({\"model\": 0},{\"stick\": {\"colorscheme\": \"cyanCarbon\"}});\n\tviewer_17014564664875085.setStyle({\"model\": 1},{\"stick\": {\"colorscheme\": \"redCarbon\"}});\n\tviewer_17014564664875085.setStyle({\"model\": 2},{\"stick\": {\"colorscheme\": \"blueCarbon\"}});\n\tviewer_17014564664875085.setStyle({\"model\": 3},{\"stick\": {\"colorscheme\": \"aliceblueCrbon\"}});\n\tviewer_17014564664875085.setStyle({\"model\": 4},{\"stick\": {\"colorscheme\": \"greenCarbon\"}});\n\tviewer_17014564664875085.setStyle({\"model\": 5},{\"stick\": {\"colorscheme\": \"yellowCarbon\"}});\n\tviewer_17014564664875085.zoomTo();\nviewer_17014564664875085.render();\n});\n</script>",
            "text/html": [
              "<div id=\"3dmolviewer_17014564664875085\"  style=\"position: relative; width: 800px; height: 600px;\">\n",
              "        <p id=\"3dmolwarning_17014564664875085\" style=\"background-color:#ffcccc;color:black\">You appear to be running in JupyterLab (or JavaScript failed to load for some other reason).  You need to install the 3dmol extension: <br>\n",
              "        <tt>jupyter labextension install jupyterlab_3dmol</tt></p>\n",
              "        </div>\n",
              "<script>\n",
              "\n",
              "var loadScriptAsync = function(uri){\n",
              "  return new Promise((resolve, reject) => {\n",
              "    //this is to ignore the existence of requirejs amd\n",
              "    var savedexports, savedmodule;\n",
              "    if (typeof exports !== 'undefined') savedexports = exports;\n",
              "    else exports = {}\n",
              "    if (typeof module !== 'undefined') savedmodule = module;\n",
              "    else module = {}\n",
              "\n",
              "    var tag = document.createElement('script');\n",
              "    tag.src = uri;\n",
              "    tag.async = true;\n",
              "    tag.onload = () => {\n",
              "        exports = savedexports;\n",
              "        module = savedmodule;\n",
              "        resolve();\n",
              "    };\n",
              "  var firstScriptTag = document.getElementsByTagName('script')[0];\n",
              "  firstScriptTag.parentNode.insertBefore(tag, firstScriptTag);\n",
              "});\n",
              "};\n",
              "\n",
              "if(typeof $3Dmolpromise === 'undefined') {\n",
              "$3Dmolpromise = null;\n",
              "  $3Dmolpromise = loadScriptAsync('https://cdnjs.cloudflare.com/ajax/libs/3Dmol/2.0.4/3Dmol-min.js');\n",
              "}\n",
              "\n",
              "var viewer_17014564664875085 = null;\n",
              "var warn = document.getElementById(\"3dmolwarning_17014564664875085\");\n",
              "if(warn) {\n",
              "    warn.parentNode.removeChild(warn);\n",
              "}\n",
              "$3Dmolpromise.then(function() {\n",
              "viewer_17014564664875085 = $3Dmol.createViewer(document.getElementById(\"3dmolviewer_17014564664875085\"),{backgroundColor:\"white\"});\n",
              "viewer_17014564664875085.zoomTo();\n",
              "\tviewer_17014564664875085.addModel(\"\\n     RDKit          3D\\n\\n 58 62  0  0  0  0  0  0  0  0999 V2000\\n   -8.0686   -0.4004    0.3950 O   0  0  0  0  0  0  0  0  0  0  0  0\\n   -6.8654   -0.1631    0.7192 C   0  0  0  0  0  0  0  0  0  0  0  0\\n   -6.5274    1.0287    1.2223 N   0  0  0  0  0  0  0  0  0  0  0  0\\n   -5.2699    1.2500    1.5512 N   0  0  0  0  0  0  0  0  0  0  0  0\\n   -4.2960    0.3166    1.4004 C   0  0  0  0  0  0  0  0  0  0  0  0\\n   -2.9092    0.6831    1.7508 C   0  0  0  0  0  0  0  0  0  0  0  0\\n   -2.2006    1.0748    0.5213 C   0  0  0  0  0  0  0  0  0  0  0  0\\n   -2.6040    2.2679   -0.0985 C   0  0  0  0  0  0  0  0  0  0  0  0\\n   -1.9991    2.7374   -1.2515 C   0  0  0  0  0  0  0  0  0  0  0  0\\n   -0.9651    2.0298   -1.8287 C   0  0  0  0  0  0  0  0  0  0  0  0\\n   -0.3539    2.4521   -2.9436 F   0  0  0  0  0  0  0  0  0  0  0  0\\n   -0.5390    0.8459   -1.2433 C   0  0  0  0  0  0  0  0  0  0  0  0\\n    0.5420    0.0772   -1.8441 C   0  0  0  0  0  0  0  0  0  0  0  0\\n    1.9083    0.2648   -1.5691 N   0  0  0  0  0  0  0  0  0  0  0  0\\n    2.3420    1.2696   -0.6373 C   0  0  0  0  0  0  0  0  0  0  0  0\\n    3.6662    0.7887   -0.0314 C   0  0  0  0  0  0  0  0  0  0  0  0\\n    4.6396    0.7175   -1.0886 N   0  0  0  0  0  0  0  0  0  0  0  0\\n    5.9850    1.0287   -0.9208 C   0  0  0  0  0  0  0  0  0  0  0  0\\n    6.5775    1.4553    0.3292 C   0  0  0  0  0  0  0  0  0  0  0  0\\n    6.0483    1.5798    1.5551 N   0  0  0  0  0  0  0  0  0  0  0  0\\n    6.9389    2.0071    2.4338 N   0  0  0  0  0  0  0  0  0  0  0  0\\n    8.1148    2.1844    1.8130 C   0  0  0  0  0  0  0  0  0  0  0  0\\n    9.4047    2.6602    2.4477 C   0  0  0  0  0  0  0  0  0  0  0  0\\n    7.9161    1.8493    0.5080 C   0  0  0  0  0  0  0  0  0  0  0  0\\n    6.7601    0.9323   -1.9387 O   0  0  0  0  0  0  0  0  0  0  0  0\\n    4.1704    0.2744   -2.4054 C   0  0  0  0  0  0  0  0  0  0  0  0\\n    2.9108   -0.5559   -2.2369 C   0  0  0  0  0  0  0  0  0  0  0  0\\n    0.2029   -0.8119   -2.6669 O   0  0  0  0  0  0  0  0  0  0  0  0\\n   -1.1782    0.4077   -0.0783 C   0  0  0  0  0  0  0  0  0  0  0  0\\n   -4.6321   -0.8990    0.8901 C   0  0  0  0  0  0  0  0  0  0  0  0\\n   -3.7029   -1.9097    0.7168 C   0  0  0  0  0  0  0  0  0  0  0  0\\n   -4.0360   -3.1538    0.2056 C   0  0  0  0  0  0  0  0  0  0  0  0\\n   -5.3488   -3.4224   -0.1547 C   0  0  0  0  0  0  0  0  0  0  0  0\\n   -6.2681   -2.4071    0.0242 C   0  0  0  0  0  0  0  0  0  0  0  0\\n   -5.9389   -1.1736    0.5317 C   0  0  0  0  0  0  0  0  0  0  0  0\\n   -7.2627    1.7535    1.3451 H   0  0  0  0  0  0  0  0  0  0  0  0\\n   -2.4017   -0.1389    2.2977 H   0  0  0  0  0  0  0  0  0  0  0  0\\n   -2.9232    1.5681    2.4375 H   0  0  0  0  0  0  0  0  0  0  0  0\\n   -3.4203    2.8523    0.3325 H   0  0  0  0  0  0  0  0  0  0  0  0\\n   -2.3511    3.6583   -1.6817 H   0  0  0  0  0  0  0  0  0  0  0  0\\n    2.5830    2.1863   -1.2126 H   0  0  0  0  0  0  0  0  0  0  0  0\\n    1.5948    1.4706    0.1584 H   0  0  0  0  0  0  0  0  0  0  0  0\\n    3.9382    1.3977    0.8322 H   0  0  0  0  0  0  0  0  0  0  0  0\\n    3.4759   -0.2896    0.2584 H   0  0  0  0  0  0  0  0  0  0  0  0\\n    6.7455    2.1761    3.4360 H   0  0  0  0  0  0  0  0  0  0  0  0\\n    9.8525    1.7967    2.9884 H   0  0  0  0  0  0  0  0  0  0  0  0\\n    9.2164    3.5347    3.0836 H   0  0  0  0  0  0  0  0  0  0  0  0\\n   10.1341    2.9270    1.6469 H   0  0  0  0  0  0  0  0  0  0  0  0\\n    8.6529    1.8713   -0.2852 H   0  0  0  0  0  0  0  0  0  0  0  0\\n    4.9682   -0.3948   -2.7776 H   0  0  0  0  0  0  0  0  0  0  0  0\\n    3.9399    1.1191   -3.0737 H   0  0  0  0  0  0  0  0  0  0  0  0\\n    2.5690   -0.9586   -3.1881 H   0  0  0  0  0  0  0  0  0  0  0  0\\n    3.1812   -1.3795   -1.5383 H   0  0  0  0  0  0  0  0  0  0  0  0\\n   -0.8214   -0.5135    0.3649 H   0  0  0  0  0  0  0  0  0  0  0  0\\n   -2.6867   -1.7449    0.9997 H   0  0  0  0  0  0  0  0  0  0  0  0\\n   -3.2564   -3.8888    0.1008 H   0  0  0  0  0  0  0  0  0  0  0  0\\n   -5.6444   -4.3756   -0.5541 H   0  0  0  0  0  0  0  0  0  0  0  0\\n   -7.3098   -2.6104   -0.2593 H   0  0  0  0  0  0  0  0  0  0  0  0\\n  1  2  2  0\\n  2  3  1  0\\n  3  4  1  0\\n  4  5  2  0\\n  5  6  1  0\\n  6  7  1  0\\n  7  8  2  0\\n  8  9  1  0\\n  9 10  2  0\\n 10 11  1  0\\n 10 12  1  0\\n 12 13  1  0\\n 13 14  1  0\\n 14 15  1  0\\n 15 16  1  0\\n 16 17  1  0\\n 17 18  1  0\\n 18 19  1  0\\n 19 20  2  0\\n 20 21  1  0\\n 21 22  1  0\\n 22 23  1  0\\n 22 24  2  0\\n 18 25  2  0\\n 17 26  1  0\\n 26 27  1  0\\n 13 28  2  0\\n 12 29  2  0\\n  5 30  1  0\\n 30 31  2  0\\n 31 32  1  0\\n 32 33  2  0\\n 33 34  1  0\\n 34 35  2  0\\n 35  2  1  0\\n 29  7  1  0\\n 27 14  1  0\\n 24 19  1  0\\n 35 30  1  0\\n  3 36  1  0\\n  6 37  1  0\\n  6 38  1  0\\n  8 39  1  0\\n  9 40  1  0\\n 15 41  1  0\\n 15 42  1  0\\n 16 43  1  0\\n 16 44  1  0\\n 21 45  1  0\\n 23 46  1  0\\n 23 47  1  0\\n 23 48  1  0\\n 24 49  1  0\\n 26 50  1  0\\n 26 51  1  0\\n 27 52  1  0\\n 27 53  1  0\\n 29 54  1  0\\n 31 55  1  0\\n 32 56  1  0\\n 33 57  1  0\\n 34 58  1  0\\nM  END\\n\",\"sdf\");\n",
              "\tviewer_17014564664875085.setStyle({\"stick\": {}});\n",
              "\tviewer_17014564664875085.addModel(\"\\n     RDKit          3D\\n\\n 68 73  0  0  0  0  0  0  0  0999 V2000\\n   -8.0954   -0.5869    0.3282 O   0  0  0  0  0  0  0  0  0  0  0  0\\n   -6.9144   -0.3056    0.6414 C   0  0  0  0  0  0  0  0  0  0  0  0\\n   -6.6071    0.9218    1.0656 N   0  0  0  0  0  0  0  0  0  0  0  0\\n   -5.3714    1.2508    1.4021 N   0  0  0  0  0  0  0  0  0  0  0  0\\n   -4.3374    0.3587    1.3362 C   0  0  0  0  0  0  0  0  0  0  0  0\\n   -2.9637    0.7874    1.6587 C   0  0  0  0  0  0  0  0  0  0  0  0\\n   -2.1956    1.2068    0.4688 C   0  0  0  0  0  0  0  0  0  0  0  0\\n   -2.5024    2.4669   -0.0529 C   0  0  0  0  0  0  0  0  0  0  0  0\\n   -1.8183    2.9273   -1.1495 C   0  0  0  0  0  0  0  0  0  0  0  0\\n   -0.8299    2.1747   -1.7546 C   0  0  0  0  0  0  0  0  0  0  0  0\\n   -0.1388    2.6102   -2.8404 F   0  0  0  0  0  0  0  0  0  0  0  0\\n   -0.5406    0.9380   -1.2285 C   0  0  0  0  0  0  0  0  0  0  0  0\\n    0.5006    0.1410   -1.8751 C   0  0  0  0  0  0  0  0  0  0  0  0\\n    1.8516    0.2220   -1.5160 N   0  0  0  0  0  0  0  0  0  0  0  0\\n    2.3546    1.0998   -0.4753 C   0  0  0  0  0  0  0  0  0  0  0  0\\n    3.8023    0.8272   -0.1374 C   0  0  0  0  0  0  0  0  0  0  0  0\\n    4.6352    0.7293   -1.3149 N   0  0  0  0  0  0  0  0  0  0  0  0\\n    5.9666    1.2194   -1.2555 C   0  0  0  0  0  0  0  0  0  0  0  0\\n    6.5441    1.8273   -0.0445 C   0  0  0  0  0  0  0  0  0  0  0  0\\n    7.9937    2.2376   -0.2697 C   0  0  0  0  0  0  0  0  0  0  0  0\\n    8.1022    3.2487   -1.3941 C   0  0  0  0  0  0  0  0  0  0  0  0\\n    8.9051    4.3517   -0.7433 C   0  0  0  0  0  0  0  0  0  0  0  0\\n   10.2409    3.7869   -0.3670 C   0  0  0  0  0  0  0  0  0  0  0  0\\n   10.0219    2.9322    0.8827 C   0  0  0  0  0  0  0  0  0  0  0  0\\n    8.5292    2.9149    0.9727 C   0  0  0  0  0  0  0  0  0  0  0  0\\n    8.2138    4.3828    0.6323 C   0  0  0  0  0  0  0  0  0  0  0  0\\n    6.6784    1.1263   -2.2876 O   0  0  0  0  0  0  0  0  0  0  0  0\\n    4.0850    0.1323   -2.5205 C   0  0  0  0  0  0  0  0  0  0  0  0\\n    2.8228   -0.6032   -2.2027 C   0  0  0  0  0  0  0  0  0  0  0  0\\n    0.1513   -0.6451   -2.7901 O   0  0  0  0  0  0  0  0  0  0  0  0\\n   -1.2207    0.4603   -0.1235 C   0  0  0  0  0  0  0  0  0  0  0  0\\n   -4.6307   -0.8925    0.9097 C   0  0  0  0  0  0  0  0  0  0  0  0\\n   -3.6961   -1.8960    0.8179 C   0  0  0  0  0  0  0  0  0  0  0  0\\n   -4.0137   -3.1683    0.3988 C   0  0  0  0  0  0  0  0  0  0  0  0\\n   -5.2933   -3.4986    0.0497 C   0  0  0  0  0  0  0  0  0  0  0  0\\n   -6.2495   -2.5319    0.1287 C   0  0  0  0  0  0  0  0  0  0  0  0\\n   -5.9317   -1.2694    0.5458 C   0  0  0  0  0  0  0  0  0  0  0  0\\n   -7.3593    1.6423    1.1351 H   0  0  0  0  0  0  0  0  0  0  0  0\\n   -2.3737   -0.0195    2.1764 H   0  0  0  0  0  0  0  0  0  0  0  0\\n   -3.0327    1.6854    2.3229 H   0  0  0  0  0  0  0  0  0  0  0  0\\n   -3.2863    3.0873    0.4101 H   0  0  0  0  0  0  0  0  0  0  0  0\\n   -2.0580    3.9042   -1.5528 H   0  0  0  0  0  0  0  0  0  0  0  0\\n    1.7426    0.9510    0.4274 H   0  0  0  0  0  0  0  0  0  0  0  0\\n    2.3027    2.1797   -0.7933 H   0  0  0  0  0  0  0  0  0  0  0  0\\n    4.1738    1.7003    0.4587 H   0  0  0  0  0  0  0  0  0  0  0  0\\n    3.9119   -0.0662    0.5131 H   0  0  0  0  0  0  0  0  0  0  0  0\\n    5.9530    2.6756    0.3320 H   0  0  0  0  0  0  0  0  0  0  0  0\\n    6.5851    1.0863    0.8087 H   0  0  0  0  0  0  0  0  0  0  0  0\\n    8.5731    1.3417   -0.5377 H   0  0  0  0  0  0  0  0  0  0  0  0\\n    7.1113    3.6041   -1.7199 H   0  0  0  0  0  0  0  0  0  0  0  0\\n    8.6162    2.8418   -2.2894 H   0  0  0  0  0  0  0  0  0  0  0  0\\n    8.8979    5.2983   -1.2444 H   0  0  0  0  0  0  0  0  0  0  0  0\\n   11.0250    4.5455   -0.1939 H   0  0  0  0  0  0  0  0  0  0  0  0\\n   10.5417    3.0586   -1.1745 H   0  0  0  0  0  0  0  0  0  0  0  0\\n   10.4959    1.9522    0.7995 H   0  0  0  0  0  0  0  0  0  0  0  0\\n   10.4219    3.5338    1.7450 H   0  0  0  0  0  0  0  0  0  0  0  0\\n    8.1120    2.5817    1.9020 H   0  0  0  0  0  0  0  0  0  0  0  0\\n    7.1398    4.5472    0.5299 H   0  0  0  0  0  0  0  0  0  0  0  0\\n    8.7407    5.0420    1.3210 H   0  0  0  0  0  0  0  0  0  0  0  0\\n    3.9360    0.8918   -3.3271 H   0  0  0  0  0  0  0  0  0  0  0  0\\n    4.8268   -0.5999   -2.9031 H   0  0  0  0  0  0  0  0  0  0  0  0\\n    2.3945   -0.9798   -3.1621 H   0  0  0  0  0  0  0  0  0  0  0  0\\n    3.0654   -1.4641   -1.5638 H   0  0  0  0  0  0  0  0  0  0  0  0\\n   -0.9261   -0.5166    0.2394 H   0  0  0  0  0  0  0  0  0  0  0  0\\n   -2.6780   -1.6872    1.1019 H   0  0  0  0  0  0  0  0  0  0  0  0\\n   -3.2099   -3.9072    0.3557 H   0  0  0  0  0  0  0  0  0  0  0  0\\n   -5.4974   -4.5242   -0.2788 H   0  0  0  0  0  0  0  0  0  0  0  0\\n   -7.2636   -2.7585   -0.1376 H   0  0  0  0  0  0  0  0  0  0  0  0\\n  1  2  2  0\\n  2  3  1  0\\n  3  4  1  0\\n  4  5  2  0\\n  5  6  1  0\\n  6  7  1  0\\n  7  8  2  0\\n  8  9  1  0\\n  9 10  2  0\\n 10 11  1  0\\n 10 12  1  0\\n 12 13  1  0\\n 13 14  1  0\\n 14 15  1  0\\n 15 16  1  0\\n 16 17  1  0\\n 17 18  1  0\\n 18 19  1  0\\n 19 20  1  0\\n 20 21  1  0\\n 21 22  1  0\\n 22 23  1  0\\n 23 24  1  0\\n 24 25  1  0\\n 25 26  1  0\\n 18 27  2  0\\n 17 28  1  0\\n 28 29  1  0\\n 13 30  2  0\\n 12 31  2  0\\n  5 32  1  0\\n 32 33  2  0\\n 33 34  1  0\\n 34 35  2  0\\n 35 36  1  0\\n 36 37  2  0\\n 37  2  1  0\\n 31  7  1  0\\n 29 14  1  0\\n 25 20  1  0\\n 26 22  1  0\\n 37 32  1  0\\n  3 38  1  0\\n  6 39  1  0\\n  6 40  1  0\\n  8 41  1  0\\n  9 42  1  0\\n 15 43  1  0\\n 15 44  1  0\\n 16 45  1  0\\n 16 46  1  0\\n 19 47  1  0\\n 19 48  1  0\\n 20 49  1  0\\n 21 50  1  0\\n 21 51  1  0\\n 22 52  1  0\\n 23 53  1  0\\n 23 54  1  0\\n 24 55  1  0\\n 24 56  1  0\\n 25 57  1  0\\n 26 58  1  0\\n 26 59  1  0\\n 28 60  1  0\\n 28 61  1  0\\n 29 62  1  0\\n 29 63  1  0\\n 31 64  1  0\\n 33 65  1  0\\n 34 66  1  0\\n 35 67  1  0\\n 36 68  1  0\\nM  END\\n\",\"sdf\");\n",
              "\tviewer_17014564664875085.setStyle({\"stick\": {}});\n",
              "\tviewer_17014564664875085.addModel(\"\\n     RDKit          3D\\n\\n 73 78  0  0  0  0  0  0  0  0999 V2000\\n   -8.0471   -0.6236    0.7312 O   0  0  0  0  0  0  0  0  0  0  0  0\\n   -6.8282   -0.3348    0.9183 C   0  0  0  0  0  0  0  0  0  0  0  0\\n   -6.4695    0.8821    1.3512 N   0  0  0  0  0  0  0  0  0  0  0  0\\n   -5.2173    1.1618    1.5368 N   0  0  0  0  0  0  0  0  0  0  0  0\\n   -4.1767    0.3021    1.3260 C   0  0  0  0  0  0  0  0  0  0  0  0\\n   -2.8009    0.7980    1.5311 C   0  0  0  0  0  0  0  0  0  0  0  0\\n   -2.1456    1.2801    0.2916 C   0  0  0  0  0  0  0  0  0  0  0  0\\n   -2.5529    2.5032   -0.2584 C   0  0  0  0  0  0  0  0  0  0  0  0\\n   -1.9268    2.9465   -1.3868 C   0  0  0  0  0  0  0  0  0  0  0  0\\n   -0.9131    2.2357   -2.0004 C   0  0  0  0  0  0  0  0  0  0  0  0\\n   -0.3274    2.7312   -3.1238 F   0  0  0  0  0  0  0  0  0  0  0  0\\n   -0.5169    1.0480   -1.4670 C   0  0  0  0  0  0  0  0  0  0  0  0\\n    0.5507    0.2981   -2.1150 C   0  0  0  0  0  0  0  0  0  0  0  0\\n    1.9069    0.4481   -1.7872 N   0  0  0  0  0  0  0  0  0  0  0  0\\n    2.9406   -0.3093   -2.4480 C   0  0  0  0  0  0  0  0  0  0  0  0\\n    3.5608   -1.1814   -1.3603 C   0  0  0  0  0  0  0  0  0  0  0  0\\n    4.0317   -0.3104   -0.3137 N   0  0  0  0  0  0  0  0  0  0  0  0\\n    5.3727   -0.3966    0.1333 C   0  0  0  0  0  0  0  0  0  0  0  0\\n    6.2786   -1.3721   -0.4699 C   0  0  0  0  0  0  0  0  0  0  0  0\\n    7.6488   -1.3593    0.0956 C   0  0  0  0  0  0  0  0  0  0  0  0\\n    8.3571   -0.0414   -0.0877 C   0  0  0  0  0  0  0  0  0  0  0  0\\n    8.4742    0.2635   -1.5524 C   0  0  0  0  0  0  0  0  0  0  0  0\\n    7.5312    0.9975   -2.2401 C   0  0  0  0  0  0  0  0  0  0  0  0\\n    7.6818    1.2520   -3.6024 C   0  0  0  0  0  0  0  0  0  0  0  0\\n    8.7663    0.7871   -4.3135 C   0  0  0  0  0  0  0  0  0  0  0  0\\n    8.9349    1.0300   -5.6699 O   0  0  0  0  0  0  0  0  0  0  0  0\\n    9.9043    0.2953   -6.3952 C   0  0  0  0  0  0  0  0  0  0  0  0\\n   11.1682    0.2715   -5.5395 C   0  0  0  0  0  0  0  0  0  0  0  0\\n   10.8186   -0.4272   -4.3364 O   0  0  0  0  0  0  0  0  0  0  0  0\\n    9.7138    0.0519   -3.6325 C   0  0  0  0  0  0  0  0  0  0  0  0\\n    9.5574   -0.1976   -2.2758 C   0  0  0  0  0  0  0  0  0  0  0  0\\n    5.7639    0.3628    1.0391 O   0  0  0  0  0  0  0  0  0  0  0  0\\n    3.1493    0.6526    0.3008 C   0  0  0  0  0  0  0  0  0  0  0  0\\n    2.3164    1.3641   -0.7558 C   0  0  0  0  0  0  0  0  0  0  0  0\\n    0.1546   -0.5200   -3.0182 O   0  0  0  0  0  0  0  0  0  0  0  0\\n   -1.1455    0.5863   -0.3191 C   0  0  0  0  0  0  0  0  0  0  0  0\\n   -4.5144   -0.9519    0.8840 C   0  0  0  0  0  0  0  0  0  0  0  0\\n   -3.5314   -1.8887    0.6617 C   0  0  0  0  0  0  0  0  0  0  0  0\\n   -3.8723   -3.1490    0.2306 C   0  0  0  0  0  0  0  0  0  0  0  0\\n   -5.2044   -3.4831    0.0185 C   0  0  0  0  0  0  0  0  0  0  0  0\\n   -6.1968   -2.5562    0.2385 C   0  0  0  0  0  0  0  0  0  0  0  0\\n   -5.8603   -1.2821    0.6741 C   0  0  0  0  0  0  0  0  0  0  0  0\\n   -7.2592    1.5673    1.5225 H   0  0  0  0  0  0  0  0  0  0  0  0\\n   -2.1616    0.0346    2.0496 H   0  0  0  0  0  0  0  0  0  0  0  0\\n   -2.8456    1.6598    2.2323 H   0  0  0  0  0  0  0  0  0  0  0  0\\n   -3.3494    3.0256    0.2549 H   0  0  0  0  0  0  0  0  0  0  0  0\\n   -2.2485    3.9033   -1.8140 H   0  0  0  0  0  0  0  0  0  0  0  0\\n    2.5734   -0.9133   -3.2925 H   0  0  0  0  0  0  0  0  0  0  0  0\\n    3.6954    0.4316   -2.8103 H   0  0  0  0  0  0  0  0  0  0  0  0\\n    2.7002   -1.7806   -0.9501 H   0  0  0  0  0  0  0  0  0  0  0  0\\n    4.3272   -1.8649   -1.7378 H   0  0  0  0  0  0  0  0  0  0  0  0\\n    6.3863   -1.2241   -1.5842 H   0  0  0  0  0  0  0  0  0  0  0  0\\n    5.8209   -2.3840   -0.3788 H   0  0  0  0  0  0  0  0  0  0  0  0\\n    7.7062   -1.7229    1.1433 H   0  0  0  0  0  0  0  0  0  0  0  0\\n    8.2412   -2.1302   -0.4845 H   0  0  0  0  0  0  0  0  0  0  0  0\\n    9.4214   -0.2341    0.2475 H   0  0  0  0  0  0  0  0  0  0  0  0\\n    7.9408    0.7938    0.4723 H   0  0  0  0  0  0  0  0  0  0  0  0\\n    6.6681    1.3844   -1.7326 H   0  0  0  0  0  0  0  0  0  0  0  0\\n    6.9519    1.8273   -4.1613 H   0  0  0  0  0  0  0  0  0  0  0  0\\n    9.5955   -0.7783   -6.4893 H   0  0  0  0  0  0  0  0  0  0  0  0\\n   10.0905    0.7145   -7.3889 H   0  0  0  0  0  0  0  0  0  0  0  0\\n   12.0145   -0.2339   -6.0443 H   0  0  0  0  0  0  0  0  0  0  0  0\\n   11.3730    1.3172   -5.2499 H   0  0  0  0  0  0  0  0  0  0  0  0\\n   10.3184   -0.7778   -1.7699 H   0  0  0  0  0  0  0  0  0  0  0  0\\n    3.7489    1.3950    0.8343 H   0  0  0  0  0  0  0  0  0  0  0  0\\n    2.4016    0.1478    0.9654 H   0  0  0  0  0  0  0  0  0  0  0  0\\n    1.4135    1.7573   -0.2509 H   0  0  0  0  0  0  0  0  0  0  0  0\\n    2.9705    2.1641   -1.1647 H   0  0  0  0  0  0  0  0  0  0  0  0\\n   -0.7808   -0.3579    0.0706 H   0  0  0  0  0  0  0  0  0  0  0  0\\n   -2.5083   -1.6413    0.8410 H   0  0  0  0  0  0  0  0  0  0  0  0\\n   -3.1571   -3.9360    0.0346 H   0  0  0  0  0  0  0  0  0  0  0  0\\n   -5.4749   -4.4630   -0.3175 H   0  0  0  0  0  0  0  0  0  0  0  0\\n   -7.2307   -2.8187    0.0731 H   0  0  0  0  0  0  0  0  0  0  0  0\\n  1  2  2  0\\n  2  3  1  0\\n  3  4  1  0\\n  4  5  2  0\\n  5  6  1  0\\n  6  7  1  0\\n  7  8  2  0\\n  8  9  1  0\\n  9 10  2  0\\n 10 11  1  0\\n 10 12  1  0\\n 12 13  1  0\\n 13 14  1  0\\n 14 15  1  0\\n 15 16  1  0\\n 16 17  1  0\\n 17 18  1  0\\n 18 19  1  0\\n 19 20  1  0\\n 20 21  1  0\\n 21 22  1  0\\n 22 23  2  0\\n 23 24  1  0\\n 24 25  2  0\\n 25 26  1  0\\n 26 27  1  0\\n 27 28  1  0\\n 28 29  1  0\\n 25 30  1  0\\n 30 31  2  0\\n 18 32  2  0\\n 17 33  1  0\\n 33 34  1  0\\n 13 35  2  0\\n 12 36  2  0\\n  5 37  1  0\\n 37 38  2  0\\n 38 39  1  0\\n 39 40  2  0\\n 40 41  1  0\\n 41 42  2  0\\n 42  2  1  0\\n 36  7  1  0\\n 34 14  1  0\\n 31 22  1  0\\n 30 29  1  0\\n 42 37  1  0\\n  3 43  1  0\\n  6 44  1  0\\n  6 45  1  0\\n  8 46  1  0\\n  9 47  1  0\\n 15 48  1  0\\n 15 49  1  0\\n 16 50  1  0\\n 16 51  1  0\\n 19 52  1  0\\n 19 53  1  0\\n 20 54  1  0\\n 20 55  1  0\\n 21 56  1  0\\n 21 57  1  0\\n 23 58  1  0\\n 24 59  1  0\\n 27 60  1  0\\n 27 61  1  0\\n 28 62  1  0\\n 28 63  1  0\\n 31 64  1  0\\n 33 65  1  0\\n 33 66  1  0\\n 34 67  1  0\\n 34 68  1  0\\n 36 69  1  0\\n 38 70  1  0\\n 39 71  1  0\\n 40 72  1  0\\n 41 73  1  0\\nM  END\\n\",\"sdf\");\n",
              "\tviewer_17014564664875085.setStyle({\"stick\": {}});\n",
              "\tviewer_17014564664875085.addModel(\"\\n     RDKit          3D\\n\\n 70 75  0  0  0  0  0  0  0  0999 V2000\\n   -8.2261   -0.5263    0.5540 O   0  0  0  0  0  0  0  0  0  0  0  0\\n   -7.0192   -0.2639    0.7899 C   0  0  0  0  0  0  0  0  0  0  0  0\\n   -6.6505    0.9485    1.2299 N   0  0  0  0  0  0  0  0  0  0  0  0\\n   -5.3960    1.2595    1.4868 N   0  0  0  0  0  0  0  0  0  0  0  0\\n   -4.3709    0.3664    1.3233 C   0  0  0  0  0  0  0  0  0  0  0  0\\n   -2.9954    0.7818    1.5820 C   0  0  0  0  0  0  0  0  0  0  0  0\\n   -2.2253    1.1911    0.3806 C   0  0  0  0  0  0  0  0  0  0  0  0\\n   -2.5498    2.4181   -0.1720 C   0  0  0  0  0  0  0  0  0  0  0  0\\n   -1.8725    2.8831   -1.2749 C   0  0  0  0  0  0  0  0  0  0  0  0\\n   -0.8466    2.1341   -1.8621 C   0  0  0  0  0  0  0  0  0  0  0  0\\n   -0.2436    2.6811   -2.9437 F   0  0  0  0  0  0  0  0  0  0  0  0\\n   -0.5237    0.9203   -1.3172 C   0  0  0  0  0  0  0  0  0  0  0  0\\n    0.5485    0.1487   -1.9373 C   0  0  0  0  0  0  0  0  0  0  0  0\\n    1.8937    0.2466   -1.5733 N   0  0  0  0  0  0  0  0  0  0  0  0\\n    2.3442    1.1424   -0.5255 C   0  0  0  0  0  0  0  0  0  0  0  0\\n    3.5759    0.6044    0.1723 C   0  0  0  0  0  0  0  0  0  0  0  0\\n    4.5868    0.1789   -0.7396 N   0  0  0  0  0  0  0  0  0  0  0  0\\n    5.9022   -0.0980   -0.2341 C   0  0  0  0  0  0  0  0  0  0  0  0\\n    6.9908   -0.5396   -1.1178 C   0  0  0  0  0  0  0  0  0  0  0  0\\n    8.2881   -0.7594   -0.4533 C   0  0  0  0  0  0  0  0  0  0  0  0\\n    8.9212    0.3657    0.2235 C   0  0  0  0  0  0  0  0  0  0  0  0\\n    8.8936    0.6600    1.5562 C   0  0  0  0  0  0  0  0  0  0  0  0\\n    9.5294    1.7943    2.0726 C   0  0  0  0  0  0  0  0  0  0  0  0\\n   10.2095    2.6599    1.2615 C   0  0  0  0  0  0  0  0  0  0  0  0\\n   10.2526    2.3802   -0.1026 C   0  0  0  0  0  0  0  0  0  0  0  0\\n   10.9579    3.2965   -0.8658 O   0  0  0  0  0  0  0  0  0  0  0  0\\n   11.9185    4.1850   -0.3833 C   0  0  0  0  0  0  0  0  0  0  0  0\\n   12.0169    4.2915    1.1012 C   0  0  0  0  0  0  0  0  0  0  0  0\\n   10.8535    3.7969    1.7389 O   0  0  0  0  0  0  0  0  0  0  0  0\\n    9.6237    1.2649   -0.5914 C   0  0  0  0  0  0  0  0  0  0  0  0\\n    6.1047    0.0452    0.9857 O   0  0  0  0  0  0  0  0  0  0  0  0\\n    4.2577    0.0390   -2.1403 C   0  0  0  0  0  0  0  0  0  0  0  0\\n    2.8857   -0.5598   -2.2478 C   0  0  0  0  0  0  0  0  0  0  0  0\\n    0.2256   -0.6594   -2.8649 O   0  0  0  0  0  0  0  0  0  0  0  0\\n   -1.2162    0.4706   -0.2082 C   0  0  0  0  0  0  0  0  0  0  0  0\\n   -4.7317   -0.8699    0.8780 C   0  0  0  0  0  0  0  0  0  0  0  0\\n   -3.8101   -1.8485    0.6896 C   0  0  0  0  0  0  0  0  0  0  0  0\\n   -4.1271   -3.1280    0.2468 C   0  0  0  0  0  0  0  0  0  0  0  0\\n   -5.4270   -3.4566   -0.0235 C   0  0  0  0  0  0  0  0  0  0  0  0\\n   -6.3759   -2.4873    0.1598 C   0  0  0  0  0  0  0  0  0  0  0  0\\n   -6.0587   -1.2105    0.6022 C   0  0  0  0  0  0  0  0  0  0  0  0\\n   -7.3968    1.6593    1.3683 H   0  0  0  0  0  0  0  0  0  0  0  0\\n   -3.0395    1.7109    2.2273 H   0  0  0  0  0  0  0  0  0  0  0  0\\n   -2.4235    0.0663    2.2136 H   0  0  0  0  0  0  0  0  0  0  0  0\\n   -3.3358    3.0085    0.2656 H   0  0  0  0  0  0  0  0  0  0  0  0\\n   -2.1388    3.8404   -1.6914 H   0  0  0  0  0  0  0  0  0  0  0  0\\n    2.5121    2.1610   -0.8881 H   0  0  0  0  0  0  0  0  0  0  0  0\\n    1.5401    1.1845    0.2403 H   0  0  0  0  0  0  0  0  0  0  0  0\\n    3.2848   -0.1537    0.9237 H   0  0  0  0  0  0  0  0  0  0  0  0\\n    3.9978    1.4711    0.7596 H   0  0  0  0  0  0  0  0  0  0  0  0\\n    7.0583    0.0814   -2.0449 H   0  0  0  0  0  0  0  0  0  0  0  0\\n    6.6535   -1.5483   -1.5240 H   0  0  0  0  0  0  0  0  0  0  0  0\\n    9.0611   -1.1543   -1.1862 H   0  0  0  0  0  0  0  0  0  0  0  0\\n    8.1721   -1.5687    0.3287 H   0  0  0  0  0  0  0  0  0  0  0  0\\n    8.4034    0.0251    2.2476 H   0  0  0  0  0  0  0  0  0  0  0  0\\n    9.4927    2.0057    3.1301 H   0  0  0  0  0  0  0  0  0  0  0  0\\n   11.6677    5.1919   -0.8221 H   0  0  0  0  0  0  0  0  0  0  0  0\\n   12.9510    3.9459   -0.7723 H   0  0  0  0  0  0  0  0  0  0  0  0\\n   12.1340    5.3713    1.3736 H   0  0  0  0  0  0  0  0  0  0  0  0\\n   12.8680    3.6870    1.4647 H   0  0  0  0  0  0  0  0  0  0  0  0\\n    9.6798    1.0828   -1.6544 H   0  0  0  0  0  0  0  0  0  0  0  0\\n    4.2492    1.0161   -2.6606 H   0  0  0  0  0  0  0  0  0  0  0  0\\n    4.9565   -0.6195   -2.6879 H   0  0  0  0  0  0  0  0  0  0  0  0\\n    2.8535   -1.6204   -1.9411 H   0  0  0  0  0  0  0  0  0  0  0  0\\n    2.5932   -0.5577   -3.3375 H   0  0  0  0  0  0  0  0  0  0  0  0\\n   -0.9278   -0.4855    0.2030 H   0  0  0  0  0  0  0  0  0  0  0  0\\n   -2.7933   -1.6489    0.8992 H   0  0  0  0  0  0  0  0  0  0  0  0\\n   -3.3779   -3.8937    0.1025 H   0  0  0  0  0  0  0  0  0  0  0  0\\n   -5.7271   -4.4270   -0.3679 H   0  0  0  0  0  0  0  0  0  0  0  0\\n   -7.4352   -2.6937   -0.0409 H   0  0  0  0  0  0  0  0  0  0  0  0\\n  1  2  2  0\\n  2  3  1  0\\n  3  4  1  0\\n  4  5  2  0\\n  5  6  1  0\\n  6  7  1  0\\n  7  8  2  0\\n  8  9  1  0\\n  9 10  2  0\\n 10 11  1  0\\n 10 12  1  0\\n 12 13  1  0\\n 13 14  1  0\\n 14 15  1  0\\n 15 16  1  0\\n 16 17  1  0\\n 17 18  1  0\\n 18 19  1  0\\n 19 20  1  0\\n 20 21  1  0\\n 21 22  2  0\\n 22 23  1  0\\n 23 24  2  0\\n 24 25  1  0\\n 25 26  1  0\\n 26 27  1  0\\n 27 28  1  0\\n 28 29  1  0\\n 25 30  2  0\\n 18 31  2  0\\n 17 32  1  0\\n 32 33  1  0\\n 13 34  2  0\\n 12 35  2  0\\n  5 36  1  0\\n 36 37  2  0\\n 37 38  1  0\\n 38 39  2  0\\n 39 40  1  0\\n 40 41  2  0\\n 41  2  1  0\\n 35  7  1  0\\n 33 14  1  0\\n 30 21  1  0\\n 29 24  1  0\\n 41 36  1  0\\n  3 42  1  0\\n  6 43  1  0\\n  6 44  1  0\\n  8 45  1  0\\n  9 46  1  0\\n 15 47  1  0\\n 15 48  1  0\\n 16 49  1  0\\n 16 50  1  0\\n 19 51  1  0\\n 19 52  1  0\\n 20 53  1  0\\n 20 54  1  0\\n 22 55  1  0\\n 23 56  1  0\\n 27 57  1  0\\n 27 58  1  0\\n 28 59  1  0\\n 28 60  1  0\\n 30 61  1  0\\n 32 62  1  0\\n 32 63  1  0\\n 33 64  1  0\\n 33 65  1  0\\n 35 66  1  0\\n 37 67  1  0\\n 38 68  1  0\\n 39 69  1  0\\n 40 70  1  0\\nM  END\\n\",\"sdf\");\n",
              "\tviewer_17014564664875085.setStyle({\"stick\": {}});\n",
              "\tviewer_17014564664875085.addModel(\"\\n     RDKit          3D\\n\\n 67 72  0  0  0  0  0  0  0  0999 V2000\\n   -8.0814   -0.5011    0.6158 O   0  0  0  0  0  0  0  0  0  0  0  0\\n   -6.8731   -0.2408    0.8420 C   0  0  0  0  0  0  0  0  0  0  0  0\\n   -6.4490    0.9567    1.2790 N   0  0  0  0  0  0  0  0  0  0  0  0\\n   -5.2040    1.2426    1.5170 N   0  0  0  0  0  0  0  0  0  0  0  0\\n   -4.1883    0.3347    1.3416 C   0  0  0  0  0  0  0  0  0  0  0  0\\n   -2.7913    0.7600    1.5899 C   0  0  0  0  0  0  0  0  0  0  0  0\\n   -2.1117    1.1686    0.3456 C   0  0  0  0  0  0  0  0  0  0  0  0\\n   -2.4937    2.4131   -0.1850 C   0  0  0  0  0  0  0  0  0  0  0  0\\n   -1.8894    2.8643   -1.3248 C   0  0  0  0  0  0  0  0  0  0  0  0\\n   -0.9093    2.1375   -1.9808 C   0  0  0  0  0  0  0  0  0  0  0  0\\n   -0.3627    2.6648   -3.1097 F   0  0  0  0  0  0  0  0  0  0  0  0\\n   -0.5275    0.9251   -1.4759 C   0  0  0  0  0  0  0  0  0  0  0  0\\n    0.4901    0.1334   -2.1200 C   0  0  0  0  0  0  0  0  0  0  0  0\\n    1.8597    0.3018   -1.7437 N   0  0  0  0  0  0  0  0  0  0  0  0\\n    2.2058    1.2583   -0.7262 C   0  0  0  0  0  0  0  0  0  0  0  0\\n    3.3280    0.7620    0.1724 C   0  0  0  0  0  0  0  0  0  0  0  0\\n    4.4031    0.2039   -0.6423 N   0  0  0  0  0  0  0  0  0  0  0  0\\n    5.5880   -0.2196   -0.0052 C   0  0  0  0  0  0  0  0  0  0  0  0\\n    5.7306   -0.0987    1.4604 C   0  0  0  0  0  0  0  0  0  0  0  0\\n    7.0482   -0.5916    1.9264 C   0  0  0  0  0  0  0  0  0  0  0  0\\n    7.2042   -1.9141    2.2764 C   0  0  0  0  0  0  0  0  0  0  0  0\\n    8.4194   -2.4002    2.7149 C   0  0  0  0  0  0  0  0  0  0  0  0\\n    9.5119   -1.5688    2.8133 C   0  0  0  0  0  0  0  0  0  0  0  0\\n   10.7569   -2.0273    3.2533 O   0  0  0  0  0  0  0  0  0  0  0  0\\n   11.9226   -1.2357    3.1800 C   0  0  0  0  0  0  0  0  0  0  0  0\\n   11.5364    0.1947    3.4885 C   0  0  0  0  0  0  0  0  0  0  0  0\\n   10.5035    0.5634    2.5814 O   0  0  0  0  0  0  0  0  0  0  0  0\\n    9.3793   -0.2388    2.4676 C   0  0  0  0  0  0  0  0  0  0  0  0\\n    8.1530    0.2260    2.0312 C   0  0  0  0  0  0  0  0  0  0  0  0\\n    6.5196   -0.7044   -0.7331 O   0  0  0  0  0  0  0  0  0  0  0  0\\n    4.2334    0.0962   -2.0880 C   0  0  0  0  0  0  0  0  0  0  0  0\\n    2.8869   -0.4803   -2.3749 C   0  0  0  0  0  0  0  0  0  0  0  0\\n    0.2171   -0.7041   -3.0050 O   0  0  0  0  0  0  0  0  0  0  0  0\\n   -1.1431    0.4739   -0.3213 C   0  0  0  0  0  0  0  0  0  0  0  0\\n   -4.5838   -0.8936    0.8994 C   0  0  0  0  0  0  0  0  0  0  0  0\\n   -3.6448   -1.8829    0.7066 C   0  0  0  0  0  0  0  0  0  0  0  0\\n   -3.9929   -3.1485    0.2706 C   0  0  0  0  0  0  0  0  0  0  0  0\\n   -5.3010   -3.4333    0.0231 C   0  0  0  0  0  0  0  0  0  0  0  0\\n   -6.2560   -2.4629    0.2096 C   0  0  0  0  0  0  0  0  0  0  0  0\\n   -5.9101   -1.2161    0.6398 C   0  0  0  0  0  0  0  0  0  0  0  0\\n   -7.1919    1.7020    1.4334 H   0  0  0  0  0  0  0  0  0  0  0  0\\n   -2.8256    1.6389    2.2709 H   0  0  0  0  0  0  0  0  0  0  0  0\\n   -2.2258   -0.0321    2.1357 H   0  0  0  0  0  0  0  0  0  0  0  0\\n   -3.2544    2.9931    0.3114 H   0  0  0  0  0  0  0  0  0  0  0  0\\n   -2.1993    3.8240   -1.7147 H   0  0  0  0  0  0  0  0  0  0  0  0\\n    1.3389    1.4626   -0.0858 H   0  0  0  0  0  0  0  0  0  0  0  0\\n    2.5097    2.1949   -1.2336 H   0  0  0  0  0  0  0  0  0  0  0  0\\n    3.6860    1.6284    0.7651 H   0  0  0  0  0  0  0  0  0  0  0  0\\n    2.9800   -0.0137    0.8602 H   0  0  0  0  0  0  0  0  0  0  0  0\\n    5.5749    0.9828    1.7103 H   0  0  0  0  0  0  0  0  0  0  0  0\\n    4.8918   -0.6341    1.9934 H   0  0  0  0  0  0  0  0  0  0  0  0\\n    6.3768   -2.6072    2.2167 H   0  0  0  0  0  0  0  0  0  0  0  0\\n    8.5427   -3.4294    2.9875 H   0  0  0  0  0  0  0  0  0  0  0  0\\n   12.3902   -1.3197    2.1999 H   0  0  0  0  0  0  0  0  0  0  0  0\\n   12.6208   -1.5609    3.9735 H   0  0  0  0  0  0  0  0  0  0  0  0\\n   12.4407    0.8183    3.3242 H   0  0  0  0  0  0  0  0  0  0  0  0\\n   11.2087    0.3277    4.5188 H   0  0  0  0  0  0  0  0  0  0  0  0\\n    8.0618    1.2574    1.7661 H   0  0  0  0  0  0  0  0  0  0  0  0\\n    4.2992    1.1140   -2.5291 H   0  0  0  0  0  0  0  0  0  0  0  0\\n    5.0516   -0.5119   -2.5346 H   0  0  0  0  0  0  0  0  0  0  0  0\\n    2.8575   -1.5422   -2.0322 H   0  0  0  0  0  0  0  0  0  0  0  0\\n    2.7187   -0.4003   -3.4699 H   0  0  0  0  0  0  0  0  0  0  0  0\\n   -0.8218   -0.4768    0.0670 H   0  0  0  0  0  0  0  0  0  0  0  0\\n   -2.6204   -1.6386    0.9253 H   0  0  0  0  0  0  0  0  0  0  0  0\\n   -3.1900   -3.8853    0.1392 H   0  0  0  0  0  0  0  0  0  0  0  0\\n   -5.5623   -4.4318   -0.3199 H   0  0  0  0  0  0  0  0  0  0  0  0\\n   -7.2779   -2.6934    0.0142 H   0  0  0  0  0  0  0  0  0  0  0  0\\n  1  2  2  0\\n  2  3  1  0\\n  3  4  1  0\\n  4  5  2  0\\n  5  6  1  0\\n  6  7  1  0\\n  7  8  2  0\\n  8  9  1  0\\n  9 10  2  0\\n 10 11  1  0\\n 10 12  1  0\\n 12 13  1  0\\n 13 14  1  0\\n 14 15  1  0\\n 15 16  1  0\\n 16 17  1  0\\n 17 18  1  0\\n 18 19  1  0\\n 19 20  1  0\\n 20 21  2  0\\n 21 22  1  0\\n 22 23  2  0\\n 23 24  1  0\\n 24 25  1  0\\n 25 26  1  0\\n 26 27  1  0\\n 23 28  1  0\\n 28 29  2  0\\n 18 30  2  0\\n 17 31  1  0\\n 31 32  1  0\\n 13 33  2  0\\n 12 34  2  0\\n  5 35  1  0\\n 35 36  2  0\\n 36 37  1  0\\n 37 38  2  0\\n 38 39  1  0\\n 39 40  2  0\\n 40  2  1  0\\n 34  7  1  0\\n 32 14  1  0\\n 29 20  1  0\\n 28 27  1  0\\n 40 35  1  0\\n  3 41  1  0\\n  6 42  1  0\\n  6 43  1  0\\n  8 44  1  0\\n  9 45  1  0\\n 15 46  1  0\\n 15 47  1  0\\n 16 48  1  0\\n 16 49  1  0\\n 19 50  1  0\\n 19 51  1  0\\n 21 52  1  0\\n 22 53  1  0\\n 25 54  1  0\\n 25 55  1  0\\n 26 56  1  0\\n 26 57  1  0\\n 29 58  1  0\\n 31 59  1  0\\n 31 60  1  0\\n 32 61  1  0\\n 32 62  1  0\\n 34 63  1  0\\n 36 64  1  0\\n 37 65  1  0\\n 38 66  1  0\\n 39 67  1  0\\nM  END\\n\",\"sdf\");\n",
              "\tviewer_17014564664875085.setStyle({\"stick\": {}});\n",
              "\tviewer_17014564664875085.addModel(\"\\n     RDKit          3D\\n\\n 64 67  0  0  0  0  0  0  0  0999 V2000\\n   -8.2200   -0.5006    0.9458 N   0  0  0  0  0  0  0  0  0  0  0  0\\n   -6.8302   -0.2519    1.0310 C   0  0  0  0  0  0  0  0  0  0  0  0\\n   -5.8854   -1.2658    0.6258 C   0  0  0  0  0  0  0  0  0  0  0  0\\n   -6.3066   -2.4703    0.1581 C   0  0  0  0  0  0  0  0  0  0  0  0\\n   -5.4098   -3.4564   -0.2355 C   0  0  0  0  0  0  0  0  0  0  0  0\\n   -4.0655   -3.1853   -0.1411 C   0  0  0  0  0  0  0  0  0  0  0  0\\n   -3.5943   -1.9722    0.3297 C   0  0  0  0  0  0  0  0  0  0  0  0\\n   -4.5004   -1.0094    0.7140 C   0  0  0  0  0  0  0  0  0  0  0  0\\n   -4.1662    0.2016    1.1862 O   0  0  0  0  0  0  0  0  0  0  0  0\\n   -3.0992    0.9635    1.4676 C   0  0  0  0  0  0  0  0  0  0  0  0\\n   -2.2463    1.2812    0.3132 C   0  0  0  0  0  0  0  0  0  0  0  0\\n   -2.6258    2.3515   -0.5013 C   0  0  0  0  0  0  0  0  0  0  0  0\\n   -1.8526    2.7083   -1.5731 C   0  0  0  0  0  0  0  0  0  0  0  0\\n   -0.6926    1.9812   -1.8223 C   0  0  0  0  0  0  0  0  0  0  0  0\\n   -0.3102    0.9342   -1.0353 C   0  0  0  0  0  0  0  0  0  0  0  0\\n    0.8991    0.1856   -1.3061 C   0  0  0  0  0  0  0  0  0  0  0  0\\n    1.7910    0.4405   -2.3768 N   0  0  0  0  0  0  0  0  0  0  0  0\\n    3.0028   -0.3030   -2.6474 C   0  0  0  0  0  0  0  0  0  0  0  0\\n    3.9491   -0.1928   -1.5074 C   0  0  0  0  0  0  0  0  0  0  0  0\\n    5.1881   -0.9196   -1.7437 N   0  0  0  0  0  0  0  0  0  0  0  0\\n    6.1724   -0.8881   -0.7266 C   0  0  0  0  0  0  0  0  0  0  0  0\\n    7.4795   -1.6165   -0.9015 C   0  0  0  0  0  0  0  0  0  0  0  0\\n    8.3103   -1.4014    0.3198 C   0  0  0  0  0  0  0  0  0  0  0  0\\n    7.6513   -1.9145    1.5868 C   0  0  0  0  0  0  0  0  0  0  0  0\\n    8.8446   -2.5512    2.2906 C   0  0  0  0  0  0  0  0  0  0  0  0\\n    9.8785   -1.4960    2.5414 C   0  0  0  0  0  0  0  0  0  0  0  0\\n   10.5652   -1.2233    1.1982 C   0  0  0  0  0  0  0  0  0  0  0  0\\n    9.6727   -1.9980    0.2522 C   0  0  0  0  0  0  0  0  0  0  0  0\\n    9.4691   -3.2775    1.0857 C   0  0  0  0  0  0  0  0  0  0  0  0\\n    5.9285   -0.2397    0.3213 O   0  0  0  0  0  0  0  0  0  0  0  0\\n    1.2289   -0.7974   -0.5392 O   0  0  0  0  0  0  0  0  0  0  0  0\\n   -1.1001    0.5853    0.0433 C   0  0  0  0  0  0  0  0  0  0  0  0\\n   -6.4457    0.8612    1.4635 O   0  0  0  0  0  0  0  0  0  0  0  0\\n   -8.6753   -1.1979    1.5481 H   0  0  0  0  0  0  0  0  0  0  0  0\\n   -8.7770    0.0406    0.2557 H   0  0  0  0  0  0  0  0  0  0  0  0\\n   -7.3885   -2.6657    0.0910 H   0  0  0  0  0  0  0  0  0  0  0  0\\n   -5.8256   -4.3712   -0.5901 H   0  0  0  0  0  0  0  0  0  0  0  0\\n   -3.3822   -3.9827   -0.4591 H   0  0  0  0  0  0  0  0  0  0  0  0\\n   -2.5354   -1.8121    0.3918 H   0  0  0  0  0  0  0  0  0  0  0  0\\n   -3.3847    1.9545    1.9187 H   0  0  0  0  0  0  0  0  0  0  0  0\\n   -2.4809    0.4824    2.2783 H   0  0  0  0  0  0  0  0  0  0  0  0\\n   -3.5270    2.8769   -0.2654 H   0  0  0  0  0  0  0  0  0  0  0  0\\n   -2.1675    3.5397   -2.1877 H   0  0  0  0  0  0  0  0  0  0  0  0\\n   -0.1165    2.3005   -2.6789 H   0  0  0  0  0  0  0  0  0  0  0  0\\n    1.5092    1.2533   -3.0097 H   0  0  0  0  0  0  0  0  0  0  0  0\\n    3.4897    0.1404   -3.5394 H   0  0  0  0  0  0  0  0  0  0  0  0\\n    2.7287   -1.3488   -2.9024 H   0  0  0  0  0  0  0  0  0  0  0  0\\n    3.4971   -0.6409   -0.6042 H   0  0  0  0  0  0  0  0  0  0  0  0\\n    4.1451    0.8873   -1.3294 H   0  0  0  0  0  0  0  0  0  0  0  0\\n    5.3359   -1.4377   -2.6259 H   0  0  0  0  0  0  0  0  0  0  0  0\\n    7.3266   -2.6573   -1.1821 H   0  0  0  0  0  0  0  0  0  0  0  0\\n    7.9902   -1.1126   -1.7474 H   0  0  0  0  0  0  0  0  0  0  0  0\\n    8.4230   -0.2977    0.4578 H   0  0  0  0  0  0  0  0  0  0  0  0\\n    7.2051   -1.1076    2.1750 H   0  0  0  0  0  0  0  0  0  0  0  0\\n    6.9456   -2.7567    1.3795 H   0  0  0  0  0  0  0  0  0  0  0  0\\n    8.5997   -3.1982    3.1055 H   0  0  0  0  0  0  0  0  0  0  0  0\\n    9.3432   -0.5590    2.8016 H   0  0  0  0  0  0  0  0  0  0  0  0\\n   10.6256   -1.7889    3.3078 H   0  0  0  0  0  0  0  0  0  0  0  0\\n   10.5908   -0.1424    0.9672 H   0  0  0  0  0  0  0  0  0  0  0  0\\n   11.5843   -1.6678    1.2048 H   0  0  0  0  0  0  0  0  0  0  0  0\\n   10.0815   -2.1853   -0.7199 H   0  0  0  0  0  0  0  0  0  0  0  0\\n    8.7319   -3.9428    0.6416 H   0  0  0  0  0  0  0  0  0  0  0  0\\n   10.4329   -3.7333    1.3431 H   0  0  0  0  0  0  0  0  0  0  0  0\\n   -0.8041   -0.2368    0.6780 H   0  0  0  0  0  0  0  0  0  0  0  0\\n  1  2  1  0\\n  2  3  1  0\\n  3  4  2  0\\n  4  5  1  0\\n  5  6  2  0\\n  6  7  1  0\\n  7  8  2  0\\n  8  9  1  0\\n  9 10  1  0\\n 10 11  1  0\\n 11 12  2  0\\n 12 13  1  0\\n 13 14  2  0\\n 14 15  1  0\\n 15 16  1  0\\n 16 17  1  0\\n 17 18  1  0\\n 18 19  1  0\\n 19 20  1  0\\n 20 21  1  0\\n 21 22  1  0\\n 22 23  1  0\\n 23 24  1  0\\n 24 25  1  0\\n 25 26  1  0\\n 26 27  1  0\\n 27 28  1  0\\n 28 29  1  0\\n 21 30  2  0\\n 16 31  2  0\\n 15 32  2  0\\n  2 33  2  0\\n  8  3  1  0\\n 32 11  1  0\\n 28 23  1  0\\n 29 25  1  0\\n  1 34  1  0\\n  1 35  1  0\\n  4 36  1  0\\n  5 37  1  0\\n  6 38  1  0\\n  7 39  1  0\\n 10 40  1  0\\n 10 41  1  0\\n 12 42  1  0\\n 13 43  1  0\\n 14 44  1  0\\n 17 45  1  0\\n 18 46  1  0\\n 18 47  1  0\\n 19 48  1  0\\n 19 49  1  0\\n 20 50  1  0\\n 22 51  1  0\\n 22 52  1  0\\n 23 53  1  0\\n 24 54  1  0\\n 24 55  1  0\\n 25 56  1  0\\n 26 57  1  0\\n 26 58  1  0\\n 27 59  1  0\\n 27 60  1  0\\n 28 61  1  0\\n 29 62  1  0\\n 29 63  1  0\\n 32 64  1  0\\nM  END\\n\",\"sdf\");\n",
              "\tviewer_17014564664875085.setStyle({\"stick\": {}});\n",
              "\tviewer_17014564664875085.setStyle({\"model\": 0},{\"stick\": {\"colorscheme\": \"cyanCarbon\"}});\n",
              "\tviewer_17014564664875085.setStyle({\"model\": 1},{\"stick\": {\"colorscheme\": \"redCarbon\"}});\n",
              "\tviewer_17014564664875085.setStyle({\"model\": 2},{\"stick\": {\"colorscheme\": \"blueCarbon\"}});\n",
              "\tviewer_17014564664875085.setStyle({\"model\": 3},{\"stick\": {\"colorscheme\": \"aliceblueCrbon\"}});\n",
              "\tviewer_17014564664875085.setStyle({\"model\": 4},{\"stick\": {\"colorscheme\": \"greenCarbon\"}});\n",
              "\tviewer_17014564664875085.setStyle({\"model\": 5},{\"stick\": {\"colorscheme\": \"yellowCarbon\"}});\n",
              "\tviewer_17014564664875085.zoomTo();\n",
              "viewer_17014564664875085.render();\n",
              "});\n",
              "</script>"
            ]
          },
          "metadata": {}
        }
      ]
    },
    {
      "cell_type": "code",
      "source": [
        "#Define featurefactory from defualt base features\n",
        "fdef = AllChem.BuildFeatureFactory(os.path.join(RDConfig.RDDataDir,'BaseFeatures.fdef'))\n",
        "\n",
        "#Create dict for holding the params for each feature\n",
        "fmParams = {}\n",
        "for k in fdef.GetFeatureFamilies():\n",
        "    fparams = FeatMaps.FeatMapParams()\n",
        "    fmParams[k] = fparams\n",
        "\n",
        "[print(k,':',v) for k, v in fmParams.items()]\n",
        "\n"
      ],
      "metadata": {
        "colab": {
          "base_uri": "https://localhost:8080/"
        },
        "id": "FNNuwNOZuU4_",
        "outputId": "6e848a00-6f39-4224-b302-cea012502425"
      },
      "execution_count": 11,
      "outputs": [
        {
          "output_type": "stream",
          "name": "stdout",
          "text": [
            "Donor : <rdkit.Chem.FeatMaps.FeatMaps.FeatMapParams object at 0x7eedb9e9fb20>\n",
            "Acceptor : <rdkit.Chem.FeatMaps.FeatMaps.FeatMapParams object at 0x7eedb9e9eb00>\n",
            "NegIonizable : <rdkit.Chem.FeatMaps.FeatMaps.FeatMapParams object at 0x7eedb9e9f100>\n",
            "PosIonizable : <rdkit.Chem.FeatMaps.FeatMaps.FeatMapParams object at 0x7eedb9e9f4c0>\n",
            "ZnBinder : <rdkit.Chem.FeatMaps.FeatMaps.FeatMapParams object at 0x7eedb9e9ee90>\n",
            "Aromatic : <rdkit.Chem.FeatMaps.FeatMaps.FeatMapParams object at 0x7eedb9e9fe80>\n",
            "Hydrophobe : <rdkit.Chem.FeatMaps.FeatMaps.FeatMapParams object at 0x7eedb9e9dcc0>\n",
            "LumpedHydrophobe : <rdkit.Chem.FeatMaps.FeatMaps.FeatMapParams object at 0x7eedb9e9fb50>\n"
          ]
        },
        {
          "output_type": "execute_result",
          "data": {
            "text/plain": [
              "[None, None, None, None, None, None, None, None]"
            ]
          },
          "metadata": {},
          "execution_count": 11
        }
      ]
    },
    {
      "cell_type": "code",
      "source": [
        "#Define list the features to keep for mapping\n",
        "keep = ('Donor','Acceptor','NegIonizable','PosIonizable','Aromatic')\n",
        "\n",
        "#Create the feature list\n",
        "featLists = []\n",
        "for mol in data_df[\"mols\"]:\n",
        "    rawFeats = fdef.GetFeaturesForMol(mol) #get the list of all features for the mol\n",
        "    featLists.append([f for f in rawFeats if f.GetFamily() in keep]) # filter the full list to only include the ones in the keep list"
      ],
      "metadata": {
        "id": "0GBDjiKovkDW"
      },
      "execution_count": 12,
      "outputs": []
    },
    {
      "cell_type": "code",
      "source": [
        "from rdkit.Chem.Features.ShowFeats import _featColors as featColors\n",
        "\n",
        "#Define functions for drawing the features\n",
        "def colorToHex(rgb):\n",
        "    rgb = [f'{int(255*x):x}' for x in rgb]\n",
        "    return '0x'+''.join(rgb)\n",
        "\n",
        "def drawmolfeats(m, feats, p=None, confId=-1, removeHs=True):\n",
        "        if p is None:\n",
        "            p = py3Dmol.view(width=400, height=400)\n",
        "        p.removeAllModels()\n",
        "        if removeHs:\n",
        "            m = Chem.RemoveHs(m)\n",
        "        IPythonConsole.addMolToView(m,p,confId=confId)\n",
        "        for feat in feats:\n",
        "            pos = feat.GetPos()\n",
        "            clr = featColors.get(feat.GetFamily(),(.5,.5,.5))\n",
        "            p.addSphere({'center':{'x':pos.x,'y':pos.y,'z':pos.z},'radius':.5,'color':colorToHex(clr)});\n",
        "        p.zoomTo()\n",
        "        return p.show()\n",
        "\n",
        "def drawfeatsonly(m, feats, p=None, confId=-1, removeHs=True):\n",
        "        if p is None:\n",
        "            p = py3Dmol.view(width=400, height=400)\n",
        "        p.removeAllModels()\n",
        "        if removeHs:\n",
        "            m = Chem.RemoveHs(m)\n",
        "        for feat in feats:\n",
        "            pos = feat.GetPos()\n",
        "            clr = featColors.get(feat.GetFamily(),(.5,.5,.5))\n",
        "            p.addSphere({'center':{'x':pos.x,'y':pos.y,'z':pos.z},'radius':.5,'color':colorToHex(clr)});\n",
        "        p.zoomTo()\n",
        "        return p.show()"
      ],
      "metadata": {
        "id": "jNtrEdrXvA7u"
      },
      "execution_count": 13,
      "outputs": []
    },
    {
      "cell_type": "code",
      "source": [
        "drawmolfeats(data_df[\"mols\"][1],featLists[1])"
      ],
      "metadata": {
        "colab": {
          "base_uri": "https://localhost:8080/",
          "height": 417
        },
        "id": "gbRHJBUSvQw2",
        "outputId": "6df4defd-fac4-4619-b957-57888448f1d4"
      },
      "execution_count": 16,
      "outputs": [
        {
          "output_type": "display_data",
          "data": {
            "application/3dmoljs_load.v0": "<div id=\"3dmolviewer_17014574825092294\"  style=\"position: relative; width: 400px; height: 400px;\">\n        <p id=\"3dmolwarning_17014574825092294\" style=\"background-color:#ffcccc;color:black\">You appear to be running in JupyterLab (or JavaScript failed to load for some other reason).  You need to install the 3dmol extension: <br>\n        <tt>jupyter labextension install jupyterlab_3dmol</tt></p>\n        </div>\n<script>\n\nvar loadScriptAsync = function(uri){\n  return new Promise((resolve, reject) => {\n    //this is to ignore the existence of requirejs amd\n    var savedexports, savedmodule;\n    if (typeof exports !== 'undefined') savedexports = exports;\n    else exports = {}\n    if (typeof module !== 'undefined') savedmodule = module;\n    else module = {}\n\n    var tag = document.createElement('script');\n    tag.src = uri;\n    tag.async = true;\n    tag.onload = () => {\n        exports = savedexports;\n        module = savedmodule;\n        resolve();\n    };\n  var firstScriptTag = document.getElementsByTagName('script')[0];\n  firstScriptTag.parentNode.insertBefore(tag, firstScriptTag);\n});\n};\n\nif(typeof $3Dmolpromise === 'undefined') {\n$3Dmolpromise = null;\n  $3Dmolpromise = loadScriptAsync('https://cdnjs.cloudflare.com/ajax/libs/3Dmol/2.0.4/3Dmol-min.js');\n}\n\nvar viewer_17014574825092294 = null;\nvar warn = document.getElementById(\"3dmolwarning_17014574825092294\");\nif(warn) {\n    warn.parentNode.removeChild(warn);\n}\n$3Dmolpromise.then(function() {\nviewer_17014574825092294 = $3Dmol.createViewer(document.getElementById(\"3dmolviewer_17014574825092294\"),{backgroundColor:\"white\"});\nviewer_17014574825092294.zoomTo();\n\tviewer_17014574825092294.removeAllModels();\n\tviewer_17014574825092294.addModel(\"\\n     RDKit          3D\\n\\n 37 42  0  0  0  0  0  0  0  0999 V2000\\n   -8.0895   -0.5031    0.7071 O   0  0  0  0  0  0  0  0  0  0  0  0\\n   -6.8669   -0.2460    0.9032 C   0  0  0  0  0  0  0  0  0  0  0  0\\n   -6.4916    0.9494    1.3754 N   0  0  0  0  0  0  0  0  0  0  0  0\\n   -5.2235    1.2016    1.5724 N   0  0  0  0  0  0  0  0  0  0  0  0\\n   -4.2404    0.3026    1.3208 C   0  0  0  0  0  0  0  0  0  0  0  0\\n   -2.8195    0.6848    1.5249 C   0  0  0  0  0  0  0  0  0  0  0  0\\n   -2.1408    1.1315    0.2927 C   0  0  0  0  0  0  0  0  0  0  0  0\\n   -2.5280    2.3336   -0.2892 C   0  0  0  0  0  0  0  0  0  0  0  0\\n   -1.9410    2.8369   -1.4075 C   0  0  0  0  0  0  0  0  0  0  0  0\\n   -0.9103    2.0957   -1.9734 C   0  0  0  0  0  0  0  0  0  0  0  0\\n   -0.3348    2.6085   -3.0870 F   0  0  0  0  0  0  0  0  0  0  0  0\\n   -0.5081    0.9055   -1.4190 C   0  0  0  0  0  0  0  0  0  0  0  0\\n    0.5599    0.1334   -2.0044 C   0  0  0  0  0  0  0  0  0  0  0  0\\n    1.8992    0.3388   -1.6091 N   0  0  0  0  0  0  0  0  0  0  0  0\\n    2.9519   -0.4322   -2.1981 C   0  0  0  0  0  0  0  0  0  0  0  0\\n    4.3054    0.2261   -2.0139 C   0  0  0  0  0  0  0  0  0  0  0  0\\n    4.1934    1.6708   -1.9354 N   0  0  0  0  0  0  0  0  0  0  0  0\\n    5.1758    2.4461   -2.6061 C   0  0  0  0  0  0  0  0  0  0  0  0\\n    6.2949    1.8042   -3.3778 C   0  0  0  0  0  0  0  0  0  0  0  0\\n    7.1771    2.8636   -3.9485 C   0  0  0  0  0  0  0  0  0  0  0  0\\n    8.3341    2.2956   -4.7471 C   0  0  0  0  0  0  0  0  0  0  0  0\\n    9.5583    3.0924   -4.3563 C   0  0  0  0  0  0  0  0  0  0  0  0\\n   10.0235    2.5625   -3.0269 C   0  0  0  0  0  0  0  0  0  0  0  0\\n    8.8344    2.9238   -2.1242 C   0  0  0  0  0  0  0  0  0  0  0  0\\n    7.8851    3.7219   -2.9595 C   0  0  0  0  0  0  0  0  0  0  0  0\\n    8.8974    4.4071   -3.9042 C   0  0  0  0  0  0  0  0  0  0  0  0\\n    5.0883    3.6985   -2.5397 O   0  0  0  0  0  0  0  0  0  0  0  0\\n    3.1440    2.3412   -1.2174 C   0  0  0  0  0  0  0  0  0  0  0  0\\n    2.2127    1.3270   -0.6087 C   0  0  0  0  0  0  0  0  0  0  0  0\\n    0.2350   -0.7247   -2.8785 O   0  0  0  0  0  0  0  0  0  0  0  0\\n   -1.1346    0.4297   -0.2776 C   0  0  0  0  0  0  0  0  0  0  0  0\\n   -4.5746   -0.9246    0.8420 C   0  0  0  0  0  0  0  0  0  0  0  0\\n   -3.6789   -1.9158    0.5664 C   0  0  0  0  0  0  0  0  0  0  0  0\\n   -4.1063   -3.1355    0.0943 C   0  0  0  0  0  0  0  0  0  0  0  0\\n   -5.4234   -3.3938   -0.1115 C   0  0  0  0  0  0  0  0  0  0  0  0\\n   -6.3578   -2.4258    0.1540 C   0  0  0  0  0  0  0  0  0  0  0  0\\n   -5.9291   -1.2041    0.6273 C   0  0  0  0  0  0  0  0  0  0  0  0\\n  1  2  2  0\\n  2  3  1  0\\n  3  4  1  0\\n  4  5  2  0\\n  5  6  1  0\\n  6  7  1  0\\n  7  8  2  0\\n  8  9  1  0\\n  9 10  2  0\\n 10 11  1  0\\n 10 12  1  0\\n 12 13  1  0\\n 13 14  1  0\\n 14 15  1  0\\n 15 16  1  0\\n 16 17  1  0\\n 17 18  1  0\\n 18 19  1  0\\n 19 20  1  0\\n 20 21  1  0\\n 21 22  1  0\\n 22 23  1  0\\n 23 24  1  0\\n 24 25  1  0\\n 25 26  1  0\\n 18 27  2  0\\n 17 28  1  0\\n 28 29  1  0\\n 13 30  2  0\\n 12 31  2  0\\n  5 32  1  0\\n 32 33  2  0\\n 33 34  1  0\\n 34 35  2  0\\n 35 36  1  0\\n 36 37  2  0\\n 37  2  1  0\\n 31  7  1  0\\n 29 14  1  0\\n 25 20  1  0\\n 26 22  1  0\\n 37 32  1  0\\nM  END\\n\",\"sdf\");\n\tviewer_17014574825092294.setStyle({\"stick\": {}});\n\tviewer_17014574825092294.addSphere({\"center\": {\"x\": -6.491628417193863, \"y\": 0.949413337549446, \"z\": 1.3753540701779607}, \"radius\": 0.5, \"color\": \"0x0ffff\"});\n\tviewer_17014574825092294.addSphere({\"center\": {\"x\": 1.8992292363404122, \"y\": 0.33880101225463854, \"z\": -1.609111462763735}, \"radius\": 0.5, \"color\": \"0x0ffff\"});\n\tviewer_17014574825092294.addSphere({\"center\": {\"x\": 4.193399021450537, \"y\": 1.6707762416135732, \"z\": -1.9353552106526082}, \"radius\": 0.5, \"color\": \"0x0ffff\"});\n\tviewer_17014574825092294.addSphere({\"center\": {\"x\": -8.089496450112605, \"y\": -0.5031441955082094, \"z\": 0.7070900341076054}, \"radius\": 0.5, \"color\": \"0xff0ff\"});\n\tviewer_17014574825092294.addSphere({\"center\": {\"x\": -0.3347757191844156, \"y\": 2.608522635074348, \"z\": -3.087025052804086}, \"radius\": 0.5, \"color\": \"0xff0ff\"});\n\tviewer_17014574825092294.addSphere({\"center\": {\"x\": 5.088256623732714, \"y\": 3.6985338882448158, \"z\": -2.5396758576564915}, \"radius\": 0.5, \"color\": \"0xff0ff\"});\n\tviewer_17014574825092294.addSphere({\"center\": {\"x\": 0.23501349966127405, \"y\": -0.724709475149061, \"z\": -2.8784813317682563}, \"radius\": 0.5, \"color\": \"0xff0ff\"});\n\tviewer_17014574825092294.addSphere({\"center\": {\"x\": -1.5271271064884462, \"y\": 1.6221415275398747, \"z\": -0.8456708877837531}, \"radius\": 0.5, \"color\": \"0xffcc33\"});\n\tviewer_17014574825092294.addSphere({\"center\": {\"x\": -5.011680312667832, \"y\": -2.1666005996871522, \"z\": 0.362074048016592}, \"radius\": 0.5, \"color\": \"0xffcc33\"});\n\tviewer_17014574825092294.zoomTo();\nviewer_17014574825092294.render();\n});\n</script>",
            "text/html": [
              "<div id=\"3dmolviewer_17014574825092294\"  style=\"position: relative; width: 400px; height: 400px;\">\n",
              "        <p id=\"3dmolwarning_17014574825092294\" style=\"background-color:#ffcccc;color:black\">You appear to be running in JupyterLab (or JavaScript failed to load for some other reason).  You need to install the 3dmol extension: <br>\n",
              "        <tt>jupyter labextension install jupyterlab_3dmol</tt></p>\n",
              "        </div>\n",
              "<script>\n",
              "\n",
              "var loadScriptAsync = function(uri){\n",
              "  return new Promise((resolve, reject) => {\n",
              "    //this is to ignore the existence of requirejs amd\n",
              "    var savedexports, savedmodule;\n",
              "    if (typeof exports !== 'undefined') savedexports = exports;\n",
              "    else exports = {}\n",
              "    if (typeof module !== 'undefined') savedmodule = module;\n",
              "    else module = {}\n",
              "\n",
              "    var tag = document.createElement('script');\n",
              "    tag.src = uri;\n",
              "    tag.async = true;\n",
              "    tag.onload = () => {\n",
              "        exports = savedexports;\n",
              "        module = savedmodule;\n",
              "        resolve();\n",
              "    };\n",
              "  var firstScriptTag = document.getElementsByTagName('script')[0];\n",
              "  firstScriptTag.parentNode.insertBefore(tag, firstScriptTag);\n",
              "});\n",
              "};\n",
              "\n",
              "if(typeof $3Dmolpromise === 'undefined') {\n",
              "$3Dmolpromise = null;\n",
              "  $3Dmolpromise = loadScriptAsync('https://cdnjs.cloudflare.com/ajax/libs/3Dmol/2.0.4/3Dmol-min.js');\n",
              "}\n",
              "\n",
              "var viewer_17014574825092294 = null;\n",
              "var warn = document.getElementById(\"3dmolwarning_17014574825092294\");\n",
              "if(warn) {\n",
              "    warn.parentNode.removeChild(warn);\n",
              "}\n",
              "$3Dmolpromise.then(function() {\n",
              "viewer_17014574825092294 = $3Dmol.createViewer(document.getElementById(\"3dmolviewer_17014574825092294\"),{backgroundColor:\"white\"});\n",
              "viewer_17014574825092294.zoomTo();\n",
              "\tviewer_17014574825092294.removeAllModels();\n",
              "\tviewer_17014574825092294.addModel(\"\\n     RDKit          3D\\n\\n 37 42  0  0  0  0  0  0  0  0999 V2000\\n   -8.0895   -0.5031    0.7071 O   0  0  0  0  0  0  0  0  0  0  0  0\\n   -6.8669   -0.2460    0.9032 C   0  0  0  0  0  0  0  0  0  0  0  0\\n   -6.4916    0.9494    1.3754 N   0  0  0  0  0  0  0  0  0  0  0  0\\n   -5.2235    1.2016    1.5724 N   0  0  0  0  0  0  0  0  0  0  0  0\\n   -4.2404    0.3026    1.3208 C   0  0  0  0  0  0  0  0  0  0  0  0\\n   -2.8195    0.6848    1.5249 C   0  0  0  0  0  0  0  0  0  0  0  0\\n   -2.1408    1.1315    0.2927 C   0  0  0  0  0  0  0  0  0  0  0  0\\n   -2.5280    2.3336   -0.2892 C   0  0  0  0  0  0  0  0  0  0  0  0\\n   -1.9410    2.8369   -1.4075 C   0  0  0  0  0  0  0  0  0  0  0  0\\n   -0.9103    2.0957   -1.9734 C   0  0  0  0  0  0  0  0  0  0  0  0\\n   -0.3348    2.6085   -3.0870 F   0  0  0  0  0  0  0  0  0  0  0  0\\n   -0.5081    0.9055   -1.4190 C   0  0  0  0  0  0  0  0  0  0  0  0\\n    0.5599    0.1334   -2.0044 C   0  0  0  0  0  0  0  0  0  0  0  0\\n    1.8992    0.3388   -1.6091 N   0  0  0  0  0  0  0  0  0  0  0  0\\n    2.9519   -0.4322   -2.1981 C   0  0  0  0  0  0  0  0  0  0  0  0\\n    4.3054    0.2261   -2.0139 C   0  0  0  0  0  0  0  0  0  0  0  0\\n    4.1934    1.6708   -1.9354 N   0  0  0  0  0  0  0  0  0  0  0  0\\n    5.1758    2.4461   -2.6061 C   0  0  0  0  0  0  0  0  0  0  0  0\\n    6.2949    1.8042   -3.3778 C   0  0  0  0  0  0  0  0  0  0  0  0\\n    7.1771    2.8636   -3.9485 C   0  0  0  0  0  0  0  0  0  0  0  0\\n    8.3341    2.2956   -4.7471 C   0  0  0  0  0  0  0  0  0  0  0  0\\n    9.5583    3.0924   -4.3563 C   0  0  0  0  0  0  0  0  0  0  0  0\\n   10.0235    2.5625   -3.0269 C   0  0  0  0  0  0  0  0  0  0  0  0\\n    8.8344    2.9238   -2.1242 C   0  0  0  0  0  0  0  0  0  0  0  0\\n    7.8851    3.7219   -2.9595 C   0  0  0  0  0  0  0  0  0  0  0  0\\n    8.8974    4.4071   -3.9042 C   0  0  0  0  0  0  0  0  0  0  0  0\\n    5.0883    3.6985   -2.5397 O   0  0  0  0  0  0  0  0  0  0  0  0\\n    3.1440    2.3412   -1.2174 C   0  0  0  0  0  0  0  0  0  0  0  0\\n    2.2127    1.3270   -0.6087 C   0  0  0  0  0  0  0  0  0  0  0  0\\n    0.2350   -0.7247   -2.8785 O   0  0  0  0  0  0  0  0  0  0  0  0\\n   -1.1346    0.4297   -0.2776 C   0  0  0  0  0  0  0  0  0  0  0  0\\n   -4.5746   -0.9246    0.8420 C   0  0  0  0  0  0  0  0  0  0  0  0\\n   -3.6789   -1.9158    0.5664 C   0  0  0  0  0  0  0  0  0  0  0  0\\n   -4.1063   -3.1355    0.0943 C   0  0  0  0  0  0  0  0  0  0  0  0\\n   -5.4234   -3.3938   -0.1115 C   0  0  0  0  0  0  0  0  0  0  0  0\\n   -6.3578   -2.4258    0.1540 C   0  0  0  0  0  0  0  0  0  0  0  0\\n   -5.9291   -1.2041    0.6273 C   0  0  0  0  0  0  0  0  0  0  0  0\\n  1  2  2  0\\n  2  3  1  0\\n  3  4  1  0\\n  4  5  2  0\\n  5  6  1  0\\n  6  7  1  0\\n  7  8  2  0\\n  8  9  1  0\\n  9 10  2  0\\n 10 11  1  0\\n 10 12  1  0\\n 12 13  1  0\\n 13 14  1  0\\n 14 15  1  0\\n 15 16  1  0\\n 16 17  1  0\\n 17 18  1  0\\n 18 19  1  0\\n 19 20  1  0\\n 20 21  1  0\\n 21 22  1  0\\n 22 23  1  0\\n 23 24  1  0\\n 24 25  1  0\\n 25 26  1  0\\n 18 27  2  0\\n 17 28  1  0\\n 28 29  1  0\\n 13 30  2  0\\n 12 31  2  0\\n  5 32  1  0\\n 32 33  2  0\\n 33 34  1  0\\n 34 35  2  0\\n 35 36  1  0\\n 36 37  2  0\\n 37  2  1  0\\n 31  7  1  0\\n 29 14  1  0\\n 25 20  1  0\\n 26 22  1  0\\n 37 32  1  0\\nM  END\\n\",\"sdf\");\n",
              "\tviewer_17014574825092294.setStyle({\"stick\": {}});\n",
              "\tviewer_17014574825092294.addSphere({\"center\": {\"x\": -6.491628417193863, \"y\": 0.949413337549446, \"z\": 1.3753540701779607}, \"radius\": 0.5, \"color\": \"0x0ffff\"});\n",
              "\tviewer_17014574825092294.addSphere({\"center\": {\"x\": 1.8992292363404122, \"y\": 0.33880101225463854, \"z\": -1.609111462763735}, \"radius\": 0.5, \"color\": \"0x0ffff\"});\n",
              "\tviewer_17014574825092294.addSphere({\"center\": {\"x\": 4.193399021450537, \"y\": 1.6707762416135732, \"z\": -1.9353552106526082}, \"radius\": 0.5, \"color\": \"0x0ffff\"});\n",
              "\tviewer_17014574825092294.addSphere({\"center\": {\"x\": -8.089496450112605, \"y\": -0.5031441955082094, \"z\": 0.7070900341076054}, \"radius\": 0.5, \"color\": \"0xff0ff\"});\n",
              "\tviewer_17014574825092294.addSphere({\"center\": {\"x\": -0.3347757191844156, \"y\": 2.608522635074348, \"z\": -3.087025052804086}, \"radius\": 0.5, \"color\": \"0xff0ff\"});\n",
              "\tviewer_17014574825092294.addSphere({\"center\": {\"x\": 5.088256623732714, \"y\": 3.6985338882448158, \"z\": -2.5396758576564915}, \"radius\": 0.5, \"color\": \"0xff0ff\"});\n",
              "\tviewer_17014574825092294.addSphere({\"center\": {\"x\": 0.23501349966127405, \"y\": -0.724709475149061, \"z\": -2.8784813317682563}, \"radius\": 0.5, \"color\": \"0xff0ff\"});\n",
              "\tviewer_17014574825092294.addSphere({\"center\": {\"x\": -1.5271271064884462, \"y\": 1.6221415275398747, \"z\": -0.8456708877837531}, \"radius\": 0.5, \"color\": \"0xffcc33\"});\n",
              "\tviewer_17014574825092294.addSphere({\"center\": {\"x\": -5.011680312667832, \"y\": -2.1666005996871522, \"z\": 0.362074048016592}, \"radius\": 0.5, \"color\": \"0xffcc33\"});\n",
              "\tviewer_17014574825092294.zoomTo();\n",
              "viewer_17014574825092294.render();\n",
              "});\n",
              "</script>"
            ]
          },
          "metadata": {}
        }
      ]
    },
    {
      "cell_type": "code",
      "source": [
        "drawfeatsonly(data_df[\"mols\"][0],featLists[0])"
      ],
      "metadata": {
        "colab": {
          "base_uri": "https://localhost:8080/",
          "height": 417
        },
        "id": "rXgwr2D5wEJX",
        "outputId": "6f82a179-2d82-407e-9608-eaed97a12371"
      },
      "execution_count": 15,
      "outputs": [
        {
          "output_type": "display_data",
          "data": {
            "application/3dmoljs_load.v0": "<div id=\"3dmolviewer_17014572196227367\"  style=\"position: relative; width: 400px; height: 400px;\">\n        <p id=\"3dmolwarning_17014572196227367\" style=\"background-color:#ffcccc;color:black\">You appear to be running in JupyterLab (or JavaScript failed to load for some other reason).  You need to install the 3dmol extension: <br>\n        <tt>jupyter labextension install jupyterlab_3dmol</tt></p>\n        </div>\n<script>\n\nvar loadScriptAsync = function(uri){\n  return new Promise((resolve, reject) => {\n    //this is to ignore the existence of requirejs amd\n    var savedexports, savedmodule;\n    if (typeof exports !== 'undefined') savedexports = exports;\n    else exports = {}\n    if (typeof module !== 'undefined') savedmodule = module;\n    else module = {}\n\n    var tag = document.createElement('script');\n    tag.src = uri;\n    tag.async = true;\n    tag.onload = () => {\n        exports = savedexports;\n        module = savedmodule;\n        resolve();\n    };\n  var firstScriptTag = document.getElementsByTagName('script')[0];\n  firstScriptTag.parentNode.insertBefore(tag, firstScriptTag);\n});\n};\n\nif(typeof $3Dmolpromise === 'undefined') {\n$3Dmolpromise = null;\n  $3Dmolpromise = loadScriptAsync('https://cdnjs.cloudflare.com/ajax/libs/3Dmol/2.0.4/3Dmol-min.js');\n}\n\nvar viewer_17014572196227367 = null;\nvar warn = document.getElementById(\"3dmolwarning_17014572196227367\");\nif(warn) {\n    warn.parentNode.removeChild(warn);\n}\n$3Dmolpromise.then(function() {\nviewer_17014572196227367 = $3Dmol.createViewer(document.getElementById(\"3dmolviewer_17014572196227367\"),{backgroundColor:\"white\"});\nviewer_17014572196227367.zoomTo();\n\tviewer_17014572196227367.removeAllModels();\n\tviewer_17014572196227367.addSphere({\"center\": {\"x\": -3.072217662327838, \"y\": 4.108004196554425, \"z\": -5.41340867707803}, \"radius\": 0.5, \"color\": \"0x0ffff\"});\n\tviewer_17014572196227367.addSphere({\"center\": {\"x\": 1.9258652798370028, \"y\": 0.5031260261397432, \"z\": -1.8847684410126724}, \"radius\": 0.5, \"color\": \"0x0ffff\"});\n\tviewer_17014572196227367.addSphere({\"center\": {\"x\": 4.203545439157009, \"y\": -0.14680646390146923, \"z\": -0.5468024962761178}, \"radius\": 0.5, \"color\": \"0x0ffff\"});\n\tviewer_17014572196227367.addSphere({\"center\": {\"x\": 6.44544313069833, \"y\": 1.9465319819912072, \"z\": 0.5476373492699054}, \"radius\": 0.5, \"color\": \"0x0ffff\"});\n\tviewer_17014572196227367.addSphere({\"center\": {\"x\": 6.914671408240554, \"y\": 2.541222826572138, \"z\": 1.6093453568936882}, \"radius\": 0.5, \"color\": \"0x0ffff\"});\n\tviewer_17014572196227367.addSphere({\"center\": {\"x\": -4.476485119019004, \"y\": 3.2510737875074147, \"z\": -6.987139204594159}, \"radius\": 0.5, \"color\": \"0xff0ff\"});\n\tviewer_17014572196227367.addSphere({\"center\": {\"x\": -0.13327808024812438, \"y\": -0.5649576793340902, \"z\": 0.6205447825904806}, \"radius\": 0.5, \"color\": \"0xff0ff\"});\n\tviewer_17014572196227367.addSphere({\"center\": {\"x\": 6.44544313069833, \"y\": 1.9465319819912072, \"z\": 0.5476373492699054}, \"radius\": 0.5, \"color\": \"0xff0ff\"});\n\tviewer_17014572196227367.addSphere({\"center\": {\"x\": 6.296570943973761, \"y\": -1.1980057125725712, \"z\": -0.6863931103240479}, \"radius\": 0.5, \"color\": \"0xff0ff\"});\n\tviewer_17014572196227367.addSphere({\"center\": {\"x\": 0.22708003898370932, \"y\": -0.7665124052813639, \"z\": -2.774901888215342}, \"radius\": 0.5, \"color\": \"0xff0ff\"});\n\tviewer_17014572196227367.addSphere({\"center\": {\"x\": 6.562455671389788, \"y\": 1.4473496904963399, \"z\": 1.5392934784719516}, \"radius\": 0.5, \"color\": \"0xffcc33\"});\n\tviewer_17014572196227367.addSphere({\"center\": {\"x\": -1.4622301940840279, \"y\": 1.5613966945249877, \"z\": -0.5342250715873598}, \"radius\": 0.5, \"color\": \"0xffcc33\"});\n\tviewer_17014572196227367.addSphere({\"center\": {\"x\": -5.431231043144976, \"y\": 1.9419971558633213, \"z\": -3.8098222333962686}, \"radius\": 0.5, \"color\": \"0xffcc33\"});\n\tviewer_17014572196227367.zoomTo();\nviewer_17014572196227367.render();\n});\n</script>",
            "text/html": [
              "<div id=\"3dmolviewer_17014572196227367\"  style=\"position: relative; width: 400px; height: 400px;\">\n",
              "        <p id=\"3dmolwarning_17014572196227367\" style=\"background-color:#ffcccc;color:black\">You appear to be running in JupyterLab (or JavaScript failed to load for some other reason).  You need to install the 3dmol extension: <br>\n",
              "        <tt>jupyter labextension install jupyterlab_3dmol</tt></p>\n",
              "        </div>\n",
              "<script>\n",
              "\n",
              "var loadScriptAsync = function(uri){\n",
              "  return new Promise((resolve, reject) => {\n",
              "    //this is to ignore the existence of requirejs amd\n",
              "    var savedexports, savedmodule;\n",
              "    if (typeof exports !== 'undefined') savedexports = exports;\n",
              "    else exports = {}\n",
              "    if (typeof module !== 'undefined') savedmodule = module;\n",
              "    else module = {}\n",
              "\n",
              "    var tag = document.createElement('script');\n",
              "    tag.src = uri;\n",
              "    tag.async = true;\n",
              "    tag.onload = () => {\n",
              "        exports = savedexports;\n",
              "        module = savedmodule;\n",
              "        resolve();\n",
              "    };\n",
              "  var firstScriptTag = document.getElementsByTagName('script')[0];\n",
              "  firstScriptTag.parentNode.insertBefore(tag, firstScriptTag);\n",
              "});\n",
              "};\n",
              "\n",
              "if(typeof $3Dmolpromise === 'undefined') {\n",
              "$3Dmolpromise = null;\n",
              "  $3Dmolpromise = loadScriptAsync('https://cdnjs.cloudflare.com/ajax/libs/3Dmol/2.0.4/3Dmol-min.js');\n",
              "}\n",
              "\n",
              "var viewer_17014572196227367 = null;\n",
              "var warn = document.getElementById(\"3dmolwarning_17014572196227367\");\n",
              "if(warn) {\n",
              "    warn.parentNode.removeChild(warn);\n",
              "}\n",
              "$3Dmolpromise.then(function() {\n",
              "viewer_17014572196227367 = $3Dmol.createViewer(document.getElementById(\"3dmolviewer_17014572196227367\"),{backgroundColor:\"white\"});\n",
              "viewer_17014572196227367.zoomTo();\n",
              "\tviewer_17014572196227367.removeAllModels();\n",
              "\tviewer_17014572196227367.addSphere({\"center\": {\"x\": -3.072217662327838, \"y\": 4.108004196554425, \"z\": -5.41340867707803}, \"radius\": 0.5, \"color\": \"0x0ffff\"});\n",
              "\tviewer_17014572196227367.addSphere({\"center\": {\"x\": 1.9258652798370028, \"y\": 0.5031260261397432, \"z\": -1.8847684410126724}, \"radius\": 0.5, \"color\": \"0x0ffff\"});\n",
              "\tviewer_17014572196227367.addSphere({\"center\": {\"x\": 4.203545439157009, \"y\": -0.14680646390146923, \"z\": -0.5468024962761178}, \"radius\": 0.5, \"color\": \"0x0ffff\"});\n",
              "\tviewer_17014572196227367.addSphere({\"center\": {\"x\": 6.44544313069833, \"y\": 1.9465319819912072, \"z\": 0.5476373492699054}, \"radius\": 0.5, \"color\": \"0x0ffff\"});\n",
              "\tviewer_17014572196227367.addSphere({\"center\": {\"x\": 6.914671408240554, \"y\": 2.541222826572138, \"z\": 1.6093453568936882}, \"radius\": 0.5, \"color\": \"0x0ffff\"});\n",
              "\tviewer_17014572196227367.addSphere({\"center\": {\"x\": -4.476485119019004, \"y\": 3.2510737875074147, \"z\": -6.987139204594159}, \"radius\": 0.5, \"color\": \"0xff0ff\"});\n",
              "\tviewer_17014572196227367.addSphere({\"center\": {\"x\": -0.13327808024812438, \"y\": -0.5649576793340902, \"z\": 0.6205447825904806}, \"radius\": 0.5, \"color\": \"0xff0ff\"});\n",
              "\tviewer_17014572196227367.addSphere({\"center\": {\"x\": 6.44544313069833, \"y\": 1.9465319819912072, \"z\": 0.5476373492699054}, \"radius\": 0.5, \"color\": \"0xff0ff\"});\n",
              "\tviewer_17014572196227367.addSphere({\"center\": {\"x\": 6.296570943973761, \"y\": -1.1980057125725712, \"z\": -0.6863931103240479}, \"radius\": 0.5, \"color\": \"0xff0ff\"});\n",
              "\tviewer_17014572196227367.addSphere({\"center\": {\"x\": 0.22708003898370932, \"y\": -0.7665124052813639, \"z\": -2.774901888215342}, \"radius\": 0.5, \"color\": \"0xff0ff\"});\n",
              "\tviewer_17014572196227367.addSphere({\"center\": {\"x\": 6.562455671389788, \"y\": 1.4473496904963399, \"z\": 1.5392934784719516}, \"radius\": 0.5, \"color\": \"0xffcc33\"});\n",
              "\tviewer_17014572196227367.addSphere({\"center\": {\"x\": -1.4622301940840279, \"y\": 1.5613966945249877, \"z\": -0.5342250715873598}, \"radius\": 0.5, \"color\": \"0xffcc33\"});\n",
              "\tviewer_17014572196227367.addSphere({\"center\": {\"x\": -5.431231043144976, \"y\": 1.9419971558633213, \"z\": -3.8098222333962686}, \"radius\": 0.5, \"color\": \"0xffcc33\"});\n",
              "\tviewer_17014572196227367.zoomTo();\n",
              "viewer_17014572196227367.render();\n",
              "});\n",
              "</script>"
            ]
          },
          "metadata": {}
        }
      ]
    }
  ]
}