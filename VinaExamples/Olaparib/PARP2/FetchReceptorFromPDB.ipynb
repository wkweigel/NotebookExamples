{
 "cells": [
  {
   "cell_type": "code",
   "execution_count": 1,
   "metadata": {},
   "outputs": [
    {
     "name": "stderr",
     "output_type": "stream",
     "text": [
      "RDKit WARNING: [23:08:46] Enabling RDKit 2019.09.3 jupyter extensions\n",
      "[23:08:46] Enabling RDKit 2019.09.3 jupyter extensions\n"
     ]
    }
   ],
   "source": [
    "from pymol import cmd\n",
    "import py3Dmol\n",
    "import pandas as pd\n",
    "import random\n",
    "from openbabel import pybel\n",
    "import networkx as nx\n",
    "#from pyvis import network as pnet\n",
    "from matplotlib import cm, colors\n",
    "from matplotlib import pyplot as plt\n",
    "from IPython.display import IFrame\n",
    "import math\n",
    "import numpy as np\n",
    "\n",
    "from rdkit import Chem\n",
    "from rdkit.Chem import AllChem, Draw\n",
    "\n",
    "import sys, os, random\n",
    "sys.path.insert(1, 'utilities/')\n",
    "\n",
    "import MDAnalysis as mda\n",
    "from MDAnalysis.coordinates import PDB\n",
    "\n",
    "import py3Dmol\n",
    "from rdkit.Geometry import Point3D\n",
    "from MDAnalysis import Merge\n",
    "\n",
    "#import prolif_old as plf\n",
    "#from prolif_old.plotting.network import LigNetwork\n",
    "\n",
    "from utils import getbox, generate_ledock_file, dok_to_sdf,fix_protein\n",
    "\n",
    "import warnings\n",
    "warnings.filterwarnings(\"ignore\")\n",
    "\n",
    "%config Completer.use_jedi = False\n",
    "\n"
   ]
  },
  {
   "cell_type": "markdown",
   "metadata": {},
   "source": [
    "Specify Inputs"
   ]
  },
  {
   "cell_type": "code",
   "execution_count": 2,
   "metadata": {},
   "outputs": [],
   "source": [
    "#The relative working folder path to use\n",
    "Receptor_Folder='Olaparib/PARP2/' \n",
    "\n",
    "#The PDB ID to fetch and prepare\n",
    "pdbID='4TVJ' \n"
   ]
  },
  {
   "cell_type": "markdown",
   "metadata": {},
   "source": [
    "Fetch and prepare protien from the PDB (skip if files already exist in the project folder)"
   ]
  },
  {
   "cell_type": "markdown",
   "metadata": {},
   "source": [
    "Give permissions: chmod u+x bin/lepro_linux_x86"
   ]
  },
  {
   "cell_type": "code",
   "execution_count": 5,
   "metadata": {},
   "outputs": [
    {
     "name": "stdout",
     "output_type": "stream",
     "text": [
      " PyMOL not running, entering library mode (experimental)\n"
     ]
    }
   ],
   "source": [
    "#Change the directory\n",
    "os.chdir(Receptor_Folder)\n",
    "\n",
    "#Fetch protien and native ligand from the pdb \n",
    "cmd.fetch(code=pdbID,type='pdb1')\n",
    "cmd.select(name='Prot',selection='polymer.protein')\n",
    "cmd.select(name='NativeLigand',selection='organic')\n",
    "cmd.save(filename=str(pdbID)+'_clean.pdb',format='pdb',selection='Prot')\n",
    "cmd.save(filename=str(pdbID)+'_NativeLigand.mol2',format='mol2',selection='NativeLigand')\n",
    "cmd.delete('all')\n",
    "\n",
    "#Create cleaned receptor file using lepro\n",
    "lepro_input=str(pdbID)+'_clean.pdb'\n",
    "!../../bin/lepro_linux_x86 {lepro_input}\n",
    "os.rename('pro.pdb',str(pdbID)+'_clean_H.pdb') "
   ]
  },
  {
   "cell_type": "markdown",
   "metadata": {},
   "source": [
    "Process from protien and ligand using existing files"
   ]
  },
  {
   "cell_type": "code",
   "execution_count": 3,
   "metadata": {},
   "outputs": [
    {
     "ename": "FileNotFoundError",
     "evalue": "[Errno 2] No such file or directory: 'Olaparib/PARP2/'",
     "output_type": "error",
     "traceback": [
      "\u001b[0;31m---------------------------------------------------------------------------\u001b[0m",
      "\u001b[0;31mFileNotFoundError\u001b[0m                         Traceback (most recent call last)",
      "\u001b[1;32m/home/bill/Vina/Olaparib/PARP2/FetchReceptorFromPDB.ipynb Cell 8\u001b[0m line \u001b[0;36m<cell line: 2>\u001b[0;34m()\u001b[0m\n\u001b[1;32m      <a href='vscode-notebook-cell://wsl%2Bubuntu/home/bill/Vina/Olaparib/PARP2/FetchReceptorFromPDB.ipynb#X10sdnNjb2RlLXJlbW90ZQ%3D%3D?line=0'>1</a>\u001b[0m \u001b[39m#Change the directory\u001b[39;00m\n\u001b[0;32m----> <a href='vscode-notebook-cell://wsl%2Bubuntu/home/bill/Vina/Olaparib/PARP2/FetchReceptorFromPDB.ipynb#X10sdnNjb2RlLXJlbW90ZQ%3D%3D?line=1'>2</a>\u001b[0m os\u001b[39m.\u001b[39;49mchdir(Receptor_Folder)\n\u001b[1;32m      <a href='vscode-notebook-cell://wsl%2Bubuntu/home/bill/Vina/Olaparib/PARP2/FetchReceptorFromPDB.ipynb#X10sdnNjb2RlLXJlbW90ZQ%3D%3D?line=3'>4</a>\u001b[0m protien_file\u001b[39m=\u001b[39m\u001b[39m\"\u001b[39m\u001b[39m4TVJ_clean.pdb\u001b[39m\u001b[39m\"\u001b[39m\n\u001b[1;32m      <a href='vscode-notebook-cell://wsl%2Bubuntu/home/bill/Vina/Olaparib/PARP2/FetchReceptorFromPDB.ipynb#X10sdnNjb2RlLXJlbW90ZQ%3D%3D?line=4'>5</a>\u001b[0m native_ligand_file\u001b[39m=\u001b[39m\u001b[39m\"\u001b[39m\u001b[39m4TVJ_ligand.pdb\u001b[39m\u001b[39m\"\u001b[39m\n",
      "\u001b[0;31mFileNotFoundError\u001b[0m: [Errno 2] No such file or directory: 'Olaparib/PARP2/'"
     ]
    }
   ],
   "source": [
    "#Change the directory\n",
    "os.chdir(Receptor_Folder)\n",
    "\n",
    "protien_file=\"4TVJ_clean.pdb\"\n",
    "native_ligand_file=\"4TVJ_ligand.pdb\"\n",
    "#Fetch protien and native ligand from the pdb \n",
    "cmd.load(protien_file)\n",
    "cmd.load(native_ligand_file)\n",
    "cmd.select(name='Prot',selection='polymer.protein')\n",
    "cmd.select(name='NativeLigand',selection='organic')\n",
    "cmd.save(filename=str(pdbID)+'_clean_lepro.pdb',format='pdb',selection='Prot')\n",
    "cmd.save(filename=str(pdbID)+'_NativeLigand.mol2',format='mol2',selection='NativeLigand')\n",
    "cmd.delete('all')\n",
    "\n",
    "#Create cleaned receptor file using lepro\n",
    "lepro_input=str(pdbID)+'_clean_lepro.pdb'\n",
    "!../../bin/lepro_linux_x86 {lepro_input}\n",
    "os.rename('pro.pdb',str(pdbID)+'_clean_H.pdb') "
   ]
  }
 ],
 "metadata": {
  "kernelspec": {
   "display_name": "Jupyter_Dock",
   "language": "python",
   "name": "python3"
  },
  "language_info": {
   "codemirror_mode": {
    "name": "ipython",
    "version": 3
   },
   "file_extension": ".py",
   "mimetype": "text/x-python",
   "name": "python",
   "nbconvert_exporter": "python",
   "pygments_lexer": "ipython3",
   "version": "3.8.16"
  },
  "orig_nbformat": 4
 },
 "nbformat": 4,
 "nbformat_minor": 2
}
