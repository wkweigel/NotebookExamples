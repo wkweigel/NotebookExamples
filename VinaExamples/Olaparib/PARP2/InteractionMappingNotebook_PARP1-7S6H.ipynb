{
 "cells": [
  {
   "cell_type": "code",
   "execution_count": 1,
   "metadata": {},
   "outputs": [],
   "source": [
    "from pymol import cmd\n",
    "import py3Dmol\n",
    "import pandas as pd\n",
    "import random\n",
    "from openbabel import pybel\n",
    "import networkx as nx\n",
    "from pyvis import network as pnet\n",
    "from matplotlib import cm, colors\n",
    "from matplotlib import pyplot as plt\n",
    "from IPython.display import IFrame\n",
    "import math\n",
    "import numpy as np\n",
    "\n",
    "from rdkit import Chem\n",
    "from rdkit.Chem import AllChem, Draw\n",
    "\n",
    "import sys, os, random\n",
    "sys.path.insert(1, 'utilities/')\n",
    "\n",
    "import MDAnalysis as mda\n",
    "from MDAnalysis.coordinates import PDB\n",
    "\n",
    "import py3Dmol\n",
    "from rdkit.Geometry import Point3D\n",
    "from MDAnalysis import Merge\n",
    "\n",
    "import prolif_old as plf\n",
    "from prolif_old.plotting.network import LigNetwork\n",
    "\n",
    "from utils import getbox, generate_ledock_file, dok_to_sdf,fix_protein\n",
    "\n",
    "import warnings\n",
    "warnings.filterwarnings(\"ignore\")\n",
    "\n",
    "%config Completer.use_jedi = False\n",
    "\n",
    "def make_graph(\n",
    "    values,\n",
    "    df=None,\n",
    "    node_color=[\"#FFB2AC\", \"#ACD0FF\"],\n",
    "    node_shape=\"dot\",\n",
    "    edge_color=\"#a9a9a9\",\n",
    "    width_multiplier=3,\n",
    "):\n",
    "    \"\"\"Convert a pandas DataFrame to a NetworkX object\n",
    "\n",
    "    Parameters\n",
    "    ----------\n",
    "    values : pandas.Series\n",
    "        Series with 'ligand' and 'protein' levels, and a unique value for\n",
    "        each lig-prot residue pair that will be used to set the width and weigth\n",
    "        of each edge. For example:\n",
    "\n",
    "            ligand  protein\n",
    "            LIG1.G  ALA216.A    0.66\n",
    "                    ALA343.B    0.10\n",
    "\n",
    "    df : pandas.DataFrame\n",
    "        DataFrame obtained from the fp.to_dataframe() method\n",
    "        Used to label each edge with the type of interaction\n",
    "\n",
    "    node_color : list\n",
    "        Colors for the ligand and protein residues, respectively\n",
    "\n",
    "    node_shape : str\n",
    "        One of ellipse, circle, database, box, text or image, circularImage,\n",
    "        diamond, dot, star, triangle, triangleDown, square, icon.\n",
    "\n",
    "    edge_color : str\n",
    "        Color of the edge between nodes\n",
    "\n",
    "    width_multiplier : int or float\n",
    "        Each edge's width is defined as `width_multiplier * value`\n",
    "    \"\"\"\n",
    "    lig_res = values.index.get_level_values(\"ligand\").unique().tolist()\n",
    "    prot_res = values.index.get_level_values(\"protein\").unique().tolist()\n",
    "\n",
    "    G = nx.Graph()\n",
    "    # add nodes\n",
    "    # https://pyvis.readthedocs.io/en/latest/documentation.html#pyvis.network.Network.add_node\n",
    "    for res in lig_res:\n",
    "        G.add_node(\n",
    "            res, title=res, shape=node_shape, color=node_color[0], dtype=\"ligand\"\n",
    "        )\n",
    "    for res in prot_res:\n",
    "        G.add_node(\n",
    "            res, title=res, shape=node_shape, color=node_color[1], dtype=\"protein\"\n",
    "        )\n",
    "\n",
    "    for resids, value in values.items():\n",
    "        label = \"{} - {}<br>{}\".format(\n",
    "            *resids,\n",
    "            \"<br>\".join(\n",
    "                [\n",
    "                    f\"{k}: {v}\"\n",
    "                    for k, v in (\n",
    "                        df.xs(resids, level=[\"ligand\", \"protein\"], axis=1)\n",
    "                        .sum()\n",
    "                        .to_dict()\n",
    "                        .items()\n",
    "                    )\n",
    "                ]\n",
    "            ),\n",
    "        )\n",
    "        # https://pyvis.readthedocs.io/en/latest/documentation.html#pyvis.network.Network.add_edge\n",
    "        G.add_edge(\n",
    "            *resids,\n",
    "            title=label,\n",
    "            color=edge_color,\n",
    "            weight=value,\n",
    "            width=value * width_multiplier,\n",
    "        )\n",
    "\n",
    "    return G\n",
    "\n",
    "def dataframe_from_ProLIF_fp(pdbID,Cpd_ID):\n",
    "        DockingResult='DockingOutput-'+pdbID+'_'+Cpd_ID+'.sdf'\n",
    "\n",
    "        # load fixed protein\n",
    "        prot = mda.Universe(str(pdbID)+'_clean_H_fix.pdb')\n",
    "        prot = plf.Molecule.from_mda(prot)\n",
    "        prot.n_residues\n",
    "\n",
    "        # load ligands\n",
    "        lig_suppl = list(plf.sdf_supplier(DockingResult))\n",
    "\n",
    "        # generate fingerprint\n",
    "        fp = plf.Fingerprint([\n",
    "                              \"HBDonor\", \n",
    "                              \"HBAcceptor\", \n",
    "                              \"PiStacking\",\n",
    "                              #\"Hydrophobic\", \n",
    "                              #\"Anionic\", \n",
    "                              #\"Cationic\", \n",
    "                              #\"CationPi\", \n",
    "                              #\"PiCation\"\n",
    "                              ])\n",
    "        fp.run_from_iterable(lig_suppl, prot)\n",
    "        \n",
    "        #convert to dataframe\n",
    "        data_df=fp.to_dataframe()\n",
    "        return(data_df)\n",
    "\n",
    "\n",
    "                \n",
    "\n",
    "\n",
    "#Define function to extract the data for a single row from the multi-indexed ProLIF fingerprint\n",
    "##Returns a dict with four keyed lists\n",
    "def extractFP_row(fp_df,row):\n",
    "    row_dict={'ligand':[],'residues':[], 'interactions':[], 'values':[]}\n",
    "    ligands=list(fp_df.columns.get_level_values(0))\n",
    "    residues=list(fp_df.columns.get_level_values(1))\n",
    "    interactions=list(fp_df.columns.get_level_values(2))\n",
    "    vals=[]\n",
    "    row_dict['ligand'].append(ligands)\n",
    "    row_dict['residues'].append(residues)\n",
    "    row_dict['interactions'].append(interactions)\n",
    "\n",
    "    for v in range(len(fp_df.columns.get_level_values(0))):\n",
    "            lig=ligands[v]\n",
    "            prot=residues[v]\n",
    "            inter=interactions[v]\n",
    "            vals.append(fp_df.loc[row,(lig, prot,inter)])\n",
    "\n",
    "    row_dict['values'].append(vals)\n",
    "\n",
    "    return(row_dict)\n",
    "\n",
    "def build_lists(dict, edges, nodes, weights, edge_colors):\n",
    "        for i in range(len(dict['ligand'][0])):\n",
    "                lig=dict['ligand'][0][i]\n",
    "                res=dict['residues'][0][i]\n",
    "                itr=dict['interactions'][0][i]\n",
    "                val=dict['values'][0][i]\n",
    "                edge=(lig,res)\n",
    "                \n",
    "                COLOR_DICT={\"Hydrophobic\":\"#7fc75b\", \"HBDonor\":\"#2f14e0\", \"HBAcceptor\":\"#e60b13\", \"PiStacking\":\"#dbce16\"}\n",
    "                if val:\n",
    "                        if lig not in nodes:\n",
    "                                nodes.append(lig)\n",
    "                        if res not in nodes:\n",
    "                                nodes.append(res)\n",
    "                        if edge not in edges:\n",
    "                                edge_colors[edge]=COLOR_DICT[itr]\n",
    "                                weights[edge]=0\n",
    "                                edges.append(edge)\n",
    "                        if edge in edges:\n",
    "                                weights[edge]+=1\n",
    "        \n",
    "        return(edges,nodes,weights,edge_colors)\n",
    "\n",
    "def build_simple_lists(dict, edges, nodes, weights):\n",
    "        for i in range(len(dict['ligand'][0])):\n",
    "                lig=dict['ligand'][0][i]\n",
    "                res=dict['residues'][0][i]\n",
    "                itr=dict['interactions'][0][i]\n",
    "                val=dict['values'][0][i]\n",
    "                edge=(lig,res)\n",
    "                if val:\n",
    "                        if lig not in nodes:\n",
    "                                nodes.append(lig)\n",
    "                        if res not in nodes:\n",
    "                                nodes.append(res)\n",
    "                        if edge not in edges:\n",
    "                                weights[edge]=0\n",
    "                                edges.append(edge)\n",
    "                        if edge in edges:\n",
    "                                weights[edge]+=1\n",
    "        \n",
    "        return(edges,nodes,weights)\n",
    "\n",
    "\n",
    "def extract_multiple(pdbID,Cpd_List):\n",
    "        edges=[]\n",
    "        nodes=[]\n",
    "        weights={}\n",
    "        edge_colors={}\n",
    "        #iterate over multiple compounds\n",
    "        for Cpd_ID in Cpd_List:\n",
    "                data_df=dataframe_from_ProLIF_fp(pdbID,Cpd_ID) #Get the FP data as dataframe\n",
    "                #iterate over the rows of the data_df\n",
    "                for row in list(data_df.index):\n",
    "                        rowdict=extractFP_row(data_df, row)\n",
    "                        rowdict['ligand'][0]=[Cpd_ID]*len(rowdict['ligand'][0])\n",
    "                        edges, nodes, weights, edge_colors=build_lists(rowdict, edges, nodes, weights, edge_colors)\n",
    "        return(edges, nodes, weights,edge_colors)\n",
    "\n",
    "#exctract information without edge color information\n",
    "def extract_simple(pdbID,Cpd_List):\n",
    "        edges=[]\n",
    "        nodes=[]\n",
    "        weights={}\n",
    "        #iterate over multiple compounds\n",
    "        for Cpd_ID in Cpd_List:\n",
    "                data_df=dataframe_from_ProLIF_fp(pdbID,Cpd_ID) #Get the FP data as dataframe\n",
    "                #iterate over the rows of the data_df\n",
    "                for row in list(data_df.index):\n",
    "                        rowdict=extractFP_row(data_df, row)\n",
    "                        rowdict['ligand'][0]=[Cpd_ID]*len(rowdict['ligand'][0])\n",
    "                        edges, nodes, weights=build_simple_lists(rowdict, edges, nodes, weights)\n",
    "        return(edges, nodes, weights)                    \n",
    "\n",
    "def calculate_circle_points(center_x, center_y, radius, n):\n",
    "  \"\"\"Calculates the 2D coordinates for n points on a circle.\n",
    "\n",
    "  Args:\n",
    "    center_x (float): The x-coordinate of the center of the circle.\n",
    "    center_y (float): The y-coordinate of the center of the circle.\n",
    "    radius (float): The radius of the circle.\n",
    "    n (int): The number of points to calculate.\n",
    "\n",
    "  Returns:\n",
    "    A list of tuples containing the x and y coordinates of the points.\n",
    "  \"\"\"\n",
    "\n",
    "  points = []\n",
    "  for i in range(n):\n",
    "    angle = i * 2 * math.pi / n\n",
    "    x = center_x + radius * math.cos(angle)\n",
    "    y = center_y + radius * math.sin(angle)\n",
    "    points.append([x, y])\n",
    "\n",
    "  return points\n",
    "\n",
    "\n",
    "def calc_list_coords(list,center_x,center_y,radius):\n",
    "    n=len(set(list))\n",
    "    points=calculate_circle_points(center_x, center_y, radius, n)\n",
    "    return(points)\n",
    "    \n",
    "      \n",
    "\n",
    "def get_ring_centroid(mol, indices):\n",
    "    centroid = mol.xyz[list(indices)].mean(axis=0)\n",
    "    return Point3D(*centroid)\n",
    "\n",
    "def Prepare_Smina_Ligands(ligand_dict):\n",
    "    \n",
    "    out=pybel.Outputfile(filename='InputMols.mol2',format='mol2',overwrite=True)\n",
    "    for smi,id in ligand_dict.items():\n",
    "        mol=pybel.readstring(string=smi,format='smiles')\n",
    "        mol.title=id\n",
    "        mol.make3D('mmff94s')\n",
    "        mol.localopt(forcefield='mmff94s', steps=500)\n",
    "        #mol.localopt(forcefield='gaff', steps=500)\n",
    "        out.write(mol)\n",
    "    out.close()\n",
    "\n",
    "\n",
    "def Prepare_Smina_Ligand(smi,id):\n",
    "    \n",
    "    out=pybel.Outputfile(filename='InputMols.mol2',format='mol2',overwrite=True)\n",
    "   \n",
    "    mol=pybel.readstring(string=smi,format='smiles')\n",
    "    mol.title=id\n",
    "    mol.make3D('mmff94s')\n",
    "    mol.localopt(forcefield='mmff94s', steps=500)\n",
    "    #mol.localopt(forcefield='gaff', steps=500)\n",
    "    out.write(mol)\n",
    "    out.close()\n",
    "\n",
    "def RunSmina():\n",
    "    Input_Receptor=str(pdbID)+'_clean_H.pdb'\n",
    "    Input_Mols='InputMols.mol2'\n",
    "    Docked_Mols='DockingOutput-'+str(pdbID)+'_'+str(cpd_ID)+'.sdf'\n",
    "\n",
    "    !../../bin/smina -r {Input_Receptor} -l {Input_Mols} -o {Docked_Mols} --center_x {center['center_x']} --center_y {center['center_y']} --center_z {center['center_z']} --size_x {size['size_x']} --size_y {size['size_y']} --size_z {size['size_z']} --exhaustiveness 32 --num_modes 5\n",
    "    return(Docked_Mols)\n",
    "\n",
    "def RunDetailedSmina():\n",
    "    Input_Receptor=str(pdbID)+'_clean_H.pdb'\n",
    "    Input_Mols='InputMols.mol2'\n",
    "    Docked_Molfile='DockingOutput-'+str(pdbID)+'_'+str(cpd_ID)+'.pdbqt'\n",
    "    Docked_Logfile='DockingOutput-'+str(pdbID)+'_'+str(cpd_ID)+'.txt'\n",
    "\n",
    "    !../../bin/smina -r {Input_Receptor} -l {Input_Mols} -o {self.Docked_Molfile} --log {self.Docked_Logfile} --center_x {center['center_x']} --center_y {center['center_y']} --center_z {center['center_z']} --size_x {size['size_x']} --size_y {size['size_y']} --size_z {size['size_z']} --exhaustiveness 8 --num_modes 5\n",
    "    return(self.Docked_Molfile, self.Docked_Logfile)\n",
    "\n",
    "def GenerateOutputFiles(Docked_Mols):\n",
    "    Dock_IDs=[]\n",
    "    Scores=[]\n",
    "    poses=Chem.SDMolSupplier(Docked_Mols,True)\n",
    "    for p in list(poses)[::5]:\n",
    "        Dock_IDs.append(p.GetProp('_Name'))\n",
    "        Scores.append(p.GetProp('minimizedAffinity'))\n",
    "        \n",
    "    output_df=pd.DataFrame()\n",
    "    output_df['Smiles']=ligand_smiles\n",
    "    output_df['BBID']=ligand_IDs\n",
    "    output_df['DockID']=Dock_IDs\n",
    "    output_df['Score']=Scores\n",
    "    return(output_df)\n",
    "\n",
    "\n",
    "#Predefined gridbox presents\n",
    "#TNKS1_center={'center_x': 37.00, 'center_y': 27.50, 'center_z': 29.89}\n",
    "#TNKS1_size={'size_x': 21.12, 'size_y': 22.27, 'size_z': 42.28}\n",
    "TNKS1_center={'center_x': 38.87, 'center_y': 26.17, 'center_z': 27.23}\n",
    "TNKS1_size={'size_x': 24.87, 'size_y': 22.95, 'size_z': 34.27}\n",
    "#PARP1_center={'center_x': -9.68, 'center_y': 6.05, 'center_z': 22.56}\n",
    "#PARP1_size={'size_x': 15.66, 'size_y': 31.07, 'size_z': 24.37}\n",
    "PARP1_center={'center_x': -7.01, 'center_y': 5.04, 'center_z': 20.76}\n",
    "PARP1_size={'size_x': 21.01, 'size_y': 36.38, 'size_z': 31.05}\n",
    "PARP1_6BHV_center={'center_x': -21.02, 'center_y': 25.73, 'center_z': 36.16}\n",
    "PARP1_6BHV_size={'size_x': 30.77, 'size_y': 22.95, 'size_z': 18.98}\n",
    "PARP1_7S6H_center={'center_x': 45.37, 'center_y': 32.34, 'center_z': 44.01}\n",
    "PARP1_7S6H_size={'size_x': 24.19, 'size_y': 21.41, 'size_z': 38.59}\n",
    "PARP2_center={'center_x': 28.28, 'center_y': 28.79, 'center_z': 36.53}\n",
    "PARP2_size={'size_x': 24.93, 'size_y': 23.85, 'size_z': 19.64}"
   ]
  },
  {
   "cell_type": "markdown",
   "metadata": {},
   "source": [
    "Specify Inputs"
   ]
  },
  {
   "cell_type": "code",
   "execution_count": 5,
   "metadata": {},
   "outputs": [],
   "source": [
    "#The relative working folder path to use\n",
    "Project_Folder='PARP1_OnTarget/7S6H/' \n",
    "\n",
    "#the csv file containing the ligand smiles and ID info\n",
    "ligand_file='PARP1_MainLigands.csv'\n",
    "\n",
    "#The PDB ID to fetch and prepare\n",
    "pdbID='7S6H' \n",
    "\n",
    "#Set to True to define the gridbox using the native ligands coordinates\n",
    "AutoGridbox=False\n",
    "\n",
    "#For AutoGridbox=False, define the gridbox presets to use instead\n",
    "GridPreset='PARP1_7S6H'"
   ]
  },
  {
   "cell_type": "markdown",
   "metadata": {},
   "source": [
    "Fetch and prepare protien from the PDB (skip if files already exist in the project folder)"
   ]
  },
  {
   "cell_type": "markdown",
   "metadata": {},
   "source": [
    "Give permissions: chmod u+x bin/lepro_linux_x86"
   ]
  },
  {
   "cell_type": "code",
   "execution_count": 5,
   "metadata": {},
   "outputs": [
    {
     "name": "stdout",
     "output_type": "stream",
     "text": [
      " PyMOL not running, entering library mode (experimental)\n"
     ]
    }
   ],
   "source": [
    "#Change the directory\n",
    "os.chdir(Project_Folder)\n",
    "\n",
    "#Fetch protien and native ligand from the pdb \n",
    "cmd.fetch(code=pdbID,type='pdb1')\n",
    "cmd.select(name='Prot',selection='polymer.protein')\n",
    "cmd.select(name='NativeLigand',selection='organic')\n",
    "cmd.save(filename=str(pdbID)+'_clean.pdb',format='pdb',selection='Prot')\n",
    "cmd.save(filename=str(pdbID)+'_NativeLigand.mol2',format='mol2',selection='NativeLigand')\n",
    "cmd.delete('all')\n",
    "\n",
    "#Create cleaned receptor file using lepro\n",
    "lepro_input=str(pdbID)+'_clean.pdb'\n",
    "!../../bin/lepro_linux_x86 {lepro_input}\n",
    "os.rename('pro.pdb',str(pdbID)+'_clean_H.pdb') "
   ]
  },
  {
   "cell_type": "markdown",
   "metadata": {},
   "source": [
    "Process from protien and ligand using existing files"
   ]
  },
  {
   "cell_type": "code",
   "execution_count": 3,
   "metadata": {},
   "outputs": [
    {
     "name": "stdout",
     "output_type": "stream",
     "text": [
      " PyMOL not running, entering library mode (experimental)\n"
     ]
    }
   ],
   "source": [
    "#Change the directory\n",
    "os.chdir(Project_Folder)\n",
    "\n",
    "protien_file=\"7S6H_Protien.pdb\"\n",
    "native_ligand_file=\"7S6H_Ligand.pdb\"\n",
    "#Fetch protien and native ligand from the pdb \n",
    "cmd.load(protien_file)\n",
    "cmd.load(native_ligand_file)\n",
    "cmd.select(name='Prot',selection='polymer.protein')\n",
    "cmd.select(name='NativeLigand',selection='organic')\n",
    "cmd.save(filename=str(pdbID)+'_clean.pdb',format='pdb',selection='Prot')\n",
    "cmd.save(filename=str(pdbID)+'_NativeLigand.mol2',format='mol2',selection='NativeLigand')\n",
    "cmd.delete('all')\n",
    "\n",
    "#Create cleaned receptor file using lepro\n",
    "lepro_input=str(pdbID)+'_clean.pdb'\n",
    "!../../bin/lepro_linux_x86 {lepro_input}\n",
    "os.rename('pro.pdb',str(pdbID)+'_clean_H.pdb') "
   ]
  },
  {
   "cell_type": "markdown",
   "metadata": {},
   "source": [
    "Only run if skipping the file docking prep"
   ]
  },
  {
   "cell_type": "code",
   "execution_count": 4,
   "metadata": {},
   "outputs": [
    {
     "ename": "FileNotFoundError",
     "evalue": "[Errno 2] No such file or directory: 'PARP1_OnTarget/7S6H/'",
     "output_type": "error",
     "traceback": [
      "\u001b[0;31m---------------------------------------------------------------------------\u001b[0m",
      "\u001b[0;31mFileNotFoundError\u001b[0m                         Traceback (most recent call last)",
      "\u001b[1;32m/home/bill/ProLIF/InteractionMappingNotebook_PARP1-7S6H.ipynb Cell 9\u001b[0m in \u001b[0;36m<cell line: 1>\u001b[0;34m()\u001b[0m\n\u001b[0;32m----> <a href='vscode-notebook-cell://wsl%2Bubuntu/home/bill/ProLIF/InteractionMappingNotebook_PARP1-7S6H.ipynb#Y102sdnNjb2RlLXJlbW90ZQ%3D%3D?line=0'>1</a>\u001b[0m os\u001b[39m.\u001b[39;49mchdir(Project_Folder)\n",
      "\u001b[0;31mFileNotFoundError\u001b[0m: [Errno 2] No such file or directory: 'PARP1_OnTarget/7S6H/'"
     ]
    }
   ],
   "source": [
    "os.chdir(Project_Folder)"
   ]
  },
  {
   "cell_type": "markdown",
   "metadata": {},
   "source": [
    "Extract smiles from the specified ligand file"
   ]
  },
  {
   "cell_type": "code",
   "execution_count": 6,
   "metadata": {},
   "outputs": [],
   "source": [
    "#Extract ligand information from input csv file\n",
    "ligand_df=pd.read_csv(ligand_file)\n",
    "\n",
    "#Standardize smiles in the ligand df\n",
    "#ligand_df['ROMol'] = ligand_df.Smiles.apply(Chem.MolFromSmiles)\n",
    "#ligand_df['Smiles'] = ligand_df.ROMol.apply(lambda x: Chem.MolToSmiles(x, kekuleSmiles=True, isomericSmiles=False))\n",
    "\n",
    "#Make lists from the ligand df\n",
    "ligand_smiles=ligand_df['Smiles'].values.tolist()\n",
    "ligand_IDs=ligand_df['ID'].values.tolist()\n",
    "\n",
    "#zip the lists into a dict\n",
    "ligand_dict=dict(zip(ligand_smiles,ligand_IDs))\n",
    "\n",
    "\n"
   ]
  },
  {
   "cell_type": "markdown",
   "metadata": {},
   "source": [
    "Define the gridbox"
   ]
  },
  {
   "cell_type": "code",
   "execution_count": 7,
   "metadata": {},
   "outputs": [
    {
     "name": "stdout",
     "output_type": "stream",
     "text": [
      "center: {'center_x': 45.37, 'center_y': 32.34, 'center_z': 44.01}\n",
      "size: {'size_x': 24.19, 'size_y': 21.41, 'size_z': 38.59}\n"
     ]
    }
   ],
   "source": [
    "#Define gridbox\n",
    "if AutoGridbox:\n",
    "    cmd.load(filename=str(pdbID)+'_clean_H.pdb',format='pdb',object='prot') #Not needed but as reference of the system\n",
    "    cmd.load(filename=str(pdbID)+'_NativeLigand.mol2',format='mol2',object='lig')\n",
    "    center,size=getbox(selection='lig',extending=5.0,software='vina')\n",
    "    cmd.delete('all')\n",
    "elif GridPreset=='TNKS1':\n",
    "    center=TNKS1_center\n",
    "    size=TNKS1_size\n",
    "elif GridPreset=='PARP1':\n",
    "    center=PARP1_center\n",
    "    size=PARP1_size\n",
    "elif GridPreset=='PARP2':\n",
    "    center=PARP2_center\n",
    "    size=PARP2_size\n",
    "elif GridPreset=='PARP1_6BHV':\n",
    "    center=PARP1_6BHV_center\n",
    "    size=PARP1_6BHV_size\n",
    "elif GridPreset=='PARP1_7S6H':\n",
    "    center=PARP1_7S6H_center\n",
    "    size=PARP1_7S6H_size\n",
    "\n",
    "print('center:', center)\n",
    "print('size:', size)\n"
   ]
  },
  {
   "cell_type": "markdown",
   "metadata": {},
   "source": [
    "Run Smina to dock the ligands"
   ]
  },
  {
   "cell_type": "code",
   "execution_count": 8,
   "metadata": {},
   "outputs": [
    {
     "name": "stdout",
     "output_type": "stream",
     "text": [
      "   _______  _______ _________ _        _______ \n",
      "  (  ____ \\(       )\\__   __/( (    /|(  ___  )\n",
      "  | (    \\/| () () |   ) (   |  \\  ( || (   ) |\n",
      "  | (_____ | || || |   | |   |   \\ | || (___) |\n",
      "  (_____  )| |(_)| |   | |   | (\\ \\) ||  ___  |\n",
      "        ) || |   | |   | |   | | \\   || (   ) |\n",
      "  /\\____) || )   ( |___) (___| )  \\  || )   ( |\n",
      "  \\_______)|/     \\|\\_______/|/    )_)|/     \\|\n",
      "\n",
      "\n",
      "smina is based off AutoDock Vina. Please cite appropriately.\n",
      "\n",
      "Weights      Terms\n",
      "-0.035579    gauss(o=0,_w=0.5,_c=8)\n",
      "-0.005156    gauss(o=3,_w=2,_c=8)\n",
      "0.840245     repulsion(o=0,_c=8)\n",
      "-0.035069    hydrophobic(g=0.5,_b=1.5,_c=8)\n",
      "-0.587439    non_dir_h_bond(g=-0.7,_b=0,_c=8)\n",
      "1.923        num_tors_div\n",
      "\n",
      "Using random seed: -639289080\n",
      "\n",
      "0%   10   20   30   40   50   60   70   80   90   100%\n",
      "|----|----|----|----|----|----|----|----|----|----|\n",
      "***************************************************\n",
      "\n",
      "mode |   affinity | dist from best mode\n",
      "     | (kcal/mol) | rmsd l.b.| rmsd u.b.\n",
      "-----+------------+----------+----------\n",
      "1       -12.3      0.000      0.000    \n",
      "2       -12.3      1.080      3.478    \n",
      "3       -12.2      1.041      6.462    \n",
      "4       -12.1      1.008      2.721    \n",
      "5       -12.1      1.568      3.755    \n",
      "Refine time 794.841\n",
      "Loop time 795.575\n",
      "   _______  _______ _________ _        _______ \n",
      "  (  ____ \\(       )\\__   __/( (    /|(  ___  )\n",
      "  | (    \\/| () () |   ) (   |  \\  ( || (   ) |\n",
      "  | (_____ | || || |   | |   |   \\ | || (___) |\n",
      "  (_____  )| |(_)| |   | |   | (\\ \\) ||  ___  |\n",
      "        ) || |   | |   | |   | | \\   || (   ) |\n",
      "  /\\____) || )   ( |___) (___| )  \\  || )   ( |\n",
      "  \\_______)|/     \\|\\_______/|/    )_)|/     \\|\n",
      "\n",
      "\n",
      "smina is based off AutoDock Vina. Please cite appropriately.\n",
      "\n",
      "Weights      Terms\n",
      "-0.035579    gauss(o=0,_w=0.5,_c=8)\n",
      "-0.005156    gauss(o=3,_w=2,_c=8)\n",
      "0.840245     repulsion(o=0,_c=8)\n",
      "-0.035069    hydrophobic(g=0.5,_b=1.5,_c=8)\n",
      "-0.587439    non_dir_h_bond(g=-0.7,_b=0,_c=8)\n",
      "1.923        num_tors_div\n",
      "\n",
      "Using random seed: 356639612\n",
      "\n",
      "0%   10   20   30   40   50   60   70   80   90   100%\n",
      "|----|----|----|----|----|----|----|----|----|----|\n",
      "***************************************************\n",
      "\n",
      "mode |   affinity | dist from best mode\n",
      "     | (kcal/mol) | rmsd l.b.| rmsd u.b.\n",
      "-----+------------+----------+----------\n",
      "1       -10.7      0.000      0.000    \n",
      "2       -10.6      1.691      2.538    \n",
      "3       -10.5      1.527      2.233    \n",
      "4       -10.3      1.202      1.703    \n",
      "5       -10.3      2.666      3.309    \n",
      "Refine time 17.080\n",
      "Loop time 17.636\n",
      "   _______  _______ _________ _        _______ \n",
      "  (  ____ \\(       )\\__   __/( (    /|(  ___  )\n",
      "  | (    \\/| () () |   ) (   |  \\  ( || (   ) |\n",
      "  | (_____ | || || |   | |   |   \\ | || (___) |\n",
      "  (_____  )| |(_)| |   | |   | (\\ \\) ||  ___  |\n",
      "        ) || |   | |   | |   | | \\   || (   ) |\n",
      "  /\\____) || )   ( |___) (___| )  \\  || )   ( |\n",
      "  \\_______)|/     \\|\\_______/|/    )_)|/     \\|\n",
      "\n",
      "\n",
      "smina is based off AutoDock Vina. Please cite appropriately.\n",
      "\n",
      "Weights      Terms\n",
      "-0.035579    gauss(o=0,_w=0.5,_c=8)\n",
      "-0.005156    gauss(o=3,_w=2,_c=8)\n",
      "0.840245     repulsion(o=0,_c=8)\n",
      "-0.035069    hydrophobic(g=0.5,_b=1.5,_c=8)\n",
      "-0.587439    non_dir_h_bond(g=-0.7,_b=0,_c=8)\n",
      "1.923        num_tors_div\n",
      "\n",
      "Using random seed: 1810982103\n",
      "\n",
      "0%   10   20   30   40   50   60   70   80   90   100%\n",
      "|----|----|----|----|----|----|----|----|----|----|\n",
      "***************************************************\n",
      "\n",
      "mode |   affinity | dist from best mode\n",
      "     | (kcal/mol) | rmsd l.b.| rmsd u.b.\n",
      "-----+------------+----------+----------\n",
      "1       -10.0      0.000      0.000    \n",
      "2       -9.9       1.911      2.249    \n",
      "3       -9.7       2.271      2.636    \n",
      "4       -9.6       1.450      1.787    \n",
      "5       -9.6       2.382      3.348    \n",
      "Refine time 13.088\n",
      "Loop time 13.626\n"
     ]
    }
   ],
   "source": [
    "for smiles,cpd_ID in ligand_dict.items():\n",
    "    Prepare_Smina_Ligand(smiles,cpd_ID)\n",
    "    RunSmina()"
   ]
  },
  {
   "cell_type": "markdown",
   "metadata": {},
   "source": [
    "Calculate the prolif fingerprint "
   ]
  },
  {
   "cell_type": "code",
   "execution_count": 1,
   "metadata": {},
   "outputs": [
    {
     "ename": "NameError",
     "evalue": "name 'os' is not defined",
     "output_type": "error",
     "traceback": [
      "\u001b[0;31m---------------------------------------------------------------------------\u001b[0m",
      "\u001b[0;31mNameError\u001b[0m                                 Traceback (most recent call last)",
      "\u001b[1;32m/home/bill/ProLIF/InteractionMappingNotebook2.ipynb Cell 15\u001b[0m in \u001b[0;36m<cell line: 2>\u001b[0;34m()\u001b[0m\n\u001b[1;32m      <a href='vscode-notebook-cell://wsl%2Bubuntu/home/bill/ProLIF/InteractionMappingNotebook2.ipynb#X20sdnNjb2RlLXJlbW90ZQ%3D%3D?line=0'>1</a>\u001b[0m \u001b[39m#Change the directory\u001b[39;00m\n\u001b[0;32m----> <a href='vscode-notebook-cell://wsl%2Bubuntu/home/bill/ProLIF/InteractionMappingNotebook2.ipynb#X20sdnNjb2RlLXJlbW90ZQ%3D%3D?line=1'>2</a>\u001b[0m os\u001b[39m.\u001b[39mchdir(Project_Folder)\n\u001b[1;32m      <a href='vscode-notebook-cell://wsl%2Bubuntu/home/bill/ProLIF/InteractionMappingNotebook2.ipynb#X20sdnNjb2RlLXJlbW90ZQ%3D%3D?line=3'>4</a>\u001b[0m fix_protein(filename\u001b[39m=\u001b[39m\u001b[39mstr\u001b[39m(pdbID)\u001b[39m+\u001b[39m\u001b[39m'\u001b[39m\u001b[39m_clean.pdb\u001b[39m\u001b[39m'\u001b[39m,addHs_pH\u001b[39m=\u001b[39m\u001b[39m7.4\u001b[39m,try_renumberResidues\u001b[39m=\u001b[39m\u001b[39mTrue\u001b[39;00m,output\u001b[39m=\u001b[39m\u001b[39mstr\u001b[39m(pdbID)\u001b[39m+\u001b[39m\u001b[39m'\u001b[39m\u001b[39m_clean_H_fix.pdb\u001b[39m\u001b[39m'\u001b[39m)\n\u001b[1;32m      <a href='vscode-notebook-cell://wsl%2Bubuntu/home/bill/ProLIF/InteractionMappingNotebook2.ipynb#X20sdnNjb2RlLXJlbW90ZQ%3D%3D?line=5'>6</a>\u001b[0m Cpd_ID\u001b[39m=\u001b[39m\u001b[39m'\u001b[39m\u001b[39mA108_B369\u001b[39m\u001b[39m'\u001b[39m\n",
      "\u001b[0;31mNameError\u001b[0m: name 'os' is not defined"
     ]
    }
   ],
   "source": [
    "#Change the directory\n",
    "os.chdir(Project_Folder)\n",
    "\n",
    "fix_protein(filename=str(pdbID)+'_clean.pdb',addHs_pH=7.4,try_renumberResidues=True,output=str(pdbID)+'_clean_H_fix.pdb')\n",
    "\n",
    "Cpd_ID='A108_B369'\n",
    "DockingResult='DockingOutput-'+pdbID+'_'+Cpd_ID+'.sdf'\n",
    "\n",
    "\n",
    "# load fixed protein\n",
    "prot = mda.Universe(str(pdbID)+'_clean_H_fix.pdb')\n",
    "prot = plf.Molecule.from_mda(prot)\n",
    "prot.n_residues\n",
    "\n",
    "# load ligands\n",
    "lig_suppl = list(plf.sdf_supplier(DockingResult))\n",
    "\n",
    "# generate a fingerprint with listed interactions\n",
    "fp = plf.Fingerprint([\"Hydrophobic\", \"HBDonor\", \"HBAcceptor\", \"PiStacking\", \"Anionic\", \"Cationic\", \"CationPi\", \"PiCation\"])\n",
    "fp.run_from_iterable(lig_suppl, prot)\n",
    "results_df = fp.to_dataframe(return_atoms=True)\n",
    "\n",
    "#convert fingerprint to dataframe\n",
    "data_df=fp.to_dataframe()\n",
    "\n"
   ]
  },
  {
   "cell_type": "markdown",
   "metadata": {},
   "source": [
    "Calculate ligand fingerprints from a list of sdf docking poses for a list of compounds <br>\n",
    "* make a ligand/residue intraction network using pyvis"
   ]
  },
  {
   "cell_type": "code",
   "execution_count": 6,
   "metadata": {},
   "outputs": [
    {
     "name": "stderr",
     "output_type": "stream",
     "text": [
      "Warning: importing 'simtk.openmm' is deprecated.  Import 'openmm' instead.\n"
     ]
    },
    {
     "data": {
      "application/vnd.jupyter.widget-view+json": {
       "model_id": "8940ce0e6aed49458e23d97bcb3ae9e8",
       "version_major": 2,
       "version_minor": 0
      },
      "text/plain": [
       "  0%|          | 0/5 [00:00<?, ?it/s]"
      ]
     },
     "metadata": {},
     "output_type": "display_data"
    },
    {
     "data": {
      "application/vnd.jupyter.widget-view+json": {
       "model_id": "6bba7e19dc954020ba92999572b814c3",
       "version_major": 2,
       "version_minor": 0
      },
      "text/plain": [
       "  0%|          | 0/5 [00:00<?, ?it/s]"
      ]
     },
     "metadata": {},
     "output_type": "display_data"
    },
    {
     "data": {
      "application/vnd.jupyter.widget-view+json": {
       "model_id": "aa9c716a01d542ca843334f89521e109",
       "version_major": 2,
       "version_minor": 0
      },
      "text/plain": [
       "  0%|          | 0/5 [00:00<?, ?it/s]"
      ]
     },
     "metadata": {},
     "output_type": "display_data"
    },
    {
     "data": {
      "application/vnd.jupyter.widget-view+json": {
       "model_id": "b4df352ff4574821bc0023bf72f9ebff",
       "version_major": 2,
       "version_minor": 0
      },
      "text/plain": [
       "  0%|          | 0/5 [00:00<?, ?it/s]"
      ]
     },
     "metadata": {},
     "output_type": "display_data"
    },
    {
     "data": {
      "application/vnd.jupyter.widget-view+json": {
       "model_id": "e39583aeb05a4ae5aeaaebdda68fd06b",
       "version_major": 2,
       "version_minor": 0
      },
      "text/plain": [
       "  0%|          | 0/5 [00:00<?, ?it/s]"
      ]
     },
     "metadata": {},
     "output_type": "display_data"
    }
   ],
   "source": [
    "from pyvis.network import Network\n",
    "fix_protein(filename=str(pdbID)+'_clean.pdb',addHs_pH=7.4,try_renumberResidues=True,output=str(pdbID)+'_clean_H_fix.pdb')\n",
    "\n",
    "\n",
    "#Define the list of compounds to fingerprint\n",
    "Cpd_List=ligand_IDs\n",
    "\n",
    "#Fingerprint and extract data from the Cpd_List\n",
    "edges, nodes, weights,edge_colors=extract_multiple(pdbID,Cpd_List)\n",
    "\n",
    "#Create pyvis network object\n",
    "net = Network(width='1500px',height='1500px',select_menu=True, filter_menu=True)\n",
    "\n",
    "#Define a list of residues from the node list\n",
    "residues=[node for node in nodes if node not in Cpd_List]\n",
    "\n",
    "#calculate node corrdinates for the ligands and residues\n",
    "lig_points=calc_list_coords(Cpd_List,0,0,300)\n",
    "res_points=calc_list_coords(residues,0,0,800)\n",
    "\n",
    "#create dictionaries to hold the coordinate information\n",
    "lig_dict=dict(zip(Cpd_List,lig_points))\n",
    "res_dict=dict(zip(residues,res_points))\n",
    "\n",
    "#Add the nodes to the pyvis network\n",
    "for node in nodes:\n",
    "    if node in Cpd_List:\n",
    "        lig_x=lig_dict[node][0]\n",
    "        lig_y=lig_dict[node][1]\n",
    "        net.add_node(node, x=lig_x, y=lig_y, physics=False, color='#ed978c')\n",
    "    if node in residues:\n",
    "        res_x=res_dict[node][0]\n",
    "        res_y=res_dict[node][1]\n",
    "        net.add_node(node, x=res_x, y=res_y, physics=False, color='#8cc8ed')\n",
    "\n",
    "#add the edges to the pyvis network\n",
    "for edge in edges:\n",
    "    net.add_edge(edge[0],edge[1], value=weights[edge], color=edge_colors[edge], physics=False)\n",
    "\n",
    "\n",
    "#net.show_buttons(filter_=['physics'])\n",
    "\n",
    "#Output pyvis network to html\n",
    "net.write_html('LigandInteractionNetwork_OffTarget_PARP1.html')"
   ]
  },
  {
   "cell_type": "markdown",
   "metadata": {},
   "source": [
    "Generate Ligand Network with no edge colors"
   ]
  },
  {
   "cell_type": "code",
   "execution_count": 6,
   "metadata": {},
   "outputs": [
    {
     "name": "stderr",
     "output_type": "stream",
     "text": [
      "Warning: importing 'simtk.openmm' is deprecated.  Import 'openmm' instead.\n"
     ]
    },
    {
     "data": {
      "application/vnd.jupyter.widget-view+json": {
       "model_id": "6479b7de6cac4197bede01243e426e73",
       "version_major": 2,
       "version_minor": 0
      },
      "text/plain": [
       "  0%|          | 0/5 [00:00<?, ?it/s]"
      ]
     },
     "metadata": {},
     "output_type": "display_data"
    },
    {
     "data": {
      "application/vnd.jupyter.widget-view+json": {
       "model_id": "46b565652ece457ab478b1301741f8e4",
       "version_major": 2,
       "version_minor": 0
      },
      "text/plain": [
       "  0%|          | 0/5 [00:00<?, ?it/s]"
      ]
     },
     "metadata": {},
     "output_type": "display_data"
    },
    {
     "data": {
      "application/vnd.jupyter.widget-view+json": {
       "model_id": "1e9ce1b287b844b589f94862417eabdd",
       "version_major": 2,
       "version_minor": 0
      },
      "text/plain": [
       "  0%|          | 0/5 [00:00<?, ?it/s]"
      ]
     },
     "metadata": {},
     "output_type": "display_data"
    },
    {
     "data": {
      "application/vnd.jupyter.widget-view+json": {
       "model_id": "901ae56644514a5cb4cb2e283380c286",
       "version_major": 2,
       "version_minor": 0
      },
      "text/plain": [
       "  0%|          | 0/5 [00:00<?, ?it/s]"
      ]
     },
     "metadata": {},
     "output_type": "display_data"
    },
    {
     "data": {
      "application/vnd.jupyter.widget-view+json": {
       "model_id": "2214ac1bc2c943c7875a48f8935b7777",
       "version_major": 2,
       "version_minor": 0
      },
      "text/plain": [
       "  0%|          | 0/5 [00:00<?, ?it/s]"
      ]
     },
     "metadata": {},
     "output_type": "display_data"
    }
   ],
   "source": [
    "from pyvis.network import Network\n",
    "fix_protein(filename=str(pdbID)+'_clean.pdb',addHs_pH=7.4,try_renumberResidues=True,output=str(pdbID)+'_clean_H_fix.pdb')\n",
    "\n",
    "\n",
    "#Define the list of compounds to fingerprint\n",
    "Cpd_List=ligand_IDs\n",
    "\n",
    "#Fingerprint and extract data from the Cpd_List\n",
    "edges, nodes, weights,edge_colors=extract_multiple(pdbID,Cpd_List)\n",
    "\n",
    "#Create pyvis network object\n",
    "net = Network(width='1500px',height='1500px',select_menu=True, filter_menu=True)\n",
    "\n",
    "#Define a list of residues from the node list\n",
    "residues=[node for node in nodes if node not in Cpd_List]\n",
    "\n",
    "#calculate node corrdinates for the ligands and residues\n",
    "lig_points=calc_list_coords(Cpd_List,0,0,300)\n",
    "res_points=calc_list_coords(residues,0,0,800)\n",
    "\n",
    "#create dictionaries to hold the coordinate information\n",
    "lig_dict=dict(zip(Cpd_List,lig_points))\n",
    "res_dict=dict(zip(residues,res_points))\n",
    "\n",
    "#Add the nodes to the pyvis network\n",
    "for node in nodes:\n",
    "    if node in Cpd_List:\n",
    "        lig_x=lig_dict[node][0]\n",
    "        lig_y=lig_dict[node][1]\n",
    "        net.add_node(node, x=lig_x, y=lig_y, physics=False, color='#ed978c')\n",
    "    if node in residues:\n",
    "        res_x=res_dict[node][0]\n",
    "        res_y=res_dict[node][1]\n",
    "        net.add_node(node, x=res_x, y=res_y, physics=False, color='#8cc8ed')\n",
    "\n",
    "#add the edges to the pyvis network\n",
    "for edge in edges:\n",
    "    net.add_edge(edge[0],edge[1], \n",
    "                 value=weights[edge], \n",
    "                 #color=edge_colors[edge], \n",
    "                 physics=False)\n",
    "\n",
    "\n",
    "#net.show_buttons(filter_=['physics'])\n",
    "\n",
    "#Output pyvis network to html\n",
    "net.write_html('SimpleLigandInteractionNetwork_OnTarget_TNKS1.html')"
   ]
  },
  {
   "cell_type": "markdown",
   "metadata": {},
   "source": [
    "Create the Pyvis interaction network"
   ]
  },
  {
   "cell_type": "code",
   "execution_count": 5,
   "metadata": {},
   "outputs": [],
   "source": [
    "#Create pyvis network object\n",
    "net = Network(width='1000px',height='1000px', select_menu=True, filter_menu=True)\n",
    "\n",
    "#Define a list of residues from the node list\n",
    "residues=[node for node in nodes if node not in Cpd_List]\n",
    "\n",
    "#calculate node corrdinates for the ligands and residues\n",
    "lig_points=calc_list_coords(Cpd_List,0,0,300)\n",
    "res_points=calc_list_coords(residues,0,0,800)\n",
    "\n",
    "#create dictionaries to hold the corrdinate information\n",
    "lig_dict=dict(zip(Cpd_List,lig_points))\n",
    "res_dict=dict(zip(residues,res_points))\n",
    "\n",
    "#Add the nodes to the pyvis network\n",
    "for node in nodes:\n",
    "    if node in Cpd_List:\n",
    "        lig_x=lig_dict[node][0]\n",
    "        lig_y=lig_dict[node][1]\n",
    "        net.add_node(node, x=lig_x, y=lig_y, physics=False, color='#ed978c')\n",
    "    if node in residues:\n",
    "        res_x=res_dict[node][0]\n",
    "        res_y=res_dict[node][1]\n",
    "        net.add_node(node, x=res_x, y=res_y, physics=False, color='#8cc8ed')\n",
    "\n",
    "#add the edges to the pyvis network\n",
    "for edge in edges:\n",
    "    net.add_edge(edge[0],edge[1], value=weights[edge], color=edge_colors[edge], physics=False)\n",
    "\n",
    "\n",
    "#net.show_buttons(filter_=['physics'])\n",
    "\n",
    "#Output pyvis network to html\n",
    "net.write_html('big_test_graph3.html')"
   ]
  },
  {
   "cell_type": "code",
   "execution_count": 6,
   "metadata": {},
   "outputs": [],
   "source": [
    "#Create pyvis network object\n",
    "net = Network(width='1000px',height='1000px', select_menu=True, filter_menu=True)\n",
    "\n",
    "#Define a list of residues from the node list\n",
    "residues=[node for node in nodes if node not in Cpd_List]\n",
    "\n",
    "#calculate node corrdinates for the ligands and residues\n",
    "lig_points=calc_list_coords(Cpd_List,0,0,300)\n",
    "res_points=calc_list_coords(residues,0,0,800)\n",
    "\n",
    "#create dictionaries to hold the corrdinate information\n",
    "lig_dict=dict(zip(Cpd_List,lig_points))\n",
    "res_dict=dict(zip(residues,res_points))\n",
    "\n",
    "#Add the nodes to the pyvis network\n",
    "for node in nodes:\n",
    "    if node in Cpd_List:\n",
    "        lig_x=lig_dict[node][0]\n",
    "        lig_y=lig_dict[node][1]\n",
    "        net.add_node(node, x=lig_x, y=lig_y, physics=False, color='#ed978c')\n",
    "    if node in residues:\n",
    "        res_x=res_dict[node][0]\n",
    "        res_y=res_dict[node][1]\n",
    "        net.add_node(node, x=res_x, y=res_y, physics=False, color='#8cc8ed')\n",
    "\n",
    "#add the edges to the pyvis network\n",
    "for edge in edges:\n",
    "    net.add_edge(edge[0],edge[1], value=weights[edge], physics=False)\n",
    "\n",
    "\n",
    "#net.show_buttons(filter_=['physics'])\n",
    "\n",
    "#Output pyvis network to html\n",
    "net.write_html('big_test_graph4-NoEdgeColors.html')"
   ]
  },
  {
   "cell_type": "code",
   "execution_count": 4,
   "metadata": {},
   "outputs": [
    {
     "data": {
      "application/vnd.jupyter.widget-view+json": {
       "model_id": "ceee1a93c7d9425392b60c77bca66b1d",
       "version_major": 2,
       "version_minor": 0
      },
      "text/plain": [
       "  0%|          | 0/5 [00:00<?, ?it/s]"
      ]
     },
     "metadata": {},
     "output_type": "display_data"
    },
    {
     "data": {
      "application/vnd.jupyter.widget-view+json": {
       "model_id": "f8b2f294cea144a1958b2d9f5ce1af56",
       "version_major": 2,
       "version_minor": 0
      },
      "text/plain": [
       "  0%|          | 0/5 [00:00<?, ?it/s]"
      ]
     },
     "metadata": {},
     "output_type": "display_data"
    },
    {
     "data": {
      "application/vnd.jupyter.widget-view+json": {
       "model_id": "91a33ef720f342da8724ca88a1609f6c",
       "version_major": 2,
       "version_minor": 0
      },
      "text/plain": [
       "  0%|          | 0/5 [00:00<?, ?it/s]"
      ]
     },
     "metadata": {},
     "output_type": "display_data"
    },
    {
     "data": {
      "application/vnd.jupyter.widget-view+json": {
       "model_id": "3d5878c8944a4cf4a1bd5ae4d07373a9",
       "version_major": 2,
       "version_minor": 0
      },
      "text/plain": [
       "  0%|          | 0/5 [00:00<?, ?it/s]"
      ]
     },
     "metadata": {},
     "output_type": "display_data"
    },
    {
     "data": {
      "application/vnd.jupyter.widget-view+json": {
       "model_id": "735840de84c0480da2f52a64978b9109",
       "version_major": 2,
       "version_minor": 0
      },
      "text/plain": [
       "  0%|          | 0/5 [00:00<?, ?it/s]"
      ]
     },
     "metadata": {},
     "output_type": "display_data"
    },
    {
     "data": {
      "application/vnd.jupyter.widget-view+json": {
       "model_id": "b6f357d883a94042bef3939ae7a90b2c",
       "version_major": 2,
       "version_minor": 0
      },
      "text/plain": [
       "  0%|          | 0/5 [00:00<?, ?it/s]"
      ]
     },
     "metadata": {},
     "output_type": "display_data"
    }
   ],
   "source": [
    "\n",
    "\n",
    "Cpd_List=['A108_B369','A108_B368','A108_B367','A108_B366','A108_B365','A108_B364']\n",
    "edges, nodes, weights,edge_colors=extract_multiple(Cpd_List)\n",
    "residues=[]"
   ]
  },
  {
   "cell_type": "code",
   "execution_count": 13,
   "metadata": {},
   "outputs": [
    {
     "name": "stdout",
     "output_type": "stream",
     "text": [
      "19\n",
      "6\n",
      "13\n"
     ]
    }
   ],
   "source": [
    "residues=[node for node in nodes if node not in Cpd_List]\n",
    "\n",
    "print(len(nodes))\n",
    "print(len(Cpd_List))\n",
    "print(len(residues))"
   ]
  },
  {
   "cell_type": "code",
   "execution_count": 14,
   "metadata": {},
   "outputs": [
    {
     "data": {
      "image/png": "[encoded data removed]",
      "text/plain": [
       "<Figure size 640x480 with 1 Axes>"
      ]
     },
     "metadata": {},
     "output_type": "display_data"
    }
   ],
   "source": [
    "lig_points=calc_list_coords(Cpd_List,0,0,300)\n",
    "res_points=calc_list_coords(residues,0,0,800)\n",
    "\n",
    "data = np.array(lig_points+res_points)\n",
    "x, y = data.T\n",
    "plt.scatter(x,y)\n",
    "plt.show()"
   ]
  },
  {
   "cell_type": "code",
   "execution_count": 15,
   "metadata": {},
   "outputs": [],
   "source": [
    "from pyvis.network import Network\n",
    "\n",
    "\n",
    "net = Network(width='1000px',height='1000px')\n",
    "\n",
    "residues=[node for node in nodes if node not in Cpd_List]\n",
    "\n",
    "lig_points=calc_list_coords(Cpd_List,0,0,300)\n",
    "res_points=calc_list_coords(residues,0,0,800)\n",
    "\n",
    "lig_dict=dict(zip(Cpd_List,lig_points))\n",
    "res_dict=dict(zip(residues,res_points))\n",
    "\n",
    "for node in nodes:\n",
    "    if node in Cpd_List:\n",
    "        lig_x=lig_dict[node][0]\n",
    "        lig_y=lig_dict[node][1]\n",
    "        net.add_node(node, x=lig_x, y=lig_y, physics=False, color='#ed978c')\n",
    "    if node in residues:\n",
    "        res_x=res_dict[node][0]\n",
    "        res_y=res_dict[node][1]\n",
    "        net.add_node(node, x=res_x, y=res_y, physics=False, color='#8cc8ed')\n",
    "        \n",
    "\n",
    "\n",
    "\n",
    "for edge in edges:\n",
    "    net.add_edge(edge[0],edge[1], value=weights[edge], color=edge_colors[edge], physics=False)\n",
    "net.show_buttons(filter_=['physics'])\n",
    "net.write_html('big_test_graph2.html')"
   ]
  },
  {
   "cell_type": "code",
   "execution_count": null,
   "metadata": {},
   "outputs": [],
   "source": [
    "from pyvis.network import Network\n",
    "\n",
    "\n",
    "net = Network(width='1000px',height='1000px')\n",
    "\n",
    "residues=[node for node in nodes if node not in Cpd_List]\n",
    "\n",
    "lig_points=calc_list_coords(Cpd_List,0,0,300)\n",
    "res_points=calc_list_coords(residues,0,0,800)\n",
    "lig_count=0\n",
    "res_count=0\n",
    "\n",
    "for node in nodes:\n",
    "    if node in Cpd_List:\n",
    "        lig_count=+1\n",
    "        lig_x=lig_points[lig_count][0]\n",
    "        lig_y=lig_points[lig_count][1]\n",
    "        net.add_node(node, x=lig_x, y=lig_y, physics=False, color='#ed978c')\n",
    "    else:\n",
    "        res_count=+1\n",
    "        res_x=res_points[res_count][0]\n",
    "        res_y=res_points[res_count][1]\n",
    "        net.add_node(node, x=res_x, y=res_y, physics=False, color='#8cc8ed')\n",
    "        \n",
    "\n",
    "\n",
    "\n",
    "for edge in edges:\n",
    "    net.add_edge(edge[0],edge[1], value=weights[edge], color=edge_colors[edge], physics=False)\n",
    "net.show_buttons(filter_=['physics'])\n",
    "net.write_html('big_test_graph2.html')"
   ]
  },
  {
   "cell_type": "code",
   "execution_count": 11,
   "metadata": {},
   "outputs": [
    {
     "data": {
      "text/plain": [
       "['A108_B369',\n",
       " 'PHE1197.A',\n",
       " 'HIS1201.A',\n",
       " 'LYS1220.A',\n",
       " 'TYR1224.A',\n",
       " 'GLU1291.A',\n",
       " 'TYR1213.A',\n",
       " 'GLY1185.A',\n",
       " 'A108_B368',\n",
       " 'TYR1203.A',\n",
       " 'HIS1184.A',\n",
       " 'A108_B367',\n",
       " 'GLY1196.A',\n",
       " 'ASP1198.A',\n",
       " 'A108_B366',\n",
       " 'A108_B365',\n",
       " 'A108_B364',\n",
       " 'SER1221.A',\n",
       " 'MET1207.A']"
      ]
     },
     "execution_count": 11,
     "metadata": {},
     "output_type": "execute_result"
    }
   ],
   "source": [
    "nodes"
   ]
  },
  {
   "cell_type": "code",
   "execution_count": 12,
   "metadata": {},
   "outputs": [
    {
     "data": {
      "text/plain": [
       "['PHE1197.A',\n",
       " 'HIS1201.A',\n",
       " 'LYS1220.A',\n",
       " 'TYR1224.A',\n",
       " 'GLU1291.A',\n",
       " 'TYR1213.A',\n",
       " 'GLY1185.A',\n",
       " 'TYR1203.A',\n",
       " 'HIS1184.A',\n",
       " 'GLY1196.A',\n",
       " 'ASP1198.A',\n",
       " 'SER1221.A',\n",
       " 'MET1207.A']"
      ]
     },
     "execution_count": 12,
     "metadata": {},
     "output_type": "execute_result"
    }
   ],
   "source": [
    "residues2=[node for node in nodes if node not in Cpd_List]\n",
    "residues2"
   ]
  },
  {
   "cell_type": "code",
   "execution_count": 24,
   "metadata": {},
   "outputs": [],
   "source": [
    "from pyvis.network import Network\n",
    "residues=[]\n",
    "\n",
    "net = Network(width='1000px',height='1000px')\n",
    "\n",
    "for node in nodes:\n",
    "    if node not in Cpd_List:\n",
    "        residues.append(node)\n",
    "\n",
    "lig_points=calc_list_coords(Cpd_List,0,0,300)\n",
    "res_points=calc_list_coords(residues,0,0,800)\n",
    "lig_count=0\n",
    "res_count=0\n",
    "\n",
    "for node in nodes:\n",
    "    if node in Cpd_List:\n",
    "        lig_count=+1\n",
    "        lig_x=lig_points[lig_count][0]\n",
    "        lig_y=lig_points[lig_count][1]\n",
    "        net.add_node(node, x=lig_x, y=lig_y, physics=False, color='#ed978c')\n",
    "    else:\n",
    "        res_count=+1\n",
    "        res_x=res_points[res_count][0]\n",
    "        res_y=res_points[res_count][1]\n",
    "        net.add_node(node, x=res_x, y=res_y, physics=False, color='#8cc8ed')\n",
    "        \n",
    "\n",
    "\n",
    "\n",
    "for edge in edges:\n",
    "    net.add_edge(edge[0],edge[1], value=weights[edge], color=edge_colors[edge])\n",
    "net.show_buttons(filter_=['physics'])\n",
    "net.write_html('big_test_graph2.html')"
   ]
  },
  {
   "cell_type": "code",
   "execution_count": null,
   "metadata": {},
   "outputs": [],
   "source": [
    "net = Network(notebook=True, cdn_resources=\"remote\",width='1500px',height='1500px',select_menu=True, filter_menu=True)\n",
    "\n",
    "for node in nodes:\n",
    "    if node in Cpd_List:\n",
    "        net.add_node(node, color='#ed978c')\n",
    "    else:\n",
    "        net.add_node(node, color='#8cc8ed')\n",
    "\n",
    "for edge in edges:\n",
    "    net.add_edge(edge[0],edge[1], value=weights[edge], color=edge_colors[edge])\n",
    "net.show_buttons(filter_=True)\n",
    "net.write_html('big_test_graph.html')"
   ]
  },
  {
   "cell_type": "markdown",
   "metadata": {},
   "source": [
    "Create MDA universe and atom selection for diplaying 3D interaction with the specified compound"
   ]
  },
  {
   "cell_type": "code",
   "execution_count": 7,
   "metadata": {},
   "outputs": [],
   "source": [
    "import py3Dmol\n",
    "from rdkit.Geometry import Point3D\n",
    "from MDAnalysis import Merge\n",
    "\n",
    "Cpd_Name='A108_B369'\n",
    "DockingSDF='DockingOutput-4I9I_'+Cpd_Name+'.sdf'\n",
    "\n",
    "#create mol from the first ligand pose in the sdf file\n",
    "mol=list(plf.sdf_supplier(DockingSDF))[0]\n",
    "\n",
    "#create seperate universes from atom selections for the protein and ligand\n",
    "u1 = mda.Universe(str(pdbID)+'_clean_H_fix.pdb')\n",
    "u2= mda.Universe(mol)\n",
    "u_prot = u1.atoms.select_atoms(\"protein\")\n",
    "u_lig=u2.atoms\n",
    "\n",
    "# merge the protein and ligand universes\n",
    "u= Merge(u_prot,u_lig)\n",
    "\n",
    "#create atom selection groups for the protein, ligand, and active site residues \n",
    "prot_atoms= u.select_atoms(\"protein\")\n",
    "lig=u.select_atoms(\"segid SYSTEM\")\n",
    "prot=u.select_atoms(\"protein and byres around 10 group ligand\", ligand=lig)"
   ]
  },
  {
   "cell_type": "code",
   "execution_count": 15,
   "metadata": {},
   "outputs": [
    {
     "data": {
      "application/vnd.jupyter.widget-view+json": {
       "model_id": "94b27210ae4243709ac3cd6ad8529dd8",
       "version_major": 2,
       "version_minor": 0
      },
      "text/plain": [
       "  0%|          | 0/1 [00:00<?, ?it/s]"
      ]
     },
     "metadata": {},
     "output_type": "display_data"
    },
    {
     "data": {
      "text/plain": [
       "<prolif_old.fingerprint.Fingerprint: 3 interactions: ['HBDonor', 'HBAcceptor', 'PiStacking'] at 0x7ff7e95a5f70>"
      ]
     },
     "execution_count": 15,
     "metadata": {},
     "output_type": "execute_result"
    }
   ],
   "source": [
    "fp = plf.Fingerprint([\"HBDonor\", \"HBAcceptor\", \"PiStacking\"])\n",
    "fp.run(u.trajectory, lig, prot)"
   ]
  },
  {
   "cell_type": "code",
   "execution_count": 18,
   "metadata": {},
   "outputs": [
    {
     "name": "stderr",
     "output_type": "stream",
     "text": [
      "Traceback (most recent call last):\n",
      "  File \"_pydevd_bundle/pydevd_cython.pyx\", line 577, in _pydevd_bundle.pydevd_cython.PyDBFrame._handle_exception\n",
      "  File \"_pydevd_bundle/pydevd_cython.pyx\", line 312, in _pydevd_bundle.pydevd_cython.PyDBFrame.do_wait_suspend\n",
      "  File \"/home/bill/anaconda3/envs/Jupyter_Dock/lib/python3.8/site-packages/debugpy/_vendored/pydevd/pydevd.py\", line 2070, in do_wait_suspend\n",
      "    keep_suspended = self._do_wait_suspend(thread, frame, event, arg, suspend_type, from_this_thread, frames_tracker)\n",
      "  File \"/home/bill/anaconda3/envs/Jupyter_Dock/lib/python3.8/site-packages/debugpy/_vendored/pydevd/pydevd.py\", line 2106, in _do_wait_suspend\n",
      "    time.sleep(0.01)\n",
      "KeyboardInterrupt\n"
     ]
    },
    {
     "ename": "AttributeError",
     "evalue": "'tuple' object has no attribute 'items'",
     "output_type": "error",
     "traceback": [
      "\u001b[0;31m---------------------------------------------------------------------------\u001b[0m",
      "\u001b[0;31mAttributeError\u001b[0m                            Traceback (most recent call last)",
      "\u001b[1;32m/home/bill/ProLIF/InteractionMappingNotebook.ipynb Cell 30\u001b[0m in \u001b[0;36m<cell line: 45>\u001b[0;34m()\u001b[0m\n\u001b[1;32m     <a href='vscode-notebook-cell://wsl%2Bubuntu/home/bill/ProLIF/InteractionMappingNotebook.ipynb#X36sdnNjb2RlLXJlbW90ZQ%3D%3D?line=58'>59</a>\u001b[0m         model\u001b[39m.\u001b[39msetHoverable({}, \u001b[39mTrue\u001b[39;00m, resid_hover\u001b[39m.\u001b[39mformat(resid), unhover_func)\n\u001b[1;32m     <a href='vscode-notebook-cell://wsl%2Bubuntu/home/bill/ProLIF/InteractionMappingNotebook.ipynb#X36sdnNjb2RlLXJlbW90ZQ%3D%3D?line=59'>60</a>\u001b[0m         models[resid] \u001b[39m=\u001b[39m mid\n\u001b[0;32m---> <a href='vscode-notebook-cell://wsl%2Bubuntu/home/bill/ProLIF/InteractionMappingNotebook.ipynb#X36sdnNjb2RlLXJlbW90ZQ%3D%3D?line=60'>61</a>\u001b[0m \u001b[39mfor\u001b[39;00m interaction, metadata_tuple \u001b[39min\u001b[39;00m interactions\u001b[39m.\u001b[39;49mitems():\n\u001b[1;32m     <a href='vscode-notebook-cell://wsl%2Bubuntu/home/bill/ProLIF/InteractionMappingNotebook.ipynb#X36sdnNjb2RlLXJlbW90ZQ%3D%3D?line=61'>62</a>\u001b[0m     \u001b[39m# get interacting atoms with the shortest distance\u001b[39;00m\n\u001b[1;32m     <a href='vscode-notebook-cell://wsl%2Bubuntu/home/bill/ProLIF/InteractionMappingNotebook.ipynb#X36sdnNjb2RlLXJlbW90ZQ%3D%3D?line=62'>63</a>\u001b[0m     metadata \u001b[39m=\u001b[39m \u001b[39mmin\u001b[39m(metadata_tuple, key\u001b[39m=\u001b[39m\u001b[39mlambda\u001b[39;00m m: m\u001b[39m.\u001b[39mget(\u001b[39m\"\u001b[39m\u001b[39mdistance\u001b[39m\u001b[39m\"\u001b[39m, \u001b[39mfloat\u001b[39m(\u001b[39m\"\u001b[39m\u001b[39mnan\u001b[39m\u001b[39m\"\u001b[39m)))\n\u001b[1;32m     <a href='vscode-notebook-cell://wsl%2Bubuntu/home/bill/ProLIF/InteractionMappingNotebook.ipynb#X36sdnNjb2RlLXJlbW90ZQ%3D%3D?line=63'>64</a>\u001b[0m     \u001b[39m# get coordinates for both points of the interaction\u001b[39;00m\n",
      "\u001b[0;31mAttributeError\u001b[0m: 'tuple' object has no attribute 'items'"
     ]
    }
   ],
   "source": [
    "colors = {\n",
    "    \"Hydrophobic\": \"green\",\n",
    "    \"HBAcceptor\": \"cyan\",\n",
    "    \"HBDonor\": \"cyan\",\n",
    "    \"XBDonor\": \"orange\",\n",
    "    \"XBAcceptor\": \"orange\",\n",
    "    \"Cationic\": \"red\",\n",
    "    \"Anionic\": \"blue\",\n",
    "    \"PiStacking\": \"purple\",\n",
    "}\n",
    "frame_number = 0\n",
    "\n",
    "# JavaScript functions\n",
    "resid_hover = \"\"\"function(atom,viewer) {{\n",
    "    if(!atom.label) {{\n",
    "        atom.label = viewer.addLabel('{0}:'+atom.atom+atom.serial,\n",
    "            {{position: atom, backgroundColor: 'mintcream', fontColor:'black'}});\n",
    "    }}\n",
    "}}\"\"\"\n",
    "hover_func = \"\"\"\n",
    "function(atom,viewer) {\n",
    "    if(!atom.label) {\n",
    "        atom.label = viewer.addLabel(atom.interaction,\n",
    "            {position: atom, backgroundColor: 'black', fontColor:'white'});\n",
    "    }\n",
    "}\"\"\"\n",
    "unhover_func = \"\"\"\n",
    "function(atom,viewer) {\n",
    "    if(atom.label) {\n",
    "        viewer.removeLabel(atom.label);\n",
    "        delete atom.label;\n",
    "    }\n",
    "}\"\"\"\n",
    "\n",
    "v = py3Dmol.view(650, 600)\n",
    "v.removeAllModels()\n",
    "\n",
    "ifp = fp.ifp[frame_number]\n",
    "u.trajectory[frame_number]\n",
    "lmol = plf.Molecule.from_mda(lig)\n",
    "pmol = plf.Molecule.from_mda(prot)\n",
    "\n",
    "models = {}\n",
    "mid = -1\n",
    "for (lresid, presid), interactions in ifp.items():\n",
    "    lres = lmol[lresid]\n",
    "    pres = pmol[presid]\n",
    "    # set model ids for reusing later\n",
    "    for resid, res, style in [\n",
    "        (lresid, lres, {\"colorscheme\": \"cyanCarbon\"}),\n",
    "        (presid, pres, {}),\n",
    "    ]:\n",
    "        if resid not in models.keys():\n",
    "            mid += 1\n",
    "            v.addModel(Chem.MolToMolBlock(res), \"sdf\")\n",
    "            model = v.getModel()\n",
    "            model.setStyle({}, {\"stick\": style})\n",
    "            # add residue label\n",
    "            model.setHoverable({}, True, resid_hover.format(resid), unhover_func)\n",
    "            models[resid] = mid\n",
    "    for interaction, metadata_tuple in interactions.items():\n",
    "        # get interacting atoms with the shortest distance\n",
    "        metadata = min(metadata_tuple, key=lambda m: m.get(\"distance\", float(\"nan\")))\n",
    "        # get coordinates for both points of the interaction\n",
    "        if interaction in [\"PiStacking\", \"EdgeToFace\", \"FaceToFace\", \"PiCation\"]:\n",
    "            p1 = get_ring_centroid(lres, metadata[\"indices\"][\"ligand\"])\n",
    "        else:\n",
    "            p1 = lres.GetConformer().GetAtomPosition(metadata[\"indices\"][\"ligand\"][0])\n",
    "        if interaction in [\"PiStacking\", \"EdgeToFace\", \"FaceToFace\", \"CationPi\"]:\n",
    "            p2 = get_ring_centroid(pres, metadata[\"indices\"][\"protein\"])\n",
    "        else:\n",
    "            p2 = pres.GetConformer().GetAtomPosition(metadata[\"indices\"][\"protein\"][0])\n",
    "        # add interaction line\n",
    "        v.addCylinder(\n",
    "            {\n",
    "                \"start\": dict(x=p1.x, y=p1.y, z=p1.z),\n",
    "                \"end\": dict(x=p2.x, y=p2.y, z=p2.z),\n",
    "                \"color\": colors.get(interaction, \"grey\"),\n",
    "                \"radius\": 0.15,\n",
    "                \"dashed\": True,\n",
    "                \"fromCap\": 1,\n",
    "                \"toCap\": 1,\n",
    "            }\n",
    "        )\n",
    "        # add label when hovering the middle of the dashed line by adding a dummy atom\n",
    "        c = Point3D(*plf.utils.get_centroid([p1, p2]))\n",
    "        modelID = models[lresid]\n",
    "        model = v.getModel(modelID)\n",
    "        interaction_label = f\"{interaction}: {metadata['distance']:.2f}Å\"\n",
    "        model.addAtoms(\n",
    "            [\n",
    "                {\n",
    "                    \"elem\": \"Z\",\n",
    "                    \"x\": c.x,\n",
    "                    \"y\": c.y,\n",
    "                    \"z\": c.z,\n",
    "                    \"interaction\": interaction_label,\n",
    "                }\n",
    "            ]\n",
    "        )\n",
    "        model.setStyle(\n",
    "            {\"interaction\": interaction_label}, {\"clicksphere\": {\"radius\": 0.5}}\n",
    "        )\n",
    "        model.setHoverable(\n",
    "            {\"interaction\": interaction_label}, True, hover_func, unhover_func\n",
    "        )\n",
    "\n",
    "# show protein\n",
    "mol = Chem.RemoveAllHs(pmol)\n",
    "pdb = Chem.MolToPDBBlock(mol, flavor=0x20 | 0x10)\n",
    "v.addModel(pdb, \"pdb\")\n",
    "model = v.getModel()\n",
    "model.setStyle({}, {\"cartoon\": {\"style\": \"edged\"}})\n",
    "\n",
    "v.zoomTo({\"model\": list(models.values())})"
   ]
  },
  {
   "cell_type": "code",
   "execution_count": null,
   "metadata": {},
   "outputs": [],
   "source": [
    "import py3Dmol\n",
    "from rdkit.Geometry import Point3D\n",
    "\n",
    "\n",
    "# load topology\n",
    "u = mda.Universe(plf.datafiles.TOP, plf.datafiles.TRAJ)\n",
    "lig = u.select_atoms(\"resname LIG\")\n",
    "# restrict protein to 10 angstroms around the ligand\n",
    "prot = u.select_atoms(\"protein and byres around 10 group ligand\", ligand=lig)\n",
    "\n",
    "u = mda.Universe(plf.datafiles.TOP, plf.datafiles.TRAJ)\n",
    "\n",
    "def get_ring_centroid(mol, indices):\n",
    "    centroid = mol.xyz[list(indices)].mean(axis=0)\n",
    "    return Point3D(*centroid)\n",
    "\n",
    "Cpd_Name='A108_B369'\n",
    "DockingSDF='DockingOutput-4I9I_'+Cpd_Name+'.sdf'\n",
    "\n",
    "# load fixed protein\n",
    "prot = mda.Universe(str(pdbID)+'_clean_H_fix.pdb')\n",
    "prot = plf.Molecule.from_mda(prot)\n",
    "prot.n_residues\n",
    "\n",
    "# load ligands\n",
    "SDF_suppl = list(plf.sdf_supplier(DockingResult))[0]\n",
    "\n",
    "# generate fingerprint\n",
    "lig_fp = plf.Fingerprint([\"HBDonor\", \"HBAcceptor\", \"PiStacking\"])\n",
    "#lig_fp.run_from_iterable(SDF_suppl, prot)\n",
    "\n",
    "\n",
    "\n",
    "lig_fp = plf.Fingerprint()\n",
    "lig_fp.run(u.trajectory[0:1], SDF_suppl, prot)\n",
    "\n",
    "colors = {\n",
    "    \"Hydrophobic\": \"green\",\n",
    "    \"HBAcceptor\": \"cyan\",\n",
    "    \"HBDonor\": \"cyan\",\n",
    "    \"XBDonor\": \"orange\",\n",
    "    \"XBAcceptor\": \"orange\",\n",
    "    \"Cationic\": \"red\",\n",
    "    \"Anionic\": \"blue\",\n",
    "    \"PiStacking\": \"purple\",\n",
    "}\n",
    "frame_number = 0\n",
    "\n",
    "# JavaScript functions\n",
    "resid_hover = \"\"\"function(atom,viewer) {{\n",
    "    if(!atom.label) {{\n",
    "        atom.label = viewer.addLabel('{0}:'+atom.atom+atom.serial,\n",
    "            {{position: atom, backgroundColor: 'mintcream', fontColor:'black'}});\n",
    "    }}\n",
    "}}\"\"\"\n",
    "hover_func = \"\"\"\n",
    "function(atom,viewer) {\n",
    "    if(!atom.label) {\n",
    "        atom.label = viewer.addLabel(atom.interaction,\n",
    "            {position: atom, backgroundColor: 'black', fontColor:'white'});\n",
    "    }\n",
    "}\"\"\"\n",
    "unhover_func = \"\"\"\n",
    "function(atom,viewer) {\n",
    "    if(atom.label) {\n",
    "        viewer.removeLabel(atom.label);\n",
    "        delete atom.label;\n",
    "    }\n",
    "}\"\"\"\n",
    "\n",
    "v = py3Dmol.view(650, 600)\n",
    "v.removeAllModels()\n",
    "\n",
    "ifp = lig_fp.ifp[frame_number]\n",
    "u.trajectory[frame_number]\n",
    "lmol = plf.Molecule.from_mda(SDF_suppl)\n",
    "pmol = plf.Molecule.from_mda(prot)\n",
    "\n",
    "models = {}\n",
    "mid = -1\n",
    "for (lresid, presid), interactions in ifp.items():\n",
    "    lres = lmol[lresid]\n",
    "    pres = pmol[presid]\n",
    "    # set model ids for reusing later\n",
    "    for resid, res, style in [\n",
    "        (lresid, lres, {\"colorscheme\": \"cyanCarbon\"}),\n",
    "        (presid, pres, {}),\n",
    "    ]:\n",
    "        if resid not in models.keys():\n",
    "            mid += 1\n",
    "            v.addModel(Chem.MolToMolBlock(res), \"sdf\")\n",
    "            model = v.getModel()\n",
    "            model.setStyle({}, {\"stick\": style})\n",
    "            # add residue label\n",
    "            model.setHoverable({}, True, resid_hover.format(resid), unhover_func)\n",
    "            models[resid] = mid\n",
    "    for interaction, metadata_tuple in interactions.items():\n",
    "        # get interacting atoms with the shortest distance\n",
    "        metadata = min(metadata_tuple, key=lambda m: m.get(\"distance\", float(\"nan\")))\n",
    "        # get coordinates for both points of the interaction\n",
    "        if interaction in [\"PiStacking\", \"EdgeToFace\", \"FaceToFace\", \"PiCation\"]:\n",
    "            p1 = get_ring_centroid(lres, metadata[\"indices\"][\"ligand\"])\n",
    "        else:\n",
    "            p1 = lres.GetConformer().GetAtomPosition(metadata[\"indices\"][\"ligand\"][0])\n",
    "        if interaction in [\"PiStacking\", \"EdgeToFace\", \"FaceToFace\", \"CationPi\"]:\n",
    "            p2 = get_ring_centroid(pres, metadata[\"indices\"][\"protein\"])\n",
    "        else:\n",
    "            p2 = pres.GetConformer().GetAtomPosition(metadata[\"indices\"][\"protein\"][0])\n",
    "        # add interaction line\n",
    "        v.addCylinder(\n",
    "            {\n",
    "                \"start\": dict(x=p1.x, y=p1.y, z=p1.z),\n",
    "                \"end\": dict(x=p2.x, y=p2.y, z=p2.z),\n",
    "                \"color\": colors.get(interaction, \"grey\"),\n",
    "                \"radius\": 0.15,\n",
    "                \"dashed\": True,\n",
    "                \"fromCap\": 1,\n",
    "                \"toCap\": 1,\n",
    "            }\n",
    "        )\n",
    "        # add label when hovering the middle of the dashed line by adding a dummy atom\n",
    "        c = Point3D(*plf.utils.get_centroid([p1, p2]))\n",
    "        modelID = models[lresid]\n",
    "        model = v.getModel(modelID)\n",
    "        interaction_label = f\"{interaction}: {metadata['distance']:.2f}Å\"\n",
    "        model.addAtoms(\n",
    "            [\n",
    "                {\n",
    "                    \"elem\": \"Z\",\n",
    "                    \"x\": c.x,\n",
    "                    \"y\": c.y,\n",
    "                    \"z\": c.z,\n",
    "                    \"interaction\": interaction_label,\n",
    "                }\n",
    "            ]\n",
    "        )\n",
    "        model.setStyle(\n",
    "            {\"interaction\": interaction_label}, {\"clicksphere\": {\"radius\": 0.5}}\n",
    "        )\n",
    "        model.setHoverable(\n",
    "            {\"interaction\": interaction_label}, True, hover_func, unhover_func\n",
    "        )\n",
    "\n",
    "# show protein\n",
    "mol = Chem.RemoveAllHs(pmol)\n",
    "pdb = Chem.MolToPDBBlock(mol, flavor=0x20 | 0x10)\n",
    "v.addModel(pdb, \"pdb\")\n",
    "model = v.getModel()\n",
    "model.setStyle({}, {\"cartoon\": {\"style\": \"edged\"}})\n",
    "\n",
    "v.zoomTo({\"model\": list(models.values())})"
   ]
  },
  {
   "cell_type": "code",
   "execution_count": null,
   "metadata": {},
   "outputs": [],
   "source": [
    "list(plf.sdf_supplier(DockingResult))[0]"
   ]
  },
  {
   "cell_type": "code",
   "execution_count": null,
   "metadata": {},
   "outputs": [],
   "source": [
    "node_colors={ligand:#ed978c}\n",
    "\n",
    "net = Network(width='1000px',height='1000px')\n",
    "net.add_nodes(nodes)\n",
    "\n",
    "\n",
    "for edge in edges:\n",
    "    net.add_edge(edge[0],edge[1], value=weights[edge])\n",
    "net.show_buttons(filter_=['physics', 'nodes', 'edges', 'layout'])\n",
    "net.write_html('big_test_graph.html')"
   ]
  },
  {
   "cell_type": "code",
   "execution_count": null,
   "metadata": {},
   "outputs": [],
   "source": [
    "\n",
    "\n",
    "\n",
    "\n",
    "net = Network(width='1000px',height='1000px')\n",
    "\n",
    "for node in nodes:\n",
    "    if node in Cpd_List:\n",
    "        net.add_node(node, color='#ed978c')\n",
    "    else:\n",
    "        net.add_node(node, color='#8cc8ed')\n",
    "\n",
    "for edge in edges:\n",
    "    net.add_edge(edge[0],edge[1], value=weights[edge], color=edge_colors[edge])\n",
    "net.show_buttons(filter_=['physics'])\n",
    "net.write_html('big_test_graph.html')"
   ]
  },
  {
   "cell_type": "code",
   "execution_count": null,
   "metadata": {},
   "outputs": [],
   "source": [
    "node_colors=[]\n",
    "for node in nodes:\n",
    "    if node in Cpd_List:\n",
    "        node_colors.append('#ed978c')\n",
    "    else:\n",
    "        node_colors.append('#8cc8ed')\n",
    "\n",
    "\n",
    "\n",
    "net = Network(width='1000px',height='1000px')\n",
    "#net.add_nodes(nodes)\n",
    "for node in nodes:\n",
    "    if node in Cpd_List:\n",
    "        net.add_node(node, color='#ed978c')\n",
    "    else:\n",
    "        net.add_node(node, color='#8cc8ed')\n",
    "\n",
    "\n",
    "for edge in edges:\n",
    "    net.add_edge(edge[0],edge[1], value=weights[edge])\n",
    "net.show_buttons(filter_=['physics', 'nodes', 'edges', 'layout'])\n",
    "net.write_html('big_test_graph.html')"
   ]
  },
  {
   "cell_type": "code",
   "execution_count": null,
   "metadata": {},
   "outputs": [],
   "source": [
    "edge=edges[0]\n",
    "edgeA=(edge[0],edge[1])\n",
    "print(weights)\n",
    "print(weights[edge])\n",
    "print(weights[edgeA])\n"
   ]
  },
  {
   "cell_type": "code",
   "execution_count": null,
   "metadata": {},
   "outputs": [],
   "source": [
    "row1dict=extractFP_row(data_df, 0)\n",
    "\n",
    "row1dict['ligand'][0]=['poop']*len(row1dict['ligand'][0])\n",
    "\n",
    "for key, value in row1dict.items():\n",
    "  print(key + \": \" + str(value))\n",
    "  print(len(value[0]))"
   ]
  },
  {
   "cell_type": "code",
   "execution_count": null,
   "metadata": {},
   "outputs": [],
   "source": [
    "list(data_df.index)"
   ]
  },
  {
   "cell_type": "code",
   "execution_count": null,
   "metadata": {},
   "outputs": [],
   "source": [
    "row2dict=extractFP_row(data_df, 1)\n",
    "row3dict=extractFP_row(data_df, 2)\n",
    "row4dict=extractFP_row(data_df, 3)\n",
    "row5dict=extractFP_row(data_df, 4)\n",
    "\n",
    "\n",
    "\n",
    "edges=[]\n",
    "nodes=[]\n",
    "weights={}\n",
    "\n",
    "edges, nodes, weights=build_lists(row1dict, edges, nodes, weights)\n",
    "print(edges)\n",
    "print(weights)\n"
   ]
  },
  {
   "cell_type": "code",
   "execution_count": null,
   "metadata": {},
   "outputs": [],
   "source": [
    "row2dict=extractFP_row(data_df, 1)\n",
    "row3dict=extractFP_row(data_df, 2)\n",
    "row4dict=extractFP_row(data_df, 3)\n",
    "row5dict=extractFP_row(data_df, 4)\n",
    "\n",
    "\n",
    "\n",
    "edges=[]\n",
    "nodes=[]\n",
    "weights={}\n",
    "\n",
    "edges, nodes, weights=build_lists(row1dict, edges, nodes, weights)\n",
    "edges, nodes, weights=build_lists(row2dict, edges, nodes, weights)\n",
    "edges, nodes, weights=build_lists(row3dict, edges, nodes, weights)\n",
    "edges, nodes, weights=build_lists(row4dict, edges, nodes, weights)\n",
    "edges, nodes, weights=build_lists(row5dict, edges, nodes, weights)\n",
    "print(edges)\n",
    "print(weights)\n"
   ]
  },
  {
   "cell_type": "code",
   "execution_count": null,
   "metadata": {},
   "outputs": [],
   "source": [
    "def aggregate_ligand_data(ligand_list):\n",
    "        for ligand in ligand_list:\n",
    "                "
   ]
  },
  {
   "cell_type": "code",
   "execution_count": null,
   "metadata": {},
   "outputs": [],
   "source": [
    "from pyvis.network import Network\n",
    "net = Network(width='2000px',height='2000px')\n",
    "net.add_nodes(nodes)\n",
    "\n",
    "for edge in edges:\n",
    "    net.add_edge(edge[0],edge[1], weight=weights[edge])\n",
    "net.write_html('test_graph.html')\n",
    "#net.show(Project_Folder+'test_graph.html')"
   ]
  },
  {
   "cell_type": "code",
   "execution_count": null,
   "metadata": {},
   "outputs": [],
   "source": [
    "#example of extracting the value from row zero with the following multi-indexed values\n",
    "data_df.loc[0,('UNL1', 'HIS1184.A', 'Hydrophobic')]"
   ]
  },
  {
   "cell_type": "code",
   "execution_count": null,
   "metadata": {},
   "outputs": [],
   "source": [
    "#os.chdir(\"../../\")\n",
    "\n",
    "data = data_df.groupby(level=[\"ligand\", \"protein\"], axis=1).sum().astype(bool).mean()\n",
    "\n",
    "G = make_graph(data, data_df, width_multiplier=3)\n",
    "\n",
    "# display graph\n",
    "pynet = pnet.Network(width=800, height=800, notebook=True, heading=\"\",cdn_resources='in_line')\n",
    "pynet.from_nx(G)\n",
    "pynet.write_html(\"lig-prot_graph.html\")\n",
    "pynet.show(Project_Folder+'lig-prot_graph.html')\n"
   ]
  }
 ],
 "metadata": {
  "kernelspec": {
   "display_name": "Jupyter_Dock",
   "language": "python",
   "name": "python3"
  },
  "language_info": {
   "codemirror_mode": {
    "name": "ipython",
    "version": 3
   },
   "file_extension": ".py",
   "mimetype": "text/x-python",
   "name": "python",
   "nbconvert_exporter": "python",
   "pygments_lexer": "ipython3",
   "version": "3.8.16"
  },
  "orig_nbformat": 4
 },
 "nbformat": 4,
 "nbformat_minor": 2
}
