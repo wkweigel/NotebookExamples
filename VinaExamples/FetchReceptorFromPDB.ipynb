{
 "cells": [
  {
   "cell_type": "code",
   "execution_count": 1,
   "metadata": {},
   "outputs": [
    {
     "name": "stderr",
     "output_type": "stream",
     "text": [
      "RDKit WARNING: [23:13:58] Enabling RDKit 2019.09.3 jupyter extensions\n",
      "[23:13:58] Enabling RDKit 2019.09.3 jupyter extensions\n"
     ]
    }
   ],
   "source": [
    "from pymol import cmd\n",
    "import py3Dmol\n",
    "import pandas as pd\n",
    "import random\n",
    "from openbabel import pybel\n",
    "import networkx as nx\n",
    "#from pyvis import network as pnet\n",
    "from matplotlib import cm, colors\n",
    "from matplotlib import pyplot as plt\n",
    "from IPython.display import IFrame\n",
    "import math\n",
    "import numpy as np\n",
    "\n",
    "from rdkit import Chem\n",
    "from rdkit.Chem import AllChem, Draw\n",
    "\n",
    "import sys, os, random\n",
    "sys.path.insert(1, 'utilities/')\n",
    "\n",
    "import MDAnalysis as mda\n",
    "from MDAnalysis.coordinates import PDB\n",
    "\n",
    "import py3Dmol\n",
    "from rdkit.Geometry import Point3D\n",
    "from MDAnalysis import Merge\n",
    "\n",
    "import prolif as plf\n",
    "#from prolif_old.plotting.network import LigNetwork\n",
    "\n",
    "from utils import getbox, generate_ledock_file, dok_to_sdf,fix_protein\n",
    "\n",
    "import warnings\n",
    "warnings.filterwarnings(\"ignore\")\n",
    "\n",
    "%config Completer.use_jedi = False\n",
    "\n"
   ]
  },
  {
   "cell_type": "markdown",
   "metadata": {},
   "source": [
    "Specify Inputs"
   ]
  },
  {
   "cell_type": "code",
   "execution_count": 2,
   "metadata": {},
   "outputs": [],
   "source": [
    "#The relative working folder path to use\n",
    "Receptor_Folder='Olaparib/PARP2/' \n",
    "\n",
    "#The PDB ID to fetch and prepare\n",
    "pdbID='4TVJ' \n"
   ]
  },
  {
   "cell_type": "markdown",
   "metadata": {},
   "source": [
    "Fetch and prepare protien from the PDB (skip if files already exist in the project folder)"
   ]
  },
  {
   "cell_type": "markdown",
   "metadata": {},
   "source": [
    "Give permissions: chmod u+x bin/lepro_linux_x86"
   ]
  },
  {
   "cell_type": "code",
   "execution_count": 3,
   "metadata": {},
   "outputs": [
    {
     "name": "stdout",
     "output_type": "stream",
     "text": [
      " PyMOL not running, entering library mode (experimental)\n"
     ]
    }
   ],
   "source": [
    "#Change the directory\n",
    "os.chdir(Receptor_Folder)\n",
    "\n",
    "#Fetch protien and native ligand from the pdb \n",
    "cmd.fetch(code=pdbID,type='pdb1')\n",
    "cmd.select(name='Prot',selection='polymer.protein')\n",
    "cmd.select(name='NativeLigand',selection='organic')\n",
    "cmd.save(filename=str(pdbID)+'_clean.pdb',format='pdb',selection='Prot')\n",
    "cmd.save(filename=str(pdbID)+'_NativeLigand.mol2',format='mol2',selection='NativeLigand')\n",
    "cmd.delete('all')\n",
    "\n",
    "#Create cleaned receptor file using lepro\n",
    "lepro_input=str(pdbID)+'_clean.pdb'\n",
    "!../../bin/lepro_linux_x86 {lepro_input}\n",
    "os.rename('pro.pdb',str(pdbID)+'_clean_H.pdb') "
   ]
  },
  {
   "cell_type": "markdown",
   "metadata": {},
   "source": [
    "Process from protien and ligand using existing files"
   ]
  },
  {
   "cell_type": "code",
   "execution_count": 3,
   "metadata": {},
   "outputs": [
    {
     "name": "stdout",
     "output_type": "stream",
     "text": [
      " PyMOL not running, entering library mode (experimental)\n"
     ]
    }
   ],
   "source": [
    "#Change the directory\n",
    "os.chdir(Receptor_Folder)\n",
    "\n",
    "protien_file=\"4TVJ_clean.pdb\"\n",
    "native_ligand_file=\"4TVJ_ligand.pdb\"\n",
    "#Fetch protien and native ligand from the pdb \n",
    "cmd.load(protien_file)\n",
    "cmd.load(native_ligand_file)\n",
    "cmd.select(name='Prot',selection='polymer.protein')\n",
    "cmd.select(name='NativeLigand',selection='organic')\n",
    "cmd.save(filename=str(pdbID)+'_clean_lepro.pdb',format='pdb',selection='Prot')\n",
    "cmd.save(filename=str(pdbID)+'_NativeLigand.mol2',format='mol2',selection='NativeLigand')\n",
    "cmd.delete('all')\n",
    "\n",
    "#Create cleaned receptor file using lepro\n",
    "lepro_input=str(pdbID)+'_clean_lepro.pdb'\n",
    "!../../bin/lepro_linux_x86 {lepro_input}\n",
    "os.rename('pro.pdb',str(pdbID)+'_clean_H.pdb') "
   ]
  },
  {
   "cell_type": "markdown",
   "metadata": {},
   "source": [
    "Calculate gridbox coords based on the specified ligand"
   ]
  },
  {
   "cell_type": "code",
   "execution_count": 4,
   "metadata": {},
   "outputs": [
    {
     "name": "stdout",
     "output_type": "stream",
     "text": [
      "Center: {'center_x': 18.833499908447266, 'center_y': -2.2054998874664307, 'center_z': 17.501500129699707}\n",
      "Size: {'size_x': 17.152999877929688, 'size_y': 20.658999919891357, 'size_z': 19.641000747680664}\n"
     ]
    }
   ],
   "source": [
    "cmd.load(filename=str(pdbID)+'_clean_H.pdb',format='pdb',object='prot') #Not needed but as reference of the system\n",
    "cmd.load(filename=str(pdbID)+'_NativeLigand.mol2',format='mol2',object='lig')\n",
    "center,size=getbox(selection='lig',extending=5.0,software='vina')\n",
    "cmd.delete('all')\n",
    "\n",
    "print('Center:', center)\n",
    "print('Size:', size)"
   ]
  }
 ],
 "metadata": {
  "kernelspec": {
   "display_name": "Jupyter_Dock",
   "language": "python",
   "name": "python3"
  },
  "language_info": {
   "codemirror_mode": {
    "name": "ipython",
    "version": 3
   },
   "file_extension": ".py",
   "mimetype": "text/x-python",
   "name": "python",
   "nbconvert_exporter": "python",
   "pygments_lexer": "ipython3",
   "version": "3.8.16"
  },
  "orig_nbformat": 4
 },
 "nbformat": 4,
 "nbformat_minor": 2
}
