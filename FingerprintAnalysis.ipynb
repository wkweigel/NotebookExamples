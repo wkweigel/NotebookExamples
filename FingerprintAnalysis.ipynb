{
  "cells": [
    {
      "cell_type": "markdown",
      "metadata": {
        "id": "view-in-github",
        "colab_type": "text"
      },
      "source": [
        "<a href=\"https://colab.research.google.com/github/wkweigel/NotebookExamples/blob/main/FingerprintAnalysis.ipynb\" target=\"_parent\"><img src=\"https://colab.research.google.com/assets/colab-badge.svg\" alt=\"Open In Colab\"/></a>"
      ]
    },
    {
      "cell_type": "markdown",
      "source": [
        "# Notebook Setup"
      ],
      "metadata": {
        "id": "dFdIqTSvUbhc"
      }
    },
    {
      "cell_type": "code",
      "source": [
        "!pip install rdkit\n",
        "\n",
        "import sys\n",
        "\n",
        "#Clone main repository into colab\n",
        "!git clone https://github.com/wkweigel/NotebookExamples.git\n",
        "\n",
        "#Add the main directory to the path\n",
        "main_dir = '/content/NotebookExamples'\n",
        "sys.path.insert(0,f'{main_dir}/')\n",
        "\n"
      ],
      "metadata": {
        "colab": {
          "base_uri": "https://localhost:8080/"
        },
        "id": "n9IxScJBQHqN",
        "outputId": "9185a9b2-9656-421b-accc-0e8806b941ec"
      },
      "execution_count": 1,
      "outputs": [
        {
          "output_type": "stream",
          "name": "stdout",
          "text": [
            "Collecting rdkit\n",
            "  Downloading rdkit-2024.3.6-cp310-cp310-manylinux_2_28_x86_64.whl.metadata (4.0 kB)\n",
            "Requirement already satisfied: numpy in /usr/local/lib/python3.10/dist-packages (from rdkit) (1.26.4)\n",
            "Requirement already satisfied: Pillow in /usr/local/lib/python3.10/dist-packages (from rdkit) (11.0.0)\n",
            "Downloading rdkit-2024.3.6-cp310-cp310-manylinux_2_28_x86_64.whl (32.8 MB)\n",
            "\u001b[2K   \u001b[90m━━━━━━━━━━━━━━━━━━━━━━━━━━━━━━━━━━━━━━━━\u001b[0m \u001b[32m32.8/32.8 MB\u001b[0m \u001b[31m13.3 MB/s\u001b[0m eta \u001b[36m0:00:00\u001b[0m\n",
            "\u001b[?25hInstalling collected packages: rdkit\n",
            "Successfully installed rdkit-2024.3.6\n",
            "Cloning into 'NotebookExamples'...\n",
            "remote: Enumerating objects: 274, done.\u001b[K\n",
            "remote: Counting objects: 100% (158/158), done.\u001b[K\n",
            "remote: Compressing objects: 100% (79/79), done.\u001b[K\n",
            "remote: Total 274 (delta 87), reused 135 (delta 77), pack-reused 116 (from 1)\u001b[K\n",
            "Receiving objects: 100% (274/274), 16.75 MiB | 9.55 MiB/s, done.\n",
            "Resolving deltas: 100% (140/140), done.\n"
          ]
        }
      ]
    },
    {
      "cell_type": "markdown",
      "source": [
        "# Library Imports"
      ],
      "metadata": {
        "id": "9FTJLajOUh5m"
      }
    },
    {
      "cell_type": "code",
      "source": [
        "from Modules.FingerprintAnalysisTools import*\n",
        "import pandas as pd\n",
        "from rdkit.Chem import  PandasTools\n",
        "from itertools import combinations\n",
        "from rdkit import rdBase\n",
        "blocker = rdBase.BlockLogs()"
      ],
      "metadata": {
        "id": "32WYcfVJRG8s"
      },
      "execution_count": 13,
      "outputs": []
    },
    {
      "cell_type": "markdown",
      "source": [
        "# Load Data\n",
        " * This data comes from a combinatorial library made from two building block pools.\n",
        " * The subset of data we will use share a common building block (A045 in this case)."
      ],
      "metadata": {
        "id": "JEtWOFQBUprH"
      }
    },
    {
      "cell_type": "code",
      "execution_count": 7,
      "metadata": {
        "colab": {
          "base_uri": "https://localhost:8080/",
          "height": 206
        },
        "id": "7H8B3S1AP7xc",
        "outputId": "e843370b-dadc-4663-fb8b-212311c30583"
      },
      "outputs": [
        {
          "output_type": "execute_result",
          "data": {
            "text/plain": [
              "     Unnamed: 0         id                                             smiles\n",
              "123        8908  A025_B053  CNC([C@H](CNC(Cn1ncc(S(N)(=O)=O)c1)=O)NC(CCc(c...\n",
              "243        8969  A025_B114  CNC([C@H](CNC(Cn1ncc(S(N)(=O)=O)c1)=O)NC(COc(c...\n",
              "334        8905  A025_B050  CNC([C@H](CNC(Cn1ncc(S(N)(=O)=O)c1)=O)NC(Cc(cc...\n",
              "480        9130  A025_B275  CNC([C@H](CNC(Cn1ncc(S(N)(=O)=O)c1)=O)NC(c(cc1...\n",
              "486        9150  A025_B295  CNC([C@H](CNC(Cn1ncc(S(N)(=O)=O)c1)=O)NC(c1ncc..."
            ],
            "text/html": [
              "\n",
              "  <div id=\"df-5b2d7e4d-cf0f-489a-9f3f-6a158434700b\" class=\"colab-df-container\">\n",
              "    <div>\n",
              "<style scoped>\n",
              "    .dataframe tbody tr th:only-of-type {\n",
              "        vertical-align: middle;\n",
              "    }\n",
              "\n",
              "    .dataframe tbody tr th {\n",
              "        vertical-align: top;\n",
              "    }\n",
              "\n",
              "    .dataframe thead th {\n",
              "        text-align: right;\n",
              "    }\n",
              "</style>\n",
              "<table border=\"1\" class=\"dataframe\">\n",
              "  <thead>\n",
              "    <tr style=\"text-align: right;\">\n",
              "      <th></th>\n",
              "      <th>Unnamed: 0</th>\n",
              "      <th>id</th>\n",
              "      <th>smiles</th>\n",
              "    </tr>\n",
              "  </thead>\n",
              "  <tbody>\n",
              "    <tr>\n",
              "      <th>123</th>\n",
              "      <td>8908</td>\n",
              "      <td>A025_B053</td>\n",
              "      <td>CNC([C@H](CNC(Cn1ncc(S(N)(=O)=O)c1)=O)NC(CCc(c...</td>\n",
              "    </tr>\n",
              "    <tr>\n",
              "      <th>243</th>\n",
              "      <td>8969</td>\n",
              "      <td>A025_B114</td>\n",
              "      <td>CNC([C@H](CNC(Cn1ncc(S(N)(=O)=O)c1)=O)NC(COc(c...</td>\n",
              "    </tr>\n",
              "    <tr>\n",
              "      <th>334</th>\n",
              "      <td>8905</td>\n",
              "      <td>A025_B050</td>\n",
              "      <td>CNC([C@H](CNC(Cn1ncc(S(N)(=O)=O)c1)=O)NC(Cc(cc...</td>\n",
              "    </tr>\n",
              "    <tr>\n",
              "      <th>480</th>\n",
              "      <td>9130</td>\n",
              "      <td>A025_B275</td>\n",
              "      <td>CNC([C@H](CNC(Cn1ncc(S(N)(=O)=O)c1)=O)NC(c(cc1...</td>\n",
              "    </tr>\n",
              "    <tr>\n",
              "      <th>486</th>\n",
              "      <td>9150</td>\n",
              "      <td>A025_B295</td>\n",
              "      <td>CNC([C@H](CNC(Cn1ncc(S(N)(=O)=O)c1)=O)NC(c1ncc...</td>\n",
              "    </tr>\n",
              "  </tbody>\n",
              "</table>\n",
              "</div>\n",
              "    <div class=\"colab-df-buttons\">\n",
              "\n",
              "  <div class=\"colab-df-container\">\n",
              "    <button class=\"colab-df-convert\" onclick=\"convertToInteractive('df-5b2d7e4d-cf0f-489a-9f3f-6a158434700b')\"\n",
              "            title=\"Convert this dataframe to an interactive table.\"\n",
              "            style=\"display:none;\">\n",
              "\n",
              "  <svg xmlns=\"http://www.w3.org/2000/svg\" height=\"24px\" viewBox=\"0 -960 960 960\">\n",
              "    <path d=\"M120-120v-720h720v720H120Zm60-500h600v-160H180v160Zm220 220h160v-160H400v160Zm0 220h160v-160H400v160ZM180-400h160v-160H180v160Zm440 0h160v-160H620v160ZM180-180h160v-160H180v160Zm440 0h160v-160H620v160Z\"/>\n",
              "  </svg>\n",
              "    </button>\n",
              "\n",
              "  <style>\n",
              "    .colab-df-container {\n",
              "      display:flex;\n",
              "      gap: 12px;\n",
              "    }\n",
              "\n",
              "    .colab-df-convert {\n",
              "      background-color: #E8F0FE;\n",
              "      border: none;\n",
              "      border-radius: 50%;\n",
              "      cursor: pointer;\n",
              "      display: none;\n",
              "      fill: #1967D2;\n",
              "      height: 32px;\n",
              "      padding: 0 0 0 0;\n",
              "      width: 32px;\n",
              "    }\n",
              "\n",
              "    .colab-df-convert:hover {\n",
              "      background-color: #E2EBFA;\n",
              "      box-shadow: 0px 1px 2px rgba(60, 64, 67, 0.3), 0px 1px 3px 1px rgba(60, 64, 67, 0.15);\n",
              "      fill: #174EA6;\n",
              "    }\n",
              "\n",
              "    .colab-df-buttons div {\n",
              "      margin-bottom: 4px;\n",
              "    }\n",
              "\n",
              "    [theme=dark] .colab-df-convert {\n",
              "      background-color: #3B4455;\n",
              "      fill: #D2E3FC;\n",
              "    }\n",
              "\n",
              "    [theme=dark] .colab-df-convert:hover {\n",
              "      background-color: #434B5C;\n",
              "      box-shadow: 0px 1px 3px 1px rgba(0, 0, 0, 0.15);\n",
              "      filter: drop-shadow(0px 1px 2px rgba(0, 0, 0, 0.3));\n",
              "      fill: #FFFFFF;\n",
              "    }\n",
              "  </style>\n",
              "\n",
              "    <script>\n",
              "      const buttonEl =\n",
              "        document.querySelector('#df-5b2d7e4d-cf0f-489a-9f3f-6a158434700b button.colab-df-convert');\n",
              "      buttonEl.style.display =\n",
              "        google.colab.kernel.accessAllowed ? 'block' : 'none';\n",
              "\n",
              "      async function convertToInteractive(key) {\n",
              "        const element = document.querySelector('#df-5b2d7e4d-cf0f-489a-9f3f-6a158434700b');\n",
              "        const dataTable =\n",
              "          await google.colab.kernel.invokeFunction('convertToInteractive',\n",
              "                                                    [key], {});\n",
              "        if (!dataTable) return;\n",
              "\n",
              "        const docLinkHtml = 'Like what you see? Visit the ' +\n",
              "          '<a target=\"_blank\" href=https://colab.research.google.com/notebooks/data_table.ipynb>data table notebook</a>'\n",
              "          + ' to learn more about interactive tables.';\n",
              "        element.innerHTML = '';\n",
              "        dataTable['output_type'] = 'display_data';\n",
              "        await google.colab.output.renderOutput(dataTable, element);\n",
              "        const docLink = document.createElement('div');\n",
              "        docLink.innerHTML = docLinkHtml;\n",
              "        element.appendChild(docLink);\n",
              "      }\n",
              "    </script>\n",
              "  </div>\n",
              "\n",
              "\n",
              "<div id=\"df-5b3932cb-ffe6-4d59-8fba-eb87f662fad7\">\n",
              "  <button class=\"colab-df-quickchart\" onclick=\"quickchart('df-5b3932cb-ffe6-4d59-8fba-eb87f662fad7')\"\n",
              "            title=\"Suggest charts\"\n",
              "            style=\"display:none;\">\n",
              "\n",
              "<svg xmlns=\"http://www.w3.org/2000/svg\" height=\"24px\"viewBox=\"0 0 24 24\"\n",
              "     width=\"24px\">\n",
              "    <g>\n",
              "        <path d=\"M19 3H5c-1.1 0-2 .9-2 2v14c0 1.1.9 2 2 2h14c1.1 0 2-.9 2-2V5c0-1.1-.9-2-2-2zM9 17H7v-7h2v7zm4 0h-2V7h2v10zm4 0h-2v-4h2v4z\"/>\n",
              "    </g>\n",
              "</svg>\n",
              "  </button>\n",
              "\n",
              "<style>\n",
              "  .colab-df-quickchart {\n",
              "      --bg-color: #E8F0FE;\n",
              "      --fill-color: #1967D2;\n",
              "      --hover-bg-color: #E2EBFA;\n",
              "      --hover-fill-color: #174EA6;\n",
              "      --disabled-fill-color: #AAA;\n",
              "      --disabled-bg-color: #DDD;\n",
              "  }\n",
              "\n",
              "  [theme=dark] .colab-df-quickchart {\n",
              "      --bg-color: #3B4455;\n",
              "      --fill-color: #D2E3FC;\n",
              "      --hover-bg-color: #434B5C;\n",
              "      --hover-fill-color: #FFFFFF;\n",
              "      --disabled-bg-color: #3B4455;\n",
              "      --disabled-fill-color: #666;\n",
              "  }\n",
              "\n",
              "  .colab-df-quickchart {\n",
              "    background-color: var(--bg-color);\n",
              "    border: none;\n",
              "    border-radius: 50%;\n",
              "    cursor: pointer;\n",
              "    display: none;\n",
              "    fill: var(--fill-color);\n",
              "    height: 32px;\n",
              "    padding: 0;\n",
              "    width: 32px;\n",
              "  }\n",
              "\n",
              "  .colab-df-quickchart:hover {\n",
              "    background-color: var(--hover-bg-color);\n",
              "    box-shadow: 0 1px 2px rgba(60, 64, 67, 0.3), 0 1px 3px 1px rgba(60, 64, 67, 0.15);\n",
              "    fill: var(--button-hover-fill-color);\n",
              "  }\n",
              "\n",
              "  .colab-df-quickchart-complete:disabled,\n",
              "  .colab-df-quickchart-complete:disabled:hover {\n",
              "    background-color: var(--disabled-bg-color);\n",
              "    fill: var(--disabled-fill-color);\n",
              "    box-shadow: none;\n",
              "  }\n",
              "\n",
              "  .colab-df-spinner {\n",
              "    border: 2px solid var(--fill-color);\n",
              "    border-color: transparent;\n",
              "    border-bottom-color: var(--fill-color);\n",
              "    animation:\n",
              "      spin 1s steps(1) infinite;\n",
              "  }\n",
              "\n",
              "  @keyframes spin {\n",
              "    0% {\n",
              "      border-color: transparent;\n",
              "      border-bottom-color: var(--fill-color);\n",
              "      border-left-color: var(--fill-color);\n",
              "    }\n",
              "    20% {\n",
              "      border-color: transparent;\n",
              "      border-left-color: var(--fill-color);\n",
              "      border-top-color: var(--fill-color);\n",
              "    }\n",
              "    30% {\n",
              "      border-color: transparent;\n",
              "      border-left-color: var(--fill-color);\n",
              "      border-top-color: var(--fill-color);\n",
              "      border-right-color: var(--fill-color);\n",
              "    }\n",
              "    40% {\n",
              "      border-color: transparent;\n",
              "      border-right-color: var(--fill-color);\n",
              "      border-top-color: var(--fill-color);\n",
              "    }\n",
              "    60% {\n",
              "      border-color: transparent;\n",
              "      border-right-color: var(--fill-color);\n",
              "    }\n",
              "    80% {\n",
              "      border-color: transparent;\n",
              "      border-right-color: var(--fill-color);\n",
              "      border-bottom-color: var(--fill-color);\n",
              "    }\n",
              "    90% {\n",
              "      border-color: transparent;\n",
              "      border-bottom-color: var(--fill-color);\n",
              "    }\n",
              "  }\n",
              "</style>\n",
              "\n",
              "  <script>\n",
              "    async function quickchart(key) {\n",
              "      const quickchartButtonEl =\n",
              "        document.querySelector('#' + key + ' button');\n",
              "      quickchartButtonEl.disabled = true;  // To prevent multiple clicks.\n",
              "      quickchartButtonEl.classList.add('colab-df-spinner');\n",
              "      try {\n",
              "        const charts = await google.colab.kernel.invokeFunction(\n",
              "            'suggestCharts', [key], {});\n",
              "      } catch (error) {\n",
              "        console.error('Error during call to suggestCharts:', error);\n",
              "      }\n",
              "      quickchartButtonEl.classList.remove('colab-df-spinner');\n",
              "      quickchartButtonEl.classList.add('colab-df-quickchart-complete');\n",
              "    }\n",
              "    (() => {\n",
              "      let quickchartButtonEl =\n",
              "        document.querySelector('#df-5b3932cb-ffe6-4d59-8fba-eb87f662fad7 button');\n",
              "      quickchartButtonEl.style.display =\n",
              "        google.colab.kernel.accessAllowed ? 'block' : 'none';\n",
              "    })();\n",
              "  </script>\n",
              "</div>\n",
              "\n",
              "    </div>\n",
              "  </div>\n"
            ],
            "application/vnd.google.colaboratory.intrinsic+json": {
              "type": "dataframe",
              "variable_name": "bbA_df",
              "summary": "{\n  \"name\": \"bbA_df\",\n  \"rows\": 143,\n  \"fields\": [\n    {\n      \"column\": \"Unnamed: 0\",\n      \"properties\": {\n        \"dtype\": \"number\",\n        \"std\": 109,\n        \"min\": 8858,\n        \"max\": 9224,\n        \"num_unique_values\": 143,\n        \"samples\": [\n          8871,\n          9075,\n          8923\n        ],\n        \"semantic_type\": \"\",\n        \"description\": \"\"\n      }\n    },\n    {\n      \"column\": \"id\",\n      \"properties\": {\n        \"dtype\": \"string\",\n        \"num_unique_values\": 143,\n        \"samples\": [\n          \"A025_B016\",\n          \"A025_B220\",\n          \"A025_B068\"\n        ],\n        \"semantic_type\": \"\",\n        \"description\": \"\"\n      }\n    },\n    {\n      \"column\": \"smiles\",\n      \"properties\": {\n        \"dtype\": \"string\",\n        \"num_unique_values\": 143,\n        \"samples\": [\n          \"CCOCCC(N[C@@H](CNC(Cn1ncc(S(N)(=O)=O)c1)=O)C(NC)=O)=O\",\n          \"CNC([C@H](CNC(Cn1ncc(S(N)(=O)=O)c1)=O)NC(c1cn(ccs2)c2n1)=O)=O\",\n          \"CNC([C@H](CNC(Cn1ncc(S(N)(=O)=O)c1)=O)NC(CC1(CC(C2)C3)CC3CC2C1)=O)=O\"\n        ],\n        \"semantic_type\": \"\",\n        \"description\": \"\"\n      }\n    }\n  ]\n}"
            }
          },
          "metadata": {},
          "execution_count": 7
        }
      ],
      "source": [
        "data_df = pd.read_csv('/content/NotebookExamples/Datasets/Smiles.csv')\n",
        "\n",
        "#Define a boolean mask to get the rows with common BB A\n",
        "bb_mask = data_df.apply(lambda row: row.astype(str).str.contains('A025').any(), axis=1)\n",
        "\n",
        "#Apply the mask\n",
        "bbA_df = data_df[bb_mask]\n",
        "bbA_df.head()"
      ]
    },
    {
      "cell_type": "markdown",
      "source": [
        "# Sample the Data\n",
        "* Take 10 compounds for fingerprint analysis."
      ],
      "metadata": {
        "id": "hgoGKO3g0ATS"
      }
    },
    {
      "cell_type": "code",
      "execution_count": 12,
      "metadata": {
        "colab": {
          "base_uri": "https://localhost:8080/",
          "height": 417
        },
        "id": "eNZBfYfYP7xd",
        "outputId": "84f19893-2ac0-4362-c8e1-036727bd7643"
      },
      "outputs": [
        {
          "output_type": "execute_result",
          "data": {
            "image/png": "[encoded data removed]",
            "text/plain": [
              "<IPython.core.display.Image object>"
            ]
          },
          "metadata": {},
          "execution_count": 12
        }
      ],
      "source": [
        "#Take a small sample for analysis\n",
        "sample_df = bbA_df.sample(10)\n",
        "\n",
        "#Use PandasTools to add mols to the sample_df\n",
        "PandasTools.AddMoleculeColumnToFrame(sample_df, \"smiles\", \"Mols\")\n",
        "\n",
        "# Preview the compounds\n",
        "PandasTools.FrameToGridImage(sample_df, column='Mols', legendsCol=\"id\", molsPerRow=5)"
      ]
    },
    {
      "cell_type": "markdown",
      "source": [
        "# Fingerprint the Data"
      ],
      "metadata": {
        "id": "n5qI1g9t0ukR"
      }
    },
    {
      "cell_type": "code",
      "execution_count": 16,
      "metadata": {
        "id": "Iu6m_UgeP7xd"
      },
      "outputs": [],
      "source": [
        "from rdkit import rdBase\n",
        "blocker = rdBase.BlockLogs() # For silencing depreciation warnings\n",
        "\n",
        "#Define the fp types to test\n",
        "fp_types=['rdkit', 'fMorgan', 'gobbi', 'ecfp', 'torsion', 'avalon', 'atompair']\n",
        "\n",
        "#Create a dictionary of the sampled data\n",
        "testing_dict=dict(zip(sample_df['id'].tolist(), sample_df['smiles'].tolist()))\n",
        "\n",
        "#Create a lists for the test IDs and ID pairs\n",
        "test_IDs=list(testing_dict.keys())\n",
        "test_pairs= list(combinations(test_IDs, 2))\n",
        "\n",
        "#Calculate the fps for each type store as a dataframe\n",
        "fp_df=pd.DataFrame()\n",
        "fp_df['ID']=test_IDs\n",
        "\n",
        "for fp_type in fp_types:\n",
        "    fp_list=[]\n",
        "    for ID in test_IDs:\n",
        "        fp = get_single_FP_from_smiles(testing_dict[ID], fp_type=fp_type, nBits=1024)\n",
        "        fp_str=''.join(str(bit) for bit in fp)\n",
        "        fp_list.append(fp_str)\n",
        "    fp_df[fp_type]=fp_list"
      ]
    },
    {
      "cell_type": "markdown",
      "source": [
        "# Visualize the Fingerprints\n",
        "* Compare diffrent fingerprinting methods using compound pairs.\n",
        ""
      ],
      "metadata": {
        "id": "ocLMDWqg02V2"
      }
    },
    {
      "cell_type": "code",
      "execution_count": 17,
      "metadata": {
        "colab": {
          "base_uri": "https://localhost:8080/",
          "height": 890,
          "referenced_widgets": [
            "cd789781693e4ac9969a577cd40b4dbf",
            "5b340822586f4c0ab6351398dedca2bf",
            "f726d4cf4f8848c9a85101b6d965203e",
            "0dc8fe03f72d438d862c490b843bbb6d",
            "0d487b2a4d064aff903dfb25d789d4fc",
            "376ed2ffcc9349f1b0da021a0bdacd45",
            "1e5cd817918646f1a4bbadf8001d8ea7",
            "050d6b1e10344e1fb4d15141e5b0bbda",
            "26303f90ac6d409faf1c58aa13056b5f",
            "74b148d53dd94aa186b852b07be9e366"
          ]
        },
        "id": "1EXymlSzP7xd",
        "outputId": "cddac80b-9db2-4e3b-b260-b3d9b64f150a"
      },
      "outputs": [
        {
          "output_type": "display_data",
          "data": {
            "text/plain": [
              "interactive(children=(IntSlider(value=0, description='pair_index', max=44), Dropdown(description='fp_type', in…"
            ],
            "application/vnd.jupyter.widget-view+json": {
              "version_major": 2,
              "version_minor": 0,
              "model_id": "cd789781693e4ac9969a577cd40b4dbf"
            }
          },
          "metadata": {}
        }
      ],
      "source": [
        "@interact(pair_index=(0, len(test_pairs)-1, 1), fp_type=fp_types)\n",
        "def show_pair(pair_index=0, fp_type='fMorgan'):\n",
        "    pair = test_pairs[pair_index]\n",
        "    mol1 = Chem.MolFromSmiles(testing_dict[pair[0]])\n",
        "    mol2 = Chem.MolFromSmiles(testing_dict[pair[1]])\n",
        "    id1 = pair[0]\n",
        "    id2 = pair[1]\n",
        "    row_idx1 = fp_df.index[fp_df['ID'] == id1].tolist()[0]\n",
        "    row_idx2 = fp_df.index[fp_df['ID'] == id2].tolist()[0]\n",
        "    legends = [id1, id2]\n",
        "\n",
        "    print('Adjust the pair_index slider with the mouse or select the slider and and use the arrow keys \\n')\n",
        "    print('<<BIT STRING GRIDS>>')\n",
        "\n",
        "    fp1 = fp_df.iloc[row_idx1][fp_type]\n",
        "    fp2 = fp_df.iloc[row_idx2][fp_type]\n",
        "    display_bitstrings(fp1, fp2, id1, id2)\n",
        "\n",
        "    return MolsToGridImage([mol1, mol2], molsPerRow=2, subImgSize=(475, 475), legends=legends)"
      ]
    },
    {
      "cell_type": "markdown",
      "source": [
        "# Similarity Comparison\n",
        " * Compare Tanimoto similarities for the diffrent fingerprints."
      ],
      "metadata": {
        "id": "u6TykE2M1XMg"
      }
    },
    {
      "cell_type": "code",
      "execution_count": 18,
      "metadata": {
        "colab": {
          "base_uri": "https://localhost:8080/",
          "height": 623,
          "referenced_widgets": [
            "c854772914a04b67893f020cdc584fd0",
            "dd0f5b7672fc44e49a5d075986760e44",
            "1aad761b3fd842f88c7f6627e4cf40fb",
            "32c2a832f48b480aae205e792011b465",
            "e55e85b01bb449308264e4ac7cb6cdd8",
            "de84442b4e8248babfa10ef3c23bae64",
            "cffde83da7354dae98056a15b45082da"
          ]
        },
        "id": "s9GSDpYZP7xe",
        "outputId": "47451d5c-68ee-4181-c33a-3304a0a48c3a"
      },
      "outputs": [
        {
          "output_type": "display_data",
          "data": {
            "text/plain": [
              "interactive(children=(IntSlider(value=0, description='pair_index', max=45), Output()), _dom_classes=('widget-i…"
            ],
            "application/vnd.jupyter.widget-view+json": {
              "version_major": 2,
              "version_minor": 0,
              "model_id": "c854772914a04b67893f020cdc584fd0"
            }
          },
          "metadata": {}
        }
      ],
      "source": [
        "from rdkit.Chem import rdFMCS\n",
        "\n",
        "@interact(pair_index=(0,len(test_pairs),1)) #control with a slider\n",
        "def show_pair(pair_index=0):\n",
        "    pair = test_pairs[pair_index]\n",
        "    mol1 = Chem.MolFromSmiles(testing_dict[pair[0]])\n",
        "    mol2 = Chem.MolFromSmiles(testing_dict[pair[1]])\n",
        "    id1 = pair[0]\n",
        "    id2 = pair[1]\n",
        "    row_idx1=fp_df.index[fp_df['ID']==id1].tolist()[0]\n",
        "    row_idx2=fp_df.index[fp_df['ID']==id2].tolist()[0]\n",
        "    legends = [id1, id2]\n",
        "\n",
        "    print('Adjust the pair_index slider with the mouse or select the slider and and use the arrow keys \\n')\n",
        "    print('<<TANIMOTO SCORES>>')\n",
        "    for fp_type in fp_types:\n",
        "        fp1 = DataStructs.CreateFromBitString(fp_df.iloc[row_idx1][fp_type])\n",
        "        fp2 = DataStructs.CreateFromBitString(fp_df.iloc[row_idx2][fp_type])\n",
        "        print(f'{fp_type}: {DataStructs.TanimotoSimilarity(fp1, fp2):.3f}')\n",
        "\n",
        "    return MolsToGridImage([mol1,mol2],molsPerRow=2,subImgSize=(400, 400),legends=legends)"
      ]
    }
  ],
  "metadata": {
    "kernelspec": {
      "display_name": "my-rdkit-39env",
      "language": "python",
      "name": "python3"
    },
    "language_info": {
      "codemirror_mode": {
        "name": "ipython",
        "version": 3
      },
      "file_extension": ".py",
      "mimetype": "text/x-python",
      "name": "python",
      "nbconvert_exporter": "python",
      "pygments_lexer": "ipython3",
      "version": "3.9.15"
    },
    "colab": {
      "provenance": [],
      "include_colab_link": true
    },
    "widgets": {
      "application/vnd.jupyter.widget-state+json": {
        "cd789781693e4ac9969a577cd40b4dbf": {
          "model_module": "@jupyter-widgets/controls",
          "model_name": "VBoxModel",
          "model_module_version": "1.5.0",
          "state": {
            "_dom_classes": [
              "widget-interact"
            ],
            "_model_module": "@jupyter-widgets/controls",
            "_model_module_version": "1.5.0",
            "_model_name": "VBoxModel",
            "_view_count": null,
            "_view_module": "@jupyter-widgets/controls",
            "_view_module_version": "1.5.0",
            "_view_name": "VBoxView",
            "box_style": "",
            "children": [
              "IPY_MODEL_5b340822586f4c0ab6351398dedca2bf",
              "IPY_MODEL_f726d4cf4f8848c9a85101b6d965203e",
              "IPY_MODEL_0dc8fe03f72d438d862c490b843bbb6d"
            ],
            "layout": "IPY_MODEL_0d487b2a4d064aff903dfb25d789d4fc"
          }
        },
        "5b340822586f4c0ab6351398dedca2bf": {
          "model_module": "@jupyter-widgets/controls",
          "model_name": "IntSliderModel",
          "model_module_version": "1.5.0",
          "state": {
            "_dom_classes": [],
            "_model_module": "@jupyter-widgets/controls",
            "_model_module_version": "1.5.0",
            "_model_name": "IntSliderModel",
            "_view_count": null,
            "_view_module": "@jupyter-widgets/controls",
            "_view_module_version": "1.5.0",
            "_view_name": "IntSliderView",
            "continuous_update": true,
            "description": "pair_index",
            "description_tooltip": null,
            "disabled": false,
            "layout": "IPY_MODEL_376ed2ffcc9349f1b0da021a0bdacd45",
            "max": 44,
            "min": 0,
            "orientation": "horizontal",
            "readout": true,
            "readout_format": "d",
            "step": 1,
            "style": "IPY_MODEL_1e5cd817918646f1a4bbadf8001d8ea7",
            "value": 8
          }
        },
        "f726d4cf4f8848c9a85101b6d965203e": {
          "model_module": "@jupyter-widgets/controls",
          "model_name": "DropdownModel",
          "model_module_version": "1.5.0",
          "state": {
            "_dom_classes": [],
            "_model_module": "@jupyter-widgets/controls",
            "_model_module_version": "1.5.0",
            "_model_name": "DropdownModel",
            "_options_labels": [
              "rdkit",
              "fMorgan",
              "gobbi",
              "ecfp",
              "torsion",
              "avalon",
              "atompair"
            ],
            "_view_count": null,
            "_view_module": "@jupyter-widgets/controls",
            "_view_module_version": "1.5.0",
            "_view_name": "DropdownView",
            "description": "fp_type",
            "description_tooltip": null,
            "disabled": false,
            "index": 5,
            "layout": "IPY_MODEL_050d6b1e10344e1fb4d15141e5b0bbda",
            "style": "IPY_MODEL_26303f90ac6d409faf1c58aa13056b5f"
          }
        },
        "0dc8fe03f72d438d862c490b843bbb6d": {
          "model_module": "@jupyter-widgets/output",
          "model_name": "OutputModel",
          "model_module_version": "1.0.0",
          "state": {
            "_dom_classes": [],
            "_model_module": "@jupyter-widgets/output",
            "_model_module_version": "1.0.0",
            "_model_name": "OutputModel",
            "_view_count": null,
            "_view_module": "@jupyter-widgets/output",
            "_view_module_version": "1.0.0",
            "_view_name": "OutputView",
            "layout": "IPY_MODEL_74b148d53dd94aa186b852b07be9e366",
            "msg_id": "",
            "outputs": [
              {
                "output_type": "stream",
                "name": "stdout",
                "text": [
                  "Adjust the pair_index slider with the mouse or select the slider and and use the arrow keys \n",
                  "\n",
                  "<<BIT STRING GRIDS>>\n"
                ]
              },
              {
                "output_type": "display_data",
                "data": {
                  "text/plain": "<Figure size 1200x300 with 3 Axes>",
                  "image/png": "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\n"
                },
                "metadata": {}
              },
              {
                "output_type": "display_data",
                "data": {
                  "image/png": "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\n",
                  "text/plain": "<IPython.core.display.Image object>"
                },
                "metadata": {}
              }
            ]
          }
        },
        "0d487b2a4d064aff903dfb25d789d4fc": {
          "model_module": "@jupyter-widgets/base",
          "model_name": "LayoutModel",
          "model_module_version": "1.2.0",
          "state": {
            "_model_module": "@jupyter-widgets/base",
            "_model_module_version": "1.2.0",
            "_model_name": "LayoutModel",
            "_view_count": null,
            "_view_module": "@jupyter-widgets/base",
            "_view_module_version": "1.2.0",
            "_view_name": "LayoutView",
            "align_content": null,
            "align_items": null,
            "align_self": null,
            "border": null,
            "bottom": null,
            "display": null,
            "flex": null,
            "flex_flow": null,
            "grid_area": null,
            "grid_auto_columns": null,
            "grid_auto_flow": null,
            "grid_auto_rows": null,
            "grid_column": null,
            "grid_gap": null,
            "grid_row": null,
            "grid_template_areas": null,
            "grid_template_columns": null,
            "grid_template_rows": null,
            "height": null,
            "justify_content": null,
            "justify_items": null,
            "left": null,
            "margin": null,
            "max_height": null,
            "max_width": null,
            "min_height": null,
            "min_width": null,
            "object_fit": null,
            "object_position": null,
            "order": null,
            "overflow": null,
            "overflow_x": null,
            "overflow_y": null,
            "padding": null,
            "right": null,
            "top": null,
            "visibility": null,
            "width": null
          }
        },
        "376ed2ffcc9349f1b0da021a0bdacd45": {
          "model_module": "@jupyter-widgets/base",
          "model_name": "LayoutModel",
          "model_module_version": "1.2.0",
          "state": {
            "_model_module": "@jupyter-widgets/base",
            "_model_module_version": "1.2.0",
            "_model_name": "LayoutModel",
            "_view_count": null,
            "_view_module": "@jupyter-widgets/base",
            "_view_module_version": "1.2.0",
            "_view_name": "LayoutView",
            "align_content": null,
            "align_items": null,
            "align_self": null,
            "border": null,
            "bottom": null,
            "display": null,
            "flex": null,
            "flex_flow": null,
            "grid_area": null,
            "grid_auto_columns": null,
            "grid_auto_flow": null,
            "grid_auto_rows": null,
            "grid_column": null,
            "grid_gap": null,
            "grid_row": null,
            "grid_template_areas": null,
            "grid_template_columns": null,
            "grid_template_rows": null,
            "height": null,
            "justify_content": null,
            "justify_items": null,
            "left": null,
            "margin": null,
            "max_height": null,
            "max_width": null,
            "min_height": null,
            "min_width": null,
            "object_fit": null,
            "object_position": null,
            "order": null,
            "overflow": null,
            "overflow_x": null,
            "overflow_y": null,
            "padding": null,
            "right": null,
            "top": null,
            "visibility": null,
            "width": null
          }
        },
        "1e5cd817918646f1a4bbadf8001d8ea7": {
          "model_module": "@jupyter-widgets/controls",
          "model_name": "SliderStyleModel",
          "model_module_version": "1.5.0",
          "state": {
            "_model_module": "@jupyter-widgets/controls",
            "_model_module_version": "1.5.0",
            "_model_name": "SliderStyleModel",
            "_view_count": null,
            "_view_module": "@jupyter-widgets/base",
            "_view_module_version": "1.2.0",
            "_view_name": "StyleView",
            "description_width": "",
            "handle_color": null
          }
        },
        "050d6b1e10344e1fb4d15141e5b0bbda": {
          "model_module": "@jupyter-widgets/base",
          "model_name": "LayoutModel",
          "model_module_version": "1.2.0",
          "state": {
            "_model_module": "@jupyter-widgets/base",
            "_model_module_version": "1.2.0",
            "_model_name": "LayoutModel",
            "_view_count": null,
            "_view_module": "@jupyter-widgets/base",
            "_view_module_version": "1.2.0",
            "_view_name": "LayoutView",
            "align_content": null,
            "align_items": null,
            "align_self": null,
            "border": null,
            "bottom": null,
            "display": null,
            "flex": null,
            "flex_flow": null,
            "grid_area": null,
            "grid_auto_columns": null,
            "grid_auto_flow": null,
            "grid_auto_rows": null,
            "grid_column": null,
            "grid_gap": null,
            "grid_row": null,
            "grid_template_areas": null,
            "grid_template_columns": null,
            "grid_template_rows": null,
            "height": null,
            "justify_content": null,
            "justify_items": null,
            "left": null,
            "margin": null,
            "max_height": null,
            "max_width": null,
            "min_height": null,
            "min_width": null,
            "object_fit": null,
            "object_position": null,
            "order": null,
            "overflow": null,
            "overflow_x": null,
            "overflow_y": null,
            "padding": null,
            "right": null,
            "top": null,
            "visibility": null,
            "width": null
          }
        },
        "26303f90ac6d409faf1c58aa13056b5f": {
          "model_module": "@jupyter-widgets/controls",
          "model_name": "DescriptionStyleModel",
          "model_module_version": "1.5.0",
          "state": {
            "_model_module": "@jupyter-widgets/controls",
            "_model_module_version": "1.5.0",
            "_model_name": "DescriptionStyleModel",
            "_view_count": null,
            "_view_module": "@jupyter-widgets/base",
            "_view_module_version": "1.2.0",
            "_view_name": "StyleView",
            "description_width": ""
          }
        },
        "74b148d53dd94aa186b852b07be9e366": {
          "model_module": "@jupyter-widgets/base",
          "model_name": "LayoutModel",
          "model_module_version": "1.2.0",
          "state": {
            "_model_module": "@jupyter-widgets/base",
            "_model_module_version": "1.2.0",
            "_model_name": "LayoutModel",
            "_view_count": null,
            "_view_module": "@jupyter-widgets/base",
            "_view_module_version": "1.2.0",
            "_view_name": "LayoutView",
            "align_content": null,
            "align_items": null,
            "align_self": null,
            "border": null,
            "bottom": null,
            "display": null,
            "flex": null,
            "flex_flow": null,
            "grid_area": null,
            "grid_auto_columns": null,
            "grid_auto_flow": null,
            "grid_auto_rows": null,
            "grid_column": null,
            "grid_gap": null,
            "grid_row": null,
            "grid_template_areas": null,
            "grid_template_columns": null,
            "grid_template_rows": null,
            "height": null,
            "justify_content": null,
            "justify_items": null,
            "left": null,
            "margin": null,
            "max_height": null,
            "max_width": null,
            "min_height": null,
            "min_width": null,
            "object_fit": null,
            "object_position": null,
            "order": null,
            "overflow": null,
            "overflow_x": null,
            "overflow_y": null,
            "padding": null,
            "right": null,
            "top": null,
            "visibility": null,
            "width": null
          }
        },
        "c854772914a04b67893f020cdc584fd0": {
          "model_module": "@jupyter-widgets/controls",
          "model_name": "VBoxModel",
          "model_module_version": "1.5.0",
          "state": {
            "_dom_classes": [
              "widget-interact"
            ],
            "_model_module": "@jupyter-widgets/controls",
            "_model_module_version": "1.5.0",
            "_model_name": "VBoxModel",
            "_view_count": null,
            "_view_module": "@jupyter-widgets/controls",
            "_view_module_version": "1.5.0",
            "_view_name": "VBoxView",
            "box_style": "",
            "children": [
              "IPY_MODEL_dd0f5b7672fc44e49a5d075986760e44",
              "IPY_MODEL_1aad761b3fd842f88c7f6627e4cf40fb"
            ],
            "layout": "IPY_MODEL_32c2a832f48b480aae205e792011b465"
          }
        },
        "dd0f5b7672fc44e49a5d075986760e44": {
          "model_module": "@jupyter-widgets/controls",
          "model_name": "IntSliderModel",
          "model_module_version": "1.5.0",
          "state": {
            "_dom_classes": [],
            "_model_module": "@jupyter-widgets/controls",
            "_model_module_version": "1.5.0",
            "_model_name": "IntSliderModel",
            "_view_count": null,
            "_view_module": "@jupyter-widgets/controls",
            "_view_module_version": "1.5.0",
            "_view_name": "IntSliderView",
            "continuous_update": true,
            "description": "pair_index",
            "description_tooltip": null,
            "disabled": false,
            "layout": "IPY_MODEL_e55e85b01bb449308264e4ac7cb6cdd8",
            "max": 45,
            "min": 0,
            "orientation": "horizontal",
            "readout": true,
            "readout_format": "d",
            "step": 1,
            "style": "IPY_MODEL_de84442b4e8248babfa10ef3c23bae64",
            "value": 9
          }
        },
        "1aad761b3fd842f88c7f6627e4cf40fb": {
          "model_module": "@jupyter-widgets/output",
          "model_name": "OutputModel",
          "model_module_version": "1.0.0",
          "state": {
            "_dom_classes": [],
            "_model_module": "@jupyter-widgets/output",
            "_model_module_version": "1.0.0",
            "_model_name": "OutputModel",
            "_view_count": null,
            "_view_module": "@jupyter-widgets/output",
            "_view_module_version": "1.0.0",
            "_view_name": "OutputView",
            "layout": "IPY_MODEL_cffde83da7354dae98056a15b45082da",
            "msg_id": "",
            "outputs": [
              {
                "output_type": "stream",
                "name": "stdout",
                "text": [
                  "Adjust the pair_index slider with the mouse or select the slider and and use the arrow keys \n",
                  "\n",
                  "<<TANIMOTO SCORES>>\n",
                  "rdkit: 0.792\n",
                  "fMorgan: 0.597\n",
                  "gobbi: 0.729\n",
                  "ecfp: 0.570\n",
                  "torsion: 0.548\n",
                  "avalon: 0.940\n",
                  "atompair: 0.720\n"
                ]
              },
              {
                "output_type": "display_data",
                "data": {
                  "image/png": "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\n",
                  "text/plain": "<IPython.core.display.Image object>"
                },
                "metadata": {}
              }
            ]
          }
        },
        "32c2a832f48b480aae205e792011b465": {
          "model_module": "@jupyter-widgets/base",
          "model_name": "LayoutModel",
          "model_module_version": "1.2.0",
          "state": {
            "_model_module": "@jupyter-widgets/base",
            "_model_module_version": "1.2.0",
            "_model_name": "LayoutModel",
            "_view_count": null,
            "_view_module": "@jupyter-widgets/base",
            "_view_module_version": "1.2.0",
            "_view_name": "LayoutView",
            "align_content": null,
            "align_items": null,
            "align_self": null,
            "border": null,
            "bottom": null,
            "display": null,
            "flex": null,
            "flex_flow": null,
            "grid_area": null,
            "grid_auto_columns": null,
            "grid_auto_flow": null,
            "grid_auto_rows": null,
            "grid_column": null,
            "grid_gap": null,
            "grid_row": null,
            "grid_template_areas": null,
            "grid_template_columns": null,
            "grid_template_rows": null,
            "height": null,
            "justify_content": null,
            "justify_items": null,
            "left": null,
            "margin": null,
            "max_height": null,
            "max_width": null,
            "min_height": null,
            "min_width": null,
            "object_fit": null,
            "object_position": null,
            "order": null,
            "overflow": null,
            "overflow_x": null,
            "overflow_y": null,
            "padding": null,
            "right": null,
            "top": null,
            "visibility": null,
            "width": null
          }
        },
        "e55e85b01bb449308264e4ac7cb6cdd8": {
          "model_module": "@jupyter-widgets/base",
          "model_name": "LayoutModel",
          "model_module_version": "1.2.0",
          "state": {
            "_model_module": "@jupyter-widgets/base",
            "_model_module_version": "1.2.0",
            "_model_name": "LayoutModel",
            "_view_count": null,
            "_view_module": "@jupyter-widgets/base",
            "_view_module_version": "1.2.0",
            "_view_name": "LayoutView",
            "align_content": null,
            "align_items": null,
            "align_self": null,
            "border": null,
            "bottom": null,
            "display": null,
            "flex": null,
            "flex_flow": null,
            "grid_area": null,
            "grid_auto_columns": null,
            "grid_auto_flow": null,
            "grid_auto_rows": null,
            "grid_column": null,
            "grid_gap": null,
            "grid_row": null,
            "grid_template_areas": null,
            "grid_template_columns": null,
            "grid_template_rows": null,
            "height": null,
            "justify_content": null,
            "justify_items": null,
            "left": null,
            "margin": null,
            "max_height": null,
            "max_width": null,
            "min_height": null,
            "min_width": null,
            "object_fit": null,
            "object_position": null,
            "order": null,
            "overflow": null,
            "overflow_x": null,
            "overflow_y": null,
            "padding": null,
            "right": null,
            "top": null,
            "visibility": null,
            "width": null
          }
        },
        "de84442b4e8248babfa10ef3c23bae64": {
          "model_module": "@jupyter-widgets/controls",
          "model_name": "SliderStyleModel",
          "model_module_version": "1.5.0",
          "state": {
            "_model_module": "@jupyter-widgets/controls",
            "_model_module_version": "1.5.0",
            "_model_name": "SliderStyleModel",
            "_view_count": null,
            "_view_module": "@jupyter-widgets/base",
            "_view_module_version": "1.2.0",
            "_view_name": "StyleView",
            "description_width": "",
            "handle_color": null
          }
        },
        "cffde83da7354dae98056a15b45082da": {
          "model_module": "@jupyter-widgets/base",
          "model_name": "LayoutModel",
          "model_module_version": "1.2.0",
          "state": {
            "_model_module": "@jupyter-widgets/base",
            "_model_module_version": "1.2.0",
            "_model_name": "LayoutModel",
            "_view_count": null,
            "_view_module": "@jupyter-widgets/base",
            "_view_module_version": "1.2.0",
            "_view_name": "LayoutView",
            "align_content": null,
            "align_items": null,
            "align_self": null,
            "border": null,
            "bottom": null,
            "display": null,
            "flex": null,
            "flex_flow": null,
            "grid_area": null,
            "grid_auto_columns": null,
            "grid_auto_flow": null,
            "grid_auto_rows": null,
            "grid_column": null,
            "grid_gap": null,
            "grid_row": null,
            "grid_template_areas": null,
            "grid_template_columns": null,
            "grid_template_rows": null,
            "height": null,
            "justify_content": null,
            "justify_items": null,
            "left": null,
            "margin": null,
            "max_height": null,
            "max_width": null,
            "min_height": null,
            "min_width": null,
            "object_fit": null,
            "object_position": null,
            "order": null,
            "overflow": null,
            "overflow_x": null,
            "overflow_y": null,
            "padding": null,
            "right": null,
            "top": null,
            "visibility": null,
            "width": null
          }
        }
      }
    }
  },
  "nbformat": 4,
  "nbformat_minor": 0
}